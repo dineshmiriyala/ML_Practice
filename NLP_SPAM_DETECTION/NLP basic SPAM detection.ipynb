{
  "nbformat": 4,
  "nbformat_minor": 0,
  "metadata": {
    "colab": {
      "provenance": []
    },
    "kernelspec": {
      "name": "python3",
      "display_name": "Python 3"
    },
    "language_info": {
      "name": "python"
    }
  },
  "cells": [
    {
      "cell_type": "code",
      "execution_count": 13,
      "metadata": {
        "colab": {
          "base_uri": "https://localhost:8080/"
        },
        "id": "k6Kuz9WaLEKK",
        "outputId": "ef1059ef-ea26-4762-c32f-e3e24a37590a"
      },
      "outputs": [
        {
          "output_type": "stream",
          "name": "stdout",
          "text": [
            "Looking in indexes: https://pypi.org/simple, https://us-python.pkg.dev/colab-wheels/public/simple/\n",
            "Requirement already satisfied: kaggle in /usr/local/lib/python3.8/dist-packages (1.5.12)\n",
            "Requirement already satisfied: six>=1.10 in /usr/local/lib/python3.8/dist-packages (from kaggle) (1.15.0)\n",
            "Requirement already satisfied: urllib3 in /usr/local/lib/python3.8/dist-packages (from kaggle) (1.24.3)\n",
            "Requirement already satisfied: tqdm in /usr/local/lib/python3.8/dist-packages (from kaggle) (4.64.1)\n",
            "Requirement already satisfied: requests in /usr/local/lib/python3.8/dist-packages (from kaggle) (2.25.1)\n",
            "Requirement already satisfied: python-dateutil in /usr/local/lib/python3.8/dist-packages (from kaggle) (2.8.2)\n",
            "Requirement already satisfied: python-slugify in /usr/local/lib/python3.8/dist-packages (from kaggle) (8.0.0)\n",
            "Requirement already satisfied: certifi in /usr/local/lib/python3.8/dist-packages (from kaggle) (2022.12.7)\n",
            "Requirement already satisfied: text-unidecode>=1.3 in /usr/local/lib/python3.8/dist-packages (from python-slugify->kaggle) (1.3)\n",
            "Requirement already satisfied: chardet<5,>=3.0.2 in /usr/local/lib/python3.8/dist-packages (from requests->kaggle) (4.0.0)\n",
            "Requirement already satisfied: idna<3,>=2.5 in /usr/local/lib/python3.8/dist-packages (from requests->kaggle) (2.10)\n"
          ]
        }
      ],
      "source": [
        "import numpy\n",
        "import pandas\n",
        "!pip install kaggle"
      ]
    },
    {
      "cell_type": "code",
      "source": [
        "!mkdir ~/.kaggle\n",
        "! cp kaggle.json ~/.kaggle/\n",
        "! chmod 600 ~/.kaggle/kaggle.json"
      ],
      "metadata": {
        "id": "XGcpkXNzWPuH",
        "colab": {
          "base_uri": "https://localhost:8080/"
        },
        "outputId": "324298b7-137f-4c1d-d38b-193ec45f9e7c"
      },
      "execution_count": 14,
      "outputs": [
        {
          "output_type": "stream",
          "name": "stdout",
          "text": [
            "mkdir: cannot create directory ‘/root/.kaggle’: File exists\n"
          ]
        }
      ]
    },
    {
      "cell_type": "code",
      "source": [
        "! kaggle datasets download mandygu/lingspam-dataset"
      ],
      "metadata": {
        "colab": {
          "base_uri": "https://localhost:8080/"
        },
        "id": "cKJ7IDPqWfSf",
        "outputId": "48af8925-1a01-4b90-d186-092908fa63f9"
      },
      "execution_count": 15,
      "outputs": [
        {
          "output_type": "stream",
          "name": "stdout",
          "text": [
            "Downloading lingspam-dataset.zip to /content\n",
            "\r  0% 0.00/3.12M [00:00<?, ?B/s]\n",
            "\r100% 3.12M/3.12M [00:00<00:00, 110MB/s]\n"
          ]
        }
      ]
    },
    {
      "cell_type": "code",
      "source": [
        "!unzip lingspam-dataset.zip"
      ],
      "metadata": {
        "colab": {
          "base_uri": "https://localhost:8080/"
        },
        "id": "B_EZ9RQCWy27",
        "outputId": "1d6a64fc-13ac-4882-86b6-ae5d0d91f89d"
      },
      "execution_count": 16,
      "outputs": [
        {
          "output_type": "stream",
          "name": "stdout",
          "text": [
            "Archive:  lingspam-dataset.zip\n",
            "  inflating: messages.csv            \n"
          ]
        }
      ]
    },
    {
      "cell_type": "code",
      "source": [
        "file = pandas.read_csv('/content/messages.csv' , encoding = 'Latin-1')\n",
        "file"
      ],
      "metadata": {
        "colab": {
          "base_uri": "https://localhost:8080/",
          "height": 780
        },
        "id": "9rRxwFwpTbeY",
        "outputId": "57426269-7167-426f-dfb3-8ec83d0efe29"
      },
      "execution_count": 17,
      "outputs": [
        {
          "output_type": "execute_result",
          "data": {
            "text/plain": [
              "                                                     subject  \\\n",
              "0                    job posting - apple-iss research center   \n",
              "1                                                        NaN   \n",
              "2         query : letter frequencies for text identification   \n",
              "3                                                       risk   \n",
              "4                                   request book information   \n",
              "...                                                      ...   \n",
              "2888                            love your profile - ysuolvpv   \n",
              "2889                      you have been asked to join kiddin   \n",
              "2890                      anglicization of composers ' names   \n",
              "2891  re : 6 . 797 , comparative method : n - ary comparison   \n",
              "2892                    re : american - english in australia   \n",
              "\n",
              "                                                                                                                                                                                                                                                                                                                                                                                                                                                                                                                                                                                                                      message  \\\n",
              "0     content - length : 3386 apple-iss research center a us $ 10 million joint venture between apple computer inc . and the institute of systems science of the national university of singapore , located in singapore , is looking for : a senior speech scientist - - - - - - - - - - - - - - - - - - - - - - - - - the successful candidate will have research expertise in computational linguistics , including natural language processing and * * english * * and * * chinese * * statistical language modeling . knowledge of state-of - the-art corpus-based n - gram language models , cache language models ,...   \n",
              "1     lang classification grimes , joseph e . and barbara f . grimes ; ethnologue language family index ; pb . isbn : 0-88312 - 708 - 3 ; vi , 116 pp . ; $ 14 . 00 . summer institute of linguistics . this companion volume to ethnologue : languages of the world , twelfth edition lists language families of the world with sub-groups shown in a tree arrangement under the broadest classification of language family . the language family index facilitates locating language names in the ethnologue , making the data there more accessible . internet : academic . books @ sil . org languages , reference lan...   \n",
              "2     i am posting this inquiry for sergei atamas ( satamas @ umabnet . ab . umd . edu ) , a research associate at the university of maryland at baltimore . his field is molecular biology , and his work involves comparing dna strings using various algorithms . i do n't understand the details well enough to pass them along . at any rate , one such algorithm relies upon frequencies with which the letters g , a , t , and c occur in the dna strings . he would like to explore the analogous use of letter ( sound ) frequencies in natural language texts . hence this posting . specifically , sergei wonde...   \n",
              "3                                                                                                                                                                                                                                                                                       a colleague and i are researching the differing degrees of risk perceived by our hong kong students in different contexts where spoken english is required . we would be interested to find out more about research in the area of risk-taking in language learning . so far we have n't come up with much . can anyone help here ?\\n   \n",
              "4     earlier this morning i was on the phone with a friend of mine living in south america . as we were talking in spanish , he said : \" si voy a la liberi ' a , comprare ' el libro \" which can be rendered into english as \" if i go to the bookstore , i will purchase it \" . i found this expression a bit unusual so i asked him saying that he really meant to say \" si fuese a la libreri ' a , comprari ' a el libro \" or \" if i were to go to the bookstore , i would buy it \" to which he said to me , \" ah , the subjunctive is dead in spanish ! \" . weather this is a matter of subjunctive discussion or n...   \n",
              "...                                                                                                                                                                                                                                                                                                                                                                                                                                                                                                                                                                                                                       ...   \n",
              "2888                                                                                                                                                                                                                                                                                                                                                  hello thanks for stopping by ! ! we have taken many new pics and made some hot new videos ! they are the most erotic we have done ! stop by and be our guest for oodles of free fun ! click here and enter we thank you for all your business in the past ! the haven\\n   \n",
              "2889  the list owner of : \" kiddin \" has invited you to join their mailing list at listbot . you must reply to this message to join the list . = = simply reply with a blank message to join . = = the list owner has included the following welcome message : = = = = = = = = = = = = = = = = = = = = = = = = = = = = = = = = = = = = = = = = = = = = = = = = = = = = = = = = = = = hi guys ! this is just a quick message to invite you to join kiddin , a uk based daily humour list . . . . . . . . . . and because we think you ' re all groovy people who deserve to know . to sign up : hit reply and send the repl...   \n",
              "2890  judging from the return post , i must have sounded like some kind of self-proclaimed expert on composers ' names . let me hasten to say that i ' m not . all the pronunciations i put in that little list came as surprises to me . in all cases but one , they were given to me by native speakers of the composers ' language , while i was visiting the composers ' native country . i do n't speak any of those languages and certainly do not claim any expertise . i ' ve just been trusting \" competent native speakers \" . the one exception , by the way , was when karl haas , on one of his daily \" adven...   \n",
              "2891  gotcha ! there are two separate fallacies in the argument against n-ary comparison which i discussed recently and which powers , delancey , and guy are now apparently seeking to defend . ( 1 ) janhunen says that the probability of a match occurring purely by chance when you compare japanese with four languages is four times what it is when you compare it with one language . this simply cannot be true because probabilities are values between 0 and 1 . if the probablity in the case of a binary comparison was say . 5 , then he would be predicting that it would be 2 in the case of n-ary compar...   \n",
              "2892  hello ! i ' m working on a thesis concerning attitudes toward america and the use of american - english by australia . i would be interested in hearing from anyone who has researched this field or who knows of recent research . i ' m particularly interested in the methods used to illicit or ascertain the use of target vocabulary ( eg . pharmacist vs chemist , candy vs lollies etc . ) if you can help , please email jmar2 @ mfs01 . cc . monash . edu . au an edited list of responses will be posted on the linguist list thank you , jessica marks = = = = = = = = = = = = = = = = = = = = = = = = =...   \n",
              "\n",
              "      label  \n",
              "0         0  \n",
              "1         0  \n",
              "2         0  \n",
              "3         0  \n",
              "4         0  \n",
              "...     ...  \n",
              "2888      1  \n",
              "2889      1  \n",
              "2890      0  \n",
              "2891      0  \n",
              "2892      0  \n",
              "\n",
              "[2893 rows x 3 columns]"
            ],
            "text/html": [
              "\n",
              "  <div id=\"df-d456fdce-6624-412d-bf30-fe337c07ae49\">\n",
              "    <div class=\"colab-df-container\">\n",
              "      <div>\n",
              "<style scoped>\n",
              "    .dataframe tbody tr th:only-of-type {\n",
              "        vertical-align: middle;\n",
              "    }\n",
              "\n",
              "    .dataframe tbody tr th {\n",
              "        vertical-align: top;\n",
              "    }\n",
              "\n",
              "    .dataframe thead th {\n",
              "        text-align: right;\n",
              "    }\n",
              "</style>\n",
              "<table border=\"1\" class=\"dataframe\">\n",
              "  <thead>\n",
              "    <tr style=\"text-align: right;\">\n",
              "      <th></th>\n",
              "      <th>subject</th>\n",
              "      <th>message</th>\n",
              "      <th>label</th>\n",
              "    </tr>\n",
              "  </thead>\n",
              "  <tbody>\n",
              "    <tr>\n",
              "      <th>0</th>\n",
              "      <td>job posting - apple-iss research center</td>\n",
              "      <td>content - length : 3386 apple-iss research center a us $ 10 million joint venture between apple computer inc . and the institute of systems science of the national university of singapore , located in singapore , is looking for : a senior speech scientist - - - - - - - - - - - - - - - - - - - - - - - - - the successful candidate will have research expertise in computational linguistics , including natural language processing and * * english * * and * * chinese * * statistical language modeling . knowledge of state-of - the-art corpus-based n - gram language models , cache language models ,...</td>\n",
              "      <td>0</td>\n",
              "    </tr>\n",
              "    <tr>\n",
              "      <th>1</th>\n",
              "      <td>NaN</td>\n",
              "      <td>lang classification grimes , joseph e . and barbara f . grimes ; ethnologue language family index ; pb . isbn : 0-88312 - 708 - 3 ; vi , 116 pp . ; $ 14 . 00 . summer institute of linguistics . this companion volume to ethnologue : languages of the world , twelfth edition lists language families of the world with sub-groups shown in a tree arrangement under the broadest classification of language family . the language family index facilitates locating language names in the ethnologue , making the data there more accessible . internet : academic . books @ sil . org languages , reference lan...</td>\n",
              "      <td>0</td>\n",
              "    </tr>\n",
              "    <tr>\n",
              "      <th>2</th>\n",
              "      <td>query : letter frequencies for text identification</td>\n",
              "      <td>i am posting this inquiry for sergei atamas ( satamas @ umabnet . ab . umd . edu ) , a research associate at the university of maryland at baltimore . his field is molecular biology , and his work involves comparing dna strings using various algorithms . i do n't understand the details well enough to pass them along . at any rate , one such algorithm relies upon frequencies with which the letters g , a , t , and c occur in the dna strings . he would like to explore the analogous use of letter ( sound ) frequencies in natural language texts . hence this posting . specifically , sergei wonde...</td>\n",
              "      <td>0</td>\n",
              "    </tr>\n",
              "    <tr>\n",
              "      <th>3</th>\n",
              "      <td>risk</td>\n",
              "      <td>a colleague and i are researching the differing degrees of risk perceived by our hong kong students in different contexts where spoken english is required . we would be interested to find out more about research in the area of risk-taking in language learning . so far we have n't come up with much . can anyone help here ?\\n</td>\n",
              "      <td>0</td>\n",
              "    </tr>\n",
              "    <tr>\n",
              "      <th>4</th>\n",
              "      <td>request book information</td>\n",
              "      <td>earlier this morning i was on the phone with a friend of mine living in south america . as we were talking in spanish , he said : \" si voy a la liberi ' a , comprare ' el libro \" which can be rendered into english as \" if i go to the bookstore , i will purchase it \" . i found this expression a bit unusual so i asked him saying that he really meant to say \" si fuese a la libreri ' a , comprari ' a el libro \" or \" if i were to go to the bookstore , i would buy it \" to which he said to me , \" ah , the subjunctive is dead in spanish ! \" . weather this is a matter of subjunctive discussion or n...</td>\n",
              "      <td>0</td>\n",
              "    </tr>\n",
              "    <tr>\n",
              "      <th>...</th>\n",
              "      <td>...</td>\n",
              "      <td>...</td>\n",
              "      <td>...</td>\n",
              "    </tr>\n",
              "    <tr>\n",
              "      <th>2888</th>\n",
              "      <td>love your profile - ysuolvpv</td>\n",
              "      <td>hello thanks for stopping by ! ! we have taken many new pics and made some hot new videos ! they are the most erotic we have done ! stop by and be our guest for oodles of free fun ! click here and enter we thank you for all your business in the past ! the haven\\n</td>\n",
              "      <td>1</td>\n",
              "    </tr>\n",
              "    <tr>\n",
              "      <th>2889</th>\n",
              "      <td>you have been asked to join kiddin</td>\n",
              "      <td>the list owner of : \" kiddin \" has invited you to join their mailing list at listbot . you must reply to this message to join the list . = = simply reply with a blank message to join . = = the list owner has included the following welcome message : = = = = = = = = = = = = = = = = = = = = = = = = = = = = = = = = = = = = = = = = = = = = = = = = = = = = = = = = = = = hi guys ! this is just a quick message to invite you to join kiddin , a uk based daily humour list . . . . . . . . . . and because we think you ' re all groovy people who deserve to know . to sign up : hit reply and send the repl...</td>\n",
              "      <td>1</td>\n",
              "    </tr>\n",
              "    <tr>\n",
              "      <th>2890</th>\n",
              "      <td>anglicization of composers ' names</td>\n",
              "      <td>judging from the return post , i must have sounded like some kind of self-proclaimed expert on composers ' names . let me hasten to say that i ' m not . all the pronunciations i put in that little list came as surprises to me . in all cases but one , they were given to me by native speakers of the composers ' language , while i was visiting the composers ' native country . i do n't speak any of those languages and certainly do not claim any expertise . i ' ve just been trusting \" competent native speakers \" . the one exception , by the way , was when karl haas , on one of his daily \" adven...</td>\n",
              "      <td>0</td>\n",
              "    </tr>\n",
              "    <tr>\n",
              "      <th>2891</th>\n",
              "      <td>re : 6 . 797 , comparative method : n - ary comparison</td>\n",
              "      <td>gotcha ! there are two separate fallacies in the argument against n-ary comparison which i discussed recently and which powers , delancey , and guy are now apparently seeking to defend . ( 1 ) janhunen says that the probability of a match occurring purely by chance when you compare japanese with four languages is four times what it is when you compare it with one language . this simply cannot be true because probabilities are values between 0 and 1 . if the probablity in the case of a binary comparison was say . 5 , then he would be predicting that it would be 2 in the case of n-ary compar...</td>\n",
              "      <td>0</td>\n",
              "    </tr>\n",
              "    <tr>\n",
              "      <th>2892</th>\n",
              "      <td>re : american - english in australia</td>\n",
              "      <td>hello ! i ' m working on a thesis concerning attitudes toward america and the use of american - english by australia . i would be interested in hearing from anyone who has researched this field or who knows of recent research . i ' m particularly interested in the methods used to illicit or ascertain the use of target vocabulary ( eg . pharmacist vs chemist , candy vs lollies etc . ) if you can help , please email jmar2 @ mfs01 . cc . monash . edu . au an edited list of responses will be posted on the linguist list thank you , jessica marks = = = = = = = = = = = = = = = = = = = = = = = = =...</td>\n",
              "      <td>0</td>\n",
              "    </tr>\n",
              "  </tbody>\n",
              "</table>\n",
              "<p>2893 rows × 3 columns</p>\n",
              "</div>\n",
              "      <button class=\"colab-df-convert\" onclick=\"convertToInteractive('df-d456fdce-6624-412d-bf30-fe337c07ae49')\"\n",
              "              title=\"Convert this dataframe to an interactive table.\"\n",
              "              style=\"display:none;\">\n",
              "        \n",
              "  <svg xmlns=\"http://www.w3.org/2000/svg\" height=\"24px\"viewBox=\"0 0 24 24\"\n",
              "       width=\"24px\">\n",
              "    <path d=\"M0 0h24v24H0V0z\" fill=\"none\"/>\n",
              "    <path d=\"M18.56 5.44l.94 2.06.94-2.06 2.06-.94-2.06-.94-.94-2.06-.94 2.06-2.06.94zm-11 1L8.5 8.5l.94-2.06 2.06-.94-2.06-.94L8.5 2.5l-.94 2.06-2.06.94zm10 10l.94 2.06.94-2.06 2.06-.94-2.06-.94-.94-2.06-.94 2.06-2.06.94z\"/><path d=\"M17.41 7.96l-1.37-1.37c-.4-.4-.92-.59-1.43-.59-.52 0-1.04.2-1.43.59L10.3 9.45l-7.72 7.72c-.78.78-.78 2.05 0 2.83L4 21.41c.39.39.9.59 1.41.59.51 0 1.02-.2 1.41-.59l7.78-7.78 2.81-2.81c.8-.78.8-2.07 0-2.86zM5.41 20L4 18.59l7.72-7.72 1.47 1.35L5.41 20z\"/>\n",
              "  </svg>\n",
              "      </button>\n",
              "      \n",
              "  <style>\n",
              "    .colab-df-container {\n",
              "      display:flex;\n",
              "      flex-wrap:wrap;\n",
              "      gap: 12px;\n",
              "    }\n",
              "\n",
              "    .colab-df-convert {\n",
              "      background-color: #E8F0FE;\n",
              "      border: none;\n",
              "      border-radius: 50%;\n",
              "      cursor: pointer;\n",
              "      display: none;\n",
              "      fill: #1967D2;\n",
              "      height: 32px;\n",
              "      padding: 0 0 0 0;\n",
              "      width: 32px;\n",
              "    }\n",
              "\n",
              "    .colab-df-convert:hover {\n",
              "      background-color: #E2EBFA;\n",
              "      box-shadow: 0px 1px 2px rgba(60, 64, 67, 0.3), 0px 1px 3px 1px rgba(60, 64, 67, 0.15);\n",
              "      fill: #174EA6;\n",
              "    }\n",
              "\n",
              "    [theme=dark] .colab-df-convert {\n",
              "      background-color: #3B4455;\n",
              "      fill: #D2E3FC;\n",
              "    }\n",
              "\n",
              "    [theme=dark] .colab-df-convert:hover {\n",
              "      background-color: #434B5C;\n",
              "      box-shadow: 0px 1px 3px 1px rgba(0, 0, 0, 0.15);\n",
              "      filter: drop-shadow(0px 1px 2px rgba(0, 0, 0, 0.3));\n",
              "      fill: #FFFFFF;\n",
              "    }\n",
              "  </style>\n",
              "\n",
              "      <script>\n",
              "        const buttonEl =\n",
              "          document.querySelector('#df-d456fdce-6624-412d-bf30-fe337c07ae49 button.colab-df-convert');\n",
              "        buttonEl.style.display =\n",
              "          google.colab.kernel.accessAllowed ? 'block' : 'none';\n",
              "\n",
              "        async function convertToInteractive(key) {\n",
              "          const element = document.querySelector('#df-d456fdce-6624-412d-bf30-fe337c07ae49');\n",
              "          const dataTable =\n",
              "            await google.colab.kernel.invokeFunction('convertToInteractive',\n",
              "                                                     [key], {});\n",
              "          if (!dataTable) return;\n",
              "\n",
              "          const docLinkHtml = 'Like what you see? Visit the ' +\n",
              "            '<a target=\"_blank\" href=https://colab.research.google.com/notebooks/data_table.ipynb>data table notebook</a>'\n",
              "            + ' to learn more about interactive tables.';\n",
              "          element.innerHTML = '';\n",
              "          dataTable['output_type'] = 'display_data';\n",
              "          await google.colab.output.renderOutput(dataTable, element);\n",
              "          const docLink = document.createElement('div');\n",
              "          docLink.innerHTML = docLinkHtml;\n",
              "          element.appendChild(docLink);\n",
              "        }\n",
              "      </script>\n",
              "    </div>\n",
              "  </div>\n",
              "  "
            ]
          },
          "metadata": {},
          "execution_count": 17
        }
      ]
    },
    {
      "cell_type": "markdown",
      "source": [
        "# Data Preprocessing\n",
        "\n",
        "Here in this section we will be preparing the data for feature engineering."
      ],
      "metadata": {
        "id": "171FF5DJXygj"
      }
    },
    {
      "cell_type": "code",
      "source": [
        "file.isnull().sum()"
      ],
      "metadata": {
        "colab": {
          "base_uri": "https://localhost:8080/"
        },
        "id": "3hftDs0sXE0Q",
        "outputId": "b6e9c94f-9a4a-4f86-8efa-0639f3a472e5"
      },
      "execution_count": 18,
      "outputs": [
        {
          "output_type": "execute_result",
          "data": {
            "text/plain": [
              "subject    62\n",
              "message     0\n",
              "label       0\n",
              "dtype: int64"
            ]
          },
          "metadata": {},
          "execution_count": 18
        }
      ]
    },
    {
      "cell_type": "code",
      "source": [
        "file.fillna(file['subject'].mode().values[0] , inplace = True)"
      ],
      "metadata": {
        "id": "CEWSMAzRYOCw"
      },
      "execution_count": 19,
      "outputs": []
    },
    {
      "cell_type": "code",
      "source": [
        "file.isnull().sum()"
      ],
      "metadata": {
        "colab": {
          "base_uri": "https://localhost:8080/"
        },
        "id": "_ivn_uL5YlZ-",
        "outputId": "7d632550-8c7a-468f-faab-ba4e0f97ff46"
      },
      "execution_count": 20,
      "outputs": [
        {
          "output_type": "execute_result",
          "data": {
            "text/plain": [
              "subject    0\n",
              "message    0\n",
              "label      0\n",
              "dtype: int64"
            ]
          },
          "metadata": {},
          "execution_count": 20
        }
      ]
    },
    {
      "cell_type": "markdown",
      "source": [
        "Here since we are dealing with mail, we will have both subject and message. To make processing easy for us I will be clubbing both subject and message and make it a new columns"
      ],
      "metadata": {
        "id": "WsbTA504Yz7S"
      }
    },
    {
      "cell_type": "code",
      "source": [
        "file['submsg'] = file['subject'] + file['message']\n",
        "file"
      ],
      "metadata": {
        "colab": {
          "base_uri": "https://localhost:8080/",
          "height": 1000
        },
        "id": "VB5gQm6ZY-IX",
        "outputId": "daf14d5f-34fe-422c-e468-f40e763a36ca"
      },
      "execution_count": 21,
      "outputs": [
        {
          "output_type": "execute_result",
          "data": {
            "text/plain": [
              "                                                     subject  \\\n",
              "0                    job posting - apple-iss research center   \n",
              "1                                           sociolinguistics   \n",
              "2         query : letter frequencies for text identification   \n",
              "3                                                       risk   \n",
              "4                                   request book information   \n",
              "...                                                      ...   \n",
              "2888                            love your profile - ysuolvpv   \n",
              "2889                      you have been asked to join kiddin   \n",
              "2890                      anglicization of composers ' names   \n",
              "2891  re : 6 . 797 , comparative method : n - ary comparison   \n",
              "2892                    re : american - english in australia   \n",
              "\n",
              "                                                                                                                                                                                                                                                                                                                                                                                                                                                                                                                                                                                                                      message  \\\n",
              "0     content - length : 3386 apple-iss research center a us $ 10 million joint venture between apple computer inc . and the institute of systems science of the national university of singapore , located in singapore , is looking for : a senior speech scientist - - - - - - - - - - - - - - - - - - - - - - - - - the successful candidate will have research expertise in computational linguistics , including natural language processing and * * english * * and * * chinese * * statistical language modeling . knowledge of state-of - the-art corpus-based n - gram language models , cache language models ,...   \n",
              "1     lang classification grimes , joseph e . and barbara f . grimes ; ethnologue language family index ; pb . isbn : 0-88312 - 708 - 3 ; vi , 116 pp . ; $ 14 . 00 . summer institute of linguistics . this companion volume to ethnologue : languages of the world , twelfth edition lists language families of the world with sub-groups shown in a tree arrangement under the broadest classification of language family . the language family index facilitates locating language names in the ethnologue , making the data there more accessible . internet : academic . books @ sil . org languages , reference lan...   \n",
              "2     i am posting this inquiry for sergei atamas ( satamas @ umabnet . ab . umd . edu ) , a research associate at the university of maryland at baltimore . his field is molecular biology , and his work involves comparing dna strings using various algorithms . i do n't understand the details well enough to pass them along . at any rate , one such algorithm relies upon frequencies with which the letters g , a , t , and c occur in the dna strings . he would like to explore the analogous use of letter ( sound ) frequencies in natural language texts . hence this posting . specifically , sergei wonde...   \n",
              "3                                                                                                                                                                                                                                                                                       a colleague and i are researching the differing degrees of risk perceived by our hong kong students in different contexts where spoken english is required . we would be interested to find out more about research in the area of risk-taking in language learning . so far we have n't come up with much . can anyone help here ?\\n   \n",
              "4     earlier this morning i was on the phone with a friend of mine living in south america . as we were talking in spanish , he said : \" si voy a la liberi ' a , comprare ' el libro \" which can be rendered into english as \" if i go to the bookstore , i will purchase it \" . i found this expression a bit unusual so i asked him saying that he really meant to say \" si fuese a la libreri ' a , comprari ' a el libro \" or \" if i were to go to the bookstore , i would buy it \" to which he said to me , \" ah , the subjunctive is dead in spanish ! \" . weather this is a matter of subjunctive discussion or n...   \n",
              "...                                                                                                                                                                                                                                                                                                                                                                                                                                                                                                                                                                                                                       ...   \n",
              "2888                                                                                                                                                                                                                                                                                                                                                  hello thanks for stopping by ! ! we have taken many new pics and made some hot new videos ! they are the most erotic we have done ! stop by and be our guest for oodles of free fun ! click here and enter we thank you for all your business in the past ! the haven\\n   \n",
              "2889  the list owner of : \" kiddin \" has invited you to join their mailing list at listbot . you must reply to this message to join the list . = = simply reply with a blank message to join . = = the list owner has included the following welcome message : = = = = = = = = = = = = = = = = = = = = = = = = = = = = = = = = = = = = = = = = = = = = = = = = = = = = = = = = = = = hi guys ! this is just a quick message to invite you to join kiddin , a uk based daily humour list . . . . . . . . . . and because we think you ' re all groovy people who deserve to know . to sign up : hit reply and send the repl...   \n",
              "2890  judging from the return post , i must have sounded like some kind of self-proclaimed expert on composers ' names . let me hasten to say that i ' m not . all the pronunciations i put in that little list came as surprises to me . in all cases but one , they were given to me by native speakers of the composers ' language , while i was visiting the composers ' native country . i do n't speak any of those languages and certainly do not claim any expertise . i ' ve just been trusting \" competent native speakers \" . the one exception , by the way , was when karl haas , on one of his daily \" adven...   \n",
              "2891  gotcha ! there are two separate fallacies in the argument against n-ary comparison which i discussed recently and which powers , delancey , and guy are now apparently seeking to defend . ( 1 ) janhunen says that the probability of a match occurring purely by chance when you compare japanese with four languages is four times what it is when you compare it with one language . this simply cannot be true because probabilities are values between 0 and 1 . if the probablity in the case of a binary comparison was say . 5 , then he would be predicting that it would be 2 in the case of n-ary compar...   \n",
              "2892  hello ! i ' m working on a thesis concerning attitudes toward america and the use of american - english by australia . i would be interested in hearing from anyone who has researched this field or who knows of recent research . i ' m particularly interested in the methods used to illicit or ascertain the use of target vocabulary ( eg . pharmacist vs chemist , candy vs lollies etc . ) if you can help , please email jmar2 @ mfs01 . cc . monash . edu . au an edited list of responses will be posted on the linguist list thank you , jessica marks = = = = = = = = = = = = = = = = = = = = = = = = =...   \n",
              "\n",
              "      label  \\\n",
              "0         0   \n",
              "1         0   \n",
              "2         0   \n",
              "3         0   \n",
              "4         0   \n",
              "...     ...   \n",
              "2888      1   \n",
              "2889      1   \n",
              "2890      0   \n",
              "2891      0   \n",
              "2892      0   \n",
              "\n",
              "                                                                                                                                                                                                                                                                                                                                                                                                                                                                                                                                                                                                                       submsg  \n",
              "0     job posting - apple-iss research centercontent - length : 3386 apple-iss research center a us $ 10 million joint venture between apple computer inc . and the institute of systems science of the national university of singapore , located in singapore , is looking for : a senior speech scientist - - - - - - - - - - - - - - - - - - - - - - - - - the successful candidate will have research expertise in computational linguistics , including natural language processing and * * english * * and * * chinese * * statistical language modeling . knowledge of state-of - the-art corpus-based n - gram la...  \n",
              "1     sociolinguisticslang classification grimes , joseph e . and barbara f . grimes ; ethnologue language family index ; pb . isbn : 0-88312 - 708 - 3 ; vi , 116 pp . ; $ 14 . 00 . summer institute of linguistics . this companion volume to ethnologue : languages of the world , twelfth edition lists language families of the world with sub-groups shown in a tree arrangement under the broadest classification of language family . the language family index facilitates locating language names in the ethnologue , making the data there more accessible . internet : academic . books @ sil . org languages...  \n",
              "2     query : letter frequencies for text identificationi am posting this inquiry for sergei atamas ( satamas @ umabnet . ab . umd . edu ) , a research associate at the university of maryland at baltimore . his field is molecular biology , and his work involves comparing dna strings using various algorithms . i do n't understand the details well enough to pass them along . at any rate , one such algorithm relies upon frequencies with which the letters g , a , t , and c occur in the dna strings . he would like to explore the analogous use of letter ( sound ) frequencies in natural language texts ...  \n",
              "3                                                                                                                                                                                                                                                                                   riska colleague and i are researching the differing degrees of risk perceived by our hong kong students in different contexts where spoken english is required . we would be interested to find out more about research in the area of risk-taking in language learning . so far we have n't come up with much . can anyone help here ?\\n  \n",
              "4     request book informationearlier this morning i was on the phone with a friend of mine living in south america . as we were talking in spanish , he said : \" si voy a la liberi ' a , comprare ' el libro \" which can be rendered into english as \" if i go to the bookstore , i will purchase it \" . i found this expression a bit unusual so i asked him saying that he really meant to say \" si fuese a la libreri ' a , comprari ' a el libro \" or \" if i were to go to the bookstore , i would buy it \" to which he said to me , \" ah , the subjunctive is dead in spanish ! \" . weather this is a matter of sub...  \n",
              "...                                                                                                                                                                                                                                                                                                                                                                                                                                                                                                                                                                                                                       ...  \n",
              "2888                                                                                                                                                                                                                                                                                                                      love your profile - ysuolvpvhello thanks for stopping by ! ! we have taken many new pics and made some hot new videos ! they are the most erotic we have done ! stop by and be our guest for oodles of free fun ! click here and enter we thank you for all your business in the past ! the haven\\n  \n",
              "2889  you have been asked to join kiddinthe list owner of : \" kiddin \" has invited you to join their mailing list at listbot . you must reply to this message to join the list . = = simply reply with a blank message to join . = = the list owner has included the following welcome message : = = = = = = = = = = = = = = = = = = = = = = = = = = = = = = = = = = = = = = = = = = = = = = = = = = = = = = = = = = = hi guys ! this is just a quick message to invite you to join kiddin , a uk based daily humour list . . . . . . . . . . and because we think you ' re all groovy people who deserve to know . to sig...  \n",
              "2890  anglicization of composers ' namesjudging from the return post , i must have sounded like some kind of self-proclaimed expert on composers ' names . let me hasten to say that i ' m not . all the pronunciations i put in that little list came as surprises to me . in all cases but one , they were given to me by native speakers of the composers ' language , while i was visiting the composers ' native country . i do n't speak any of those languages and certainly do not claim any expertise . i ' ve just been trusting \" competent native speakers \" . the one exception , by the way , was when karl ...  \n",
              "2891  re : 6 . 797 , comparative method : n - ary comparisongotcha ! there are two separate fallacies in the argument against n-ary comparison which i discussed recently and which powers , delancey , and guy are now apparently seeking to defend . ( 1 ) janhunen says that the probability of a match occurring purely by chance when you compare japanese with four languages is four times what it is when you compare it with one language . this simply cannot be true because probabilities are values between 0 and 1 . if the probablity in the case of a binary comparison was say . 5 , then he would be pre...  \n",
              "2892  re : american - english in australiahello ! i ' m working on a thesis concerning attitudes toward america and the use of american - english by australia . i would be interested in hearing from anyone who has researched this field or who knows of recent research . i ' m particularly interested in the methods used to illicit or ascertain the use of target vocabulary ( eg . pharmacist vs chemist , candy vs lollies etc . ) if you can help , please email jmar2 @ mfs01 . cc . monash . edu . au an edited list of responses will be posted on the linguist list thank you , jessica marks = = = = = = =...  \n",
              "\n",
              "[2893 rows x 4 columns]"
            ],
            "text/html": [
              "\n",
              "  <div id=\"df-9a1deb08-ef59-44e2-9ad5-4c727bd9c0c0\">\n",
              "    <div class=\"colab-df-container\">\n",
              "      <div>\n",
              "<style scoped>\n",
              "    .dataframe tbody tr th:only-of-type {\n",
              "        vertical-align: middle;\n",
              "    }\n",
              "\n",
              "    .dataframe tbody tr th {\n",
              "        vertical-align: top;\n",
              "    }\n",
              "\n",
              "    .dataframe thead th {\n",
              "        text-align: right;\n",
              "    }\n",
              "</style>\n",
              "<table border=\"1\" class=\"dataframe\">\n",
              "  <thead>\n",
              "    <tr style=\"text-align: right;\">\n",
              "      <th></th>\n",
              "      <th>subject</th>\n",
              "      <th>message</th>\n",
              "      <th>label</th>\n",
              "      <th>submsg</th>\n",
              "    </tr>\n",
              "  </thead>\n",
              "  <tbody>\n",
              "    <tr>\n",
              "      <th>0</th>\n",
              "      <td>job posting - apple-iss research center</td>\n",
              "      <td>content - length : 3386 apple-iss research center a us $ 10 million joint venture between apple computer inc . and the institute of systems science of the national university of singapore , located in singapore , is looking for : a senior speech scientist - - - - - - - - - - - - - - - - - - - - - - - - - the successful candidate will have research expertise in computational linguistics , including natural language processing and * * english * * and * * chinese * * statistical language modeling . knowledge of state-of - the-art corpus-based n - gram language models , cache language models ,...</td>\n",
              "      <td>0</td>\n",
              "      <td>job posting - apple-iss research centercontent - length : 3386 apple-iss research center a us $ 10 million joint venture between apple computer inc . and the institute of systems science of the national university of singapore , located in singapore , is looking for : a senior speech scientist - - - - - - - - - - - - - - - - - - - - - - - - - the successful candidate will have research expertise in computational linguistics , including natural language processing and * * english * * and * * chinese * * statistical language modeling . knowledge of state-of - the-art corpus-based n - gram la...</td>\n",
              "    </tr>\n",
              "    <tr>\n",
              "      <th>1</th>\n",
              "      <td>sociolinguistics</td>\n",
              "      <td>lang classification grimes , joseph e . and barbara f . grimes ; ethnologue language family index ; pb . isbn : 0-88312 - 708 - 3 ; vi , 116 pp . ; $ 14 . 00 . summer institute of linguistics . this companion volume to ethnologue : languages of the world , twelfth edition lists language families of the world with sub-groups shown in a tree arrangement under the broadest classification of language family . the language family index facilitates locating language names in the ethnologue , making the data there more accessible . internet : academic . books @ sil . org languages , reference lan...</td>\n",
              "      <td>0</td>\n",
              "      <td>sociolinguisticslang classification grimes , joseph e . and barbara f . grimes ; ethnologue language family index ; pb . isbn : 0-88312 - 708 - 3 ; vi , 116 pp . ; $ 14 . 00 . summer institute of linguistics . this companion volume to ethnologue : languages of the world , twelfth edition lists language families of the world with sub-groups shown in a tree arrangement under the broadest classification of language family . the language family index facilitates locating language names in the ethnologue , making the data there more accessible . internet : academic . books @ sil . org languages...</td>\n",
              "    </tr>\n",
              "    <tr>\n",
              "      <th>2</th>\n",
              "      <td>query : letter frequencies for text identification</td>\n",
              "      <td>i am posting this inquiry for sergei atamas ( satamas @ umabnet . ab . umd . edu ) , a research associate at the university of maryland at baltimore . his field is molecular biology , and his work involves comparing dna strings using various algorithms . i do n't understand the details well enough to pass them along . at any rate , one such algorithm relies upon frequencies with which the letters g , a , t , and c occur in the dna strings . he would like to explore the analogous use of letter ( sound ) frequencies in natural language texts . hence this posting . specifically , sergei wonde...</td>\n",
              "      <td>0</td>\n",
              "      <td>query : letter frequencies for text identificationi am posting this inquiry for sergei atamas ( satamas @ umabnet . ab . umd . edu ) , a research associate at the university of maryland at baltimore . his field is molecular biology , and his work involves comparing dna strings using various algorithms . i do n't understand the details well enough to pass them along . at any rate , one such algorithm relies upon frequencies with which the letters g , a , t , and c occur in the dna strings . he would like to explore the analogous use of letter ( sound ) frequencies in natural language texts ...</td>\n",
              "    </tr>\n",
              "    <tr>\n",
              "      <th>3</th>\n",
              "      <td>risk</td>\n",
              "      <td>a colleague and i are researching the differing degrees of risk perceived by our hong kong students in different contexts where spoken english is required . we would be interested to find out more about research in the area of risk-taking in language learning . so far we have n't come up with much . can anyone help here ?\\n</td>\n",
              "      <td>0</td>\n",
              "      <td>riska colleague and i are researching the differing degrees of risk perceived by our hong kong students in different contexts where spoken english is required . we would be interested to find out more about research in the area of risk-taking in language learning . so far we have n't come up with much . can anyone help here ?\\n</td>\n",
              "    </tr>\n",
              "    <tr>\n",
              "      <th>4</th>\n",
              "      <td>request book information</td>\n",
              "      <td>earlier this morning i was on the phone with a friend of mine living in south america . as we were talking in spanish , he said : \" si voy a la liberi ' a , comprare ' el libro \" which can be rendered into english as \" if i go to the bookstore , i will purchase it \" . i found this expression a bit unusual so i asked him saying that he really meant to say \" si fuese a la libreri ' a , comprari ' a el libro \" or \" if i were to go to the bookstore , i would buy it \" to which he said to me , \" ah , the subjunctive is dead in spanish ! \" . weather this is a matter of subjunctive discussion or n...</td>\n",
              "      <td>0</td>\n",
              "      <td>request book informationearlier this morning i was on the phone with a friend of mine living in south america . as we were talking in spanish , he said : \" si voy a la liberi ' a , comprare ' el libro \" which can be rendered into english as \" if i go to the bookstore , i will purchase it \" . i found this expression a bit unusual so i asked him saying that he really meant to say \" si fuese a la libreri ' a , comprari ' a el libro \" or \" if i were to go to the bookstore , i would buy it \" to which he said to me , \" ah , the subjunctive is dead in spanish ! \" . weather this is a matter of sub...</td>\n",
              "    </tr>\n",
              "    <tr>\n",
              "      <th>...</th>\n",
              "      <td>...</td>\n",
              "      <td>...</td>\n",
              "      <td>...</td>\n",
              "      <td>...</td>\n",
              "    </tr>\n",
              "    <tr>\n",
              "      <th>2888</th>\n",
              "      <td>love your profile - ysuolvpv</td>\n",
              "      <td>hello thanks for stopping by ! ! we have taken many new pics and made some hot new videos ! they are the most erotic we have done ! stop by and be our guest for oodles of free fun ! click here and enter we thank you for all your business in the past ! the haven\\n</td>\n",
              "      <td>1</td>\n",
              "      <td>love your profile - ysuolvpvhello thanks for stopping by ! ! we have taken many new pics and made some hot new videos ! they are the most erotic we have done ! stop by and be our guest for oodles of free fun ! click here and enter we thank you for all your business in the past ! the haven\\n</td>\n",
              "    </tr>\n",
              "    <tr>\n",
              "      <th>2889</th>\n",
              "      <td>you have been asked to join kiddin</td>\n",
              "      <td>the list owner of : \" kiddin \" has invited you to join their mailing list at listbot . you must reply to this message to join the list . = = simply reply with a blank message to join . = = the list owner has included the following welcome message : = = = = = = = = = = = = = = = = = = = = = = = = = = = = = = = = = = = = = = = = = = = = = = = = = = = = = = = = = = = hi guys ! this is just a quick message to invite you to join kiddin , a uk based daily humour list . . . . . . . . . . and because we think you ' re all groovy people who deserve to know . to sign up : hit reply and send the repl...</td>\n",
              "      <td>1</td>\n",
              "      <td>you have been asked to join kiddinthe list owner of : \" kiddin \" has invited you to join their mailing list at listbot . you must reply to this message to join the list . = = simply reply with a blank message to join . = = the list owner has included the following welcome message : = = = = = = = = = = = = = = = = = = = = = = = = = = = = = = = = = = = = = = = = = = = = = = = = = = = = = = = = = = = hi guys ! this is just a quick message to invite you to join kiddin , a uk based daily humour list . . . . . . . . . . and because we think you ' re all groovy people who deserve to know . to sig...</td>\n",
              "    </tr>\n",
              "    <tr>\n",
              "      <th>2890</th>\n",
              "      <td>anglicization of composers ' names</td>\n",
              "      <td>judging from the return post , i must have sounded like some kind of self-proclaimed expert on composers ' names . let me hasten to say that i ' m not . all the pronunciations i put in that little list came as surprises to me . in all cases but one , they were given to me by native speakers of the composers ' language , while i was visiting the composers ' native country . i do n't speak any of those languages and certainly do not claim any expertise . i ' ve just been trusting \" competent native speakers \" . the one exception , by the way , was when karl haas , on one of his daily \" adven...</td>\n",
              "      <td>0</td>\n",
              "      <td>anglicization of composers ' namesjudging from the return post , i must have sounded like some kind of self-proclaimed expert on composers ' names . let me hasten to say that i ' m not . all the pronunciations i put in that little list came as surprises to me . in all cases but one , they were given to me by native speakers of the composers ' language , while i was visiting the composers ' native country . i do n't speak any of those languages and certainly do not claim any expertise . i ' ve just been trusting \" competent native speakers \" . the one exception , by the way , was when karl ...</td>\n",
              "    </tr>\n",
              "    <tr>\n",
              "      <th>2891</th>\n",
              "      <td>re : 6 . 797 , comparative method : n - ary comparison</td>\n",
              "      <td>gotcha ! there are two separate fallacies in the argument against n-ary comparison which i discussed recently and which powers , delancey , and guy are now apparently seeking to defend . ( 1 ) janhunen says that the probability of a match occurring purely by chance when you compare japanese with four languages is four times what it is when you compare it with one language . this simply cannot be true because probabilities are values between 0 and 1 . if the probablity in the case of a binary comparison was say . 5 , then he would be predicting that it would be 2 in the case of n-ary compar...</td>\n",
              "      <td>0</td>\n",
              "      <td>re : 6 . 797 , comparative method : n - ary comparisongotcha ! there are two separate fallacies in the argument against n-ary comparison which i discussed recently and which powers , delancey , and guy are now apparently seeking to defend . ( 1 ) janhunen says that the probability of a match occurring purely by chance when you compare japanese with four languages is four times what it is when you compare it with one language . this simply cannot be true because probabilities are values between 0 and 1 . if the probablity in the case of a binary comparison was say . 5 , then he would be pre...</td>\n",
              "    </tr>\n",
              "    <tr>\n",
              "      <th>2892</th>\n",
              "      <td>re : american - english in australia</td>\n",
              "      <td>hello ! i ' m working on a thesis concerning attitudes toward america and the use of american - english by australia . i would be interested in hearing from anyone who has researched this field or who knows of recent research . i ' m particularly interested in the methods used to illicit or ascertain the use of target vocabulary ( eg . pharmacist vs chemist , candy vs lollies etc . ) if you can help , please email jmar2 @ mfs01 . cc . monash . edu . au an edited list of responses will be posted on the linguist list thank you , jessica marks = = = = = = = = = = = = = = = = = = = = = = = = =...</td>\n",
              "      <td>0</td>\n",
              "      <td>re : american - english in australiahello ! i ' m working on a thesis concerning attitudes toward america and the use of american - english by australia . i would be interested in hearing from anyone who has researched this field or who knows of recent research . i ' m particularly interested in the methods used to illicit or ascertain the use of target vocabulary ( eg . pharmacist vs chemist , candy vs lollies etc . ) if you can help , please email jmar2 @ mfs01 . cc . monash . edu . au an edited list of responses will be posted on the linguist list thank you , jessica marks = = = = = = =...</td>\n",
              "    </tr>\n",
              "  </tbody>\n",
              "</table>\n",
              "<p>2893 rows × 4 columns</p>\n",
              "</div>\n",
              "      <button class=\"colab-df-convert\" onclick=\"convertToInteractive('df-9a1deb08-ef59-44e2-9ad5-4c727bd9c0c0')\"\n",
              "              title=\"Convert this dataframe to an interactive table.\"\n",
              "              style=\"display:none;\">\n",
              "        \n",
              "  <svg xmlns=\"http://www.w3.org/2000/svg\" height=\"24px\"viewBox=\"0 0 24 24\"\n",
              "       width=\"24px\">\n",
              "    <path d=\"M0 0h24v24H0V0z\" fill=\"none\"/>\n",
              "    <path d=\"M18.56 5.44l.94 2.06.94-2.06 2.06-.94-2.06-.94-.94-2.06-.94 2.06-2.06.94zm-11 1L8.5 8.5l.94-2.06 2.06-.94-2.06-.94L8.5 2.5l-.94 2.06-2.06.94zm10 10l.94 2.06.94-2.06 2.06-.94-2.06-.94-.94-2.06-.94 2.06-2.06.94z\"/><path d=\"M17.41 7.96l-1.37-1.37c-.4-.4-.92-.59-1.43-.59-.52 0-1.04.2-1.43.59L10.3 9.45l-7.72 7.72c-.78.78-.78 2.05 0 2.83L4 21.41c.39.39.9.59 1.41.59.51 0 1.02-.2 1.41-.59l7.78-7.78 2.81-2.81c.8-.78.8-2.07 0-2.86zM5.41 20L4 18.59l7.72-7.72 1.47 1.35L5.41 20z\"/>\n",
              "  </svg>\n",
              "      </button>\n",
              "      \n",
              "  <style>\n",
              "    .colab-df-container {\n",
              "      display:flex;\n",
              "      flex-wrap:wrap;\n",
              "      gap: 12px;\n",
              "    }\n",
              "\n",
              "    .colab-df-convert {\n",
              "      background-color: #E8F0FE;\n",
              "      border: none;\n",
              "      border-radius: 50%;\n",
              "      cursor: pointer;\n",
              "      display: none;\n",
              "      fill: #1967D2;\n",
              "      height: 32px;\n",
              "      padding: 0 0 0 0;\n",
              "      width: 32px;\n",
              "    }\n",
              "\n",
              "    .colab-df-convert:hover {\n",
              "      background-color: #E2EBFA;\n",
              "      box-shadow: 0px 1px 2px rgba(60, 64, 67, 0.3), 0px 1px 3px 1px rgba(60, 64, 67, 0.15);\n",
              "      fill: #174EA6;\n",
              "    }\n",
              "\n",
              "    [theme=dark] .colab-df-convert {\n",
              "      background-color: #3B4455;\n",
              "      fill: #D2E3FC;\n",
              "    }\n",
              "\n",
              "    [theme=dark] .colab-df-convert:hover {\n",
              "      background-color: #434B5C;\n",
              "      box-shadow: 0px 1px 3px 1px rgba(0, 0, 0, 0.15);\n",
              "      filter: drop-shadow(0px 1px 2px rgba(0, 0, 0, 0.3));\n",
              "      fill: #FFFFFF;\n",
              "    }\n",
              "  </style>\n",
              "\n",
              "      <script>\n",
              "        const buttonEl =\n",
              "          document.querySelector('#df-9a1deb08-ef59-44e2-9ad5-4c727bd9c0c0 button.colab-df-convert');\n",
              "        buttonEl.style.display =\n",
              "          google.colab.kernel.accessAllowed ? 'block' : 'none';\n",
              "\n",
              "        async function convertToInteractive(key) {\n",
              "          const element = document.querySelector('#df-9a1deb08-ef59-44e2-9ad5-4c727bd9c0c0');\n",
              "          const dataTable =\n",
              "            await google.colab.kernel.invokeFunction('convertToInteractive',\n",
              "                                                     [key], {});\n",
              "          if (!dataTable) return;\n",
              "\n",
              "          const docLinkHtml = 'Like what you see? Visit the ' +\n",
              "            '<a target=\"_blank\" href=https://colab.research.google.com/notebooks/data_table.ipynb>data table notebook</a>'\n",
              "            + ' to learn more about interactive tables.';\n",
              "          element.innerHTML = '';\n",
              "          dataTable['output_type'] = 'display_data';\n",
              "          await google.colab.output.renderOutput(dataTable, element);\n",
              "          const docLink = document.createElement('div');\n",
              "          docLink.innerHTML = docLinkHtml;\n",
              "          element.appendChild(docLink);\n",
              "        }\n",
              "      </script>\n",
              "    </div>\n",
              "  </div>\n",
              "  "
            ]
          },
          "metadata": {},
          "execution_count": 21
        }
      ]
    },
    {
      "cell_type": "code",
      "source": [
        "file.submsg.describe()"
      ],
      "metadata": {
        "colab": {
          "base_uri": "https://localhost:8080/"
        },
        "id": "9hvirAVDYvMR",
        "outputId": "2cea4b5d-0a95-4098-f62a-6a925642e01d"
      },
      "execution_count": 22,
      "outputs": [
        {
          "output_type": "execute_result",
          "data": {
            "text/plain": [
              "count                                                                                                                                                                                                                                                                                                                                                                                                                                                                                                                                                                                                                        2893\n",
              "unique                                                                                                                                                                                                                                                                                                                                                                                                                                                                                                                                                                                                                       2876\n",
              "top       re := 20 the virtual girlfriend and virtual boyfriend are artificial = intelligence = 20 programs for your ibm pc or compatible and also for macintosh . you = 20 can watch them , talk to them , ask them questions , tell them secrets , and = relate with them . watch them as you ask them to take off different = clothes and guide them through many different activities . watch and participate = in the hottest sexual activities available on computer , including : several sexual positions , using many unique toys , even bringing in multiple = partners . this is no doubt one of the most realistic...\n",
              "freq                                                                                                                                                                                                                                                                                                                                                                                                                                                                                                                                                                                                                            4\n",
              "Name: submsg, dtype: object"
            ]
          },
          "metadata": {},
          "execution_count": 22
        }
      ]
    },
    {
      "cell_type": "code",
      "source": [
        "file['length'] = file['submsg'].apply(len)\n",
        "file"
      ],
      "metadata": {
        "colab": {
          "base_uri": "https://localhost:8080/",
          "height": 1000
        },
        "id": "rYa3YsjVZbcy",
        "outputId": "14f5e61f-5c6b-49e1-eb46-cba6518471b2"
      },
      "execution_count": 23,
      "outputs": [
        {
          "output_type": "execute_result",
          "data": {
            "text/plain": [
              "                                                     subject  \\\n",
              "0                    job posting - apple-iss research center   \n",
              "1                                           sociolinguistics   \n",
              "2         query : letter frequencies for text identification   \n",
              "3                                                       risk   \n",
              "4                                   request book information   \n",
              "...                                                      ...   \n",
              "2888                            love your profile - ysuolvpv   \n",
              "2889                      you have been asked to join kiddin   \n",
              "2890                      anglicization of composers ' names   \n",
              "2891  re : 6 . 797 , comparative method : n - ary comparison   \n",
              "2892                    re : american - english in australia   \n",
              "\n",
              "                                                                                                                                                                                                                                                                                                                                                                                                                                                                                                                                                                                                                      message  \\\n",
              "0     content - length : 3386 apple-iss research center a us $ 10 million joint venture between apple computer inc . and the institute of systems science of the national university of singapore , located in singapore , is looking for : a senior speech scientist - - - - - - - - - - - - - - - - - - - - - - - - - the successful candidate will have research expertise in computational linguistics , including natural language processing and * * english * * and * * chinese * * statistical language modeling . knowledge of state-of - the-art corpus-based n - gram language models , cache language models ,...   \n",
              "1     lang classification grimes , joseph e . and barbara f . grimes ; ethnologue language family index ; pb . isbn : 0-88312 - 708 - 3 ; vi , 116 pp . ; $ 14 . 00 . summer institute of linguistics . this companion volume to ethnologue : languages of the world , twelfth edition lists language families of the world with sub-groups shown in a tree arrangement under the broadest classification of language family . the language family index facilitates locating language names in the ethnologue , making the data there more accessible . internet : academic . books @ sil . org languages , reference lan...   \n",
              "2     i am posting this inquiry for sergei atamas ( satamas @ umabnet . ab . umd . edu ) , a research associate at the university of maryland at baltimore . his field is molecular biology , and his work involves comparing dna strings using various algorithms . i do n't understand the details well enough to pass them along . at any rate , one such algorithm relies upon frequencies with which the letters g , a , t , and c occur in the dna strings . he would like to explore the analogous use of letter ( sound ) frequencies in natural language texts . hence this posting . specifically , sergei wonde...   \n",
              "3                                                                                                                                                                                                                                                                                       a colleague and i are researching the differing degrees of risk perceived by our hong kong students in different contexts where spoken english is required . we would be interested to find out more about research in the area of risk-taking in language learning . so far we have n't come up with much . can anyone help here ?\\n   \n",
              "4     earlier this morning i was on the phone with a friend of mine living in south america . as we were talking in spanish , he said : \" si voy a la liberi ' a , comprare ' el libro \" which can be rendered into english as \" if i go to the bookstore , i will purchase it \" . i found this expression a bit unusual so i asked him saying that he really meant to say \" si fuese a la libreri ' a , comprari ' a el libro \" or \" if i were to go to the bookstore , i would buy it \" to which he said to me , \" ah , the subjunctive is dead in spanish ! \" . weather this is a matter of subjunctive discussion or n...   \n",
              "...                                                                                                                                                                                                                                                                                                                                                                                                                                                                                                                                                                                                                       ...   \n",
              "2888                                                                                                                                                                                                                                                                                                                                                  hello thanks for stopping by ! ! we have taken many new pics and made some hot new videos ! they are the most erotic we have done ! stop by and be our guest for oodles of free fun ! click here and enter we thank you for all your business in the past ! the haven\\n   \n",
              "2889  the list owner of : \" kiddin \" has invited you to join their mailing list at listbot . you must reply to this message to join the list . = = simply reply with a blank message to join . = = the list owner has included the following welcome message : = = = = = = = = = = = = = = = = = = = = = = = = = = = = = = = = = = = = = = = = = = = = = = = = = = = = = = = = = = = hi guys ! this is just a quick message to invite you to join kiddin , a uk based daily humour list . . . . . . . . . . and because we think you ' re all groovy people who deserve to know . to sign up : hit reply and send the repl...   \n",
              "2890  judging from the return post , i must have sounded like some kind of self-proclaimed expert on composers ' names . let me hasten to say that i ' m not . all the pronunciations i put in that little list came as surprises to me . in all cases but one , they were given to me by native speakers of the composers ' language , while i was visiting the composers ' native country . i do n't speak any of those languages and certainly do not claim any expertise . i ' ve just been trusting \" competent native speakers \" . the one exception , by the way , was when karl haas , on one of his daily \" adven...   \n",
              "2891  gotcha ! there are two separate fallacies in the argument against n-ary comparison which i discussed recently and which powers , delancey , and guy are now apparently seeking to defend . ( 1 ) janhunen says that the probability of a match occurring purely by chance when you compare japanese with four languages is four times what it is when you compare it with one language . this simply cannot be true because probabilities are values between 0 and 1 . if the probablity in the case of a binary comparison was say . 5 , then he would be predicting that it would be 2 in the case of n-ary compar...   \n",
              "2892  hello ! i ' m working on a thesis concerning attitudes toward america and the use of american - english by australia . i would be interested in hearing from anyone who has researched this field or who knows of recent research . i ' m particularly interested in the methods used to illicit or ascertain the use of target vocabulary ( eg . pharmacist vs chemist , candy vs lollies etc . ) if you can help , please email jmar2 @ mfs01 . cc . monash . edu . au an edited list of responses will be posted on the linguist list thank you , jessica marks = = = = = = = = = = = = = = = = = = = = = = = = =...   \n",
              "\n",
              "      label  \\\n",
              "0         0   \n",
              "1         0   \n",
              "2         0   \n",
              "3         0   \n",
              "4         0   \n",
              "...     ...   \n",
              "2888      1   \n",
              "2889      1   \n",
              "2890      0   \n",
              "2891      0   \n",
              "2892      0   \n",
              "\n",
              "                                                                                                                                                                                                                                                                                                                                                                                                                                                                                                                                                                                                                       submsg  \\\n",
              "0     job posting - apple-iss research centercontent - length : 3386 apple-iss research center a us $ 10 million joint venture between apple computer inc . and the institute of systems science of the national university of singapore , located in singapore , is looking for : a senior speech scientist - - - - - - - - - - - - - - - - - - - - - - - - - the successful candidate will have research expertise in computational linguistics , including natural language processing and * * english * * and * * chinese * * statistical language modeling . knowledge of state-of - the-art corpus-based n - gram la...   \n",
              "1     sociolinguisticslang classification grimes , joseph e . and barbara f . grimes ; ethnologue language family index ; pb . isbn : 0-88312 - 708 - 3 ; vi , 116 pp . ; $ 14 . 00 . summer institute of linguistics . this companion volume to ethnologue : languages of the world , twelfth edition lists language families of the world with sub-groups shown in a tree arrangement under the broadest classification of language family . the language family index facilitates locating language names in the ethnologue , making the data there more accessible . internet : academic . books @ sil . org languages...   \n",
              "2     query : letter frequencies for text identificationi am posting this inquiry for sergei atamas ( satamas @ umabnet . ab . umd . edu ) , a research associate at the university of maryland at baltimore . his field is molecular biology , and his work involves comparing dna strings using various algorithms . i do n't understand the details well enough to pass them along . at any rate , one such algorithm relies upon frequencies with which the letters g , a , t , and c occur in the dna strings . he would like to explore the analogous use of letter ( sound ) frequencies in natural language texts ...   \n",
              "3                                                                                                                                                                                                                                                                                   riska colleague and i are researching the differing degrees of risk perceived by our hong kong students in different contexts where spoken english is required . we would be interested to find out more about research in the area of risk-taking in language learning . so far we have n't come up with much . can anyone help here ?\\n   \n",
              "4     request book informationearlier this morning i was on the phone with a friend of mine living in south america . as we were talking in spanish , he said : \" si voy a la liberi ' a , comprare ' el libro \" which can be rendered into english as \" if i go to the bookstore , i will purchase it \" . i found this expression a bit unusual so i asked him saying that he really meant to say \" si fuese a la libreri ' a , comprari ' a el libro \" or \" if i were to go to the bookstore , i would buy it \" to which he said to me , \" ah , the subjunctive is dead in spanish ! \" . weather this is a matter of sub...   \n",
              "...                                                                                                                                                                                                                                                                                                                                                                                                                                                                                                                                                                                                                       ...   \n",
              "2888                                                                                                                                                                                                                                                                                                                      love your profile - ysuolvpvhello thanks for stopping by ! ! we have taken many new pics and made some hot new videos ! they are the most erotic we have done ! stop by and be our guest for oodles of free fun ! click here and enter we thank you for all your business in the past ! the haven\\n   \n",
              "2889  you have been asked to join kiddinthe list owner of : \" kiddin \" has invited you to join their mailing list at listbot . you must reply to this message to join the list . = = simply reply with a blank message to join . = = the list owner has included the following welcome message : = = = = = = = = = = = = = = = = = = = = = = = = = = = = = = = = = = = = = = = = = = = = = = = = = = = = = = = = = = = hi guys ! this is just a quick message to invite you to join kiddin , a uk based daily humour list . . . . . . . . . . and because we think you ' re all groovy people who deserve to know . to sig...   \n",
              "2890  anglicization of composers ' namesjudging from the return post , i must have sounded like some kind of self-proclaimed expert on composers ' names . let me hasten to say that i ' m not . all the pronunciations i put in that little list came as surprises to me . in all cases but one , they were given to me by native speakers of the composers ' language , while i was visiting the composers ' native country . i do n't speak any of those languages and certainly do not claim any expertise . i ' ve just been trusting \" competent native speakers \" . the one exception , by the way , was when karl ...   \n",
              "2891  re : 6 . 797 , comparative method : n - ary comparisongotcha ! there are two separate fallacies in the argument against n-ary comparison which i discussed recently and which powers , delancey , and guy are now apparently seeking to defend . ( 1 ) janhunen says that the probability of a match occurring purely by chance when you compare japanese with four languages is four times what it is when you compare it with one language . this simply cannot be true because probabilities are values between 0 and 1 . if the probablity in the case of a binary comparison was say . 5 , then he would be pre...   \n",
              "2892  re : american - english in australiahello ! i ' m working on a thesis concerning attitudes toward america and the use of american - english by australia . i would be interested in hearing from anyone who has researched this field or who knows of recent research . i ' m particularly interested in the methods used to illicit or ascertain the use of target vocabulary ( eg . pharmacist vs chemist , candy vs lollies etc . ) if you can help , please email jmar2 @ mfs01 . cc . monash . edu . au an edited list of responses will be posted on the linguist list thank you , jessica marks = = = = = = =...   \n",
              "\n",
              "      length  \n",
              "0       2895  \n",
              "1       1816  \n",
              "2       1485  \n",
              "3        328  \n",
              "4       1070  \n",
              "...      ...  \n",
              "2888     290  \n",
              "2889    2197  \n",
              "2890    1073  \n",
              "2891    3003  \n",
              "2892     736  \n",
              "\n",
              "[2893 rows x 5 columns]"
            ],
            "text/html": [
              "\n",
              "  <div id=\"df-dbcf994b-18fb-4021-a93a-6e74417c5cfc\">\n",
              "    <div class=\"colab-df-container\">\n",
              "      <div>\n",
              "<style scoped>\n",
              "    .dataframe tbody tr th:only-of-type {\n",
              "        vertical-align: middle;\n",
              "    }\n",
              "\n",
              "    .dataframe tbody tr th {\n",
              "        vertical-align: top;\n",
              "    }\n",
              "\n",
              "    .dataframe thead th {\n",
              "        text-align: right;\n",
              "    }\n",
              "</style>\n",
              "<table border=\"1\" class=\"dataframe\">\n",
              "  <thead>\n",
              "    <tr style=\"text-align: right;\">\n",
              "      <th></th>\n",
              "      <th>subject</th>\n",
              "      <th>message</th>\n",
              "      <th>label</th>\n",
              "      <th>submsg</th>\n",
              "      <th>length</th>\n",
              "    </tr>\n",
              "  </thead>\n",
              "  <tbody>\n",
              "    <tr>\n",
              "      <th>0</th>\n",
              "      <td>job posting - apple-iss research center</td>\n",
              "      <td>content - length : 3386 apple-iss research center a us $ 10 million joint venture between apple computer inc . and the institute of systems science of the national university of singapore , located in singapore , is looking for : a senior speech scientist - - - - - - - - - - - - - - - - - - - - - - - - - the successful candidate will have research expertise in computational linguistics , including natural language processing and * * english * * and * * chinese * * statistical language modeling . knowledge of state-of - the-art corpus-based n - gram language models , cache language models ,...</td>\n",
              "      <td>0</td>\n",
              "      <td>job posting - apple-iss research centercontent - length : 3386 apple-iss research center a us $ 10 million joint venture between apple computer inc . and the institute of systems science of the national university of singapore , located in singapore , is looking for : a senior speech scientist - - - - - - - - - - - - - - - - - - - - - - - - - the successful candidate will have research expertise in computational linguistics , including natural language processing and * * english * * and * * chinese * * statistical language modeling . knowledge of state-of - the-art corpus-based n - gram la...</td>\n",
              "      <td>2895</td>\n",
              "    </tr>\n",
              "    <tr>\n",
              "      <th>1</th>\n",
              "      <td>sociolinguistics</td>\n",
              "      <td>lang classification grimes , joseph e . and barbara f . grimes ; ethnologue language family index ; pb . isbn : 0-88312 - 708 - 3 ; vi , 116 pp . ; $ 14 . 00 . summer institute of linguistics . this companion volume to ethnologue : languages of the world , twelfth edition lists language families of the world with sub-groups shown in a tree arrangement under the broadest classification of language family . the language family index facilitates locating language names in the ethnologue , making the data there more accessible . internet : academic . books @ sil . org languages , reference lan...</td>\n",
              "      <td>0</td>\n",
              "      <td>sociolinguisticslang classification grimes , joseph e . and barbara f . grimes ; ethnologue language family index ; pb . isbn : 0-88312 - 708 - 3 ; vi , 116 pp . ; $ 14 . 00 . summer institute of linguistics . this companion volume to ethnologue : languages of the world , twelfth edition lists language families of the world with sub-groups shown in a tree arrangement under the broadest classification of language family . the language family index facilitates locating language names in the ethnologue , making the data there more accessible . internet : academic . books @ sil . org languages...</td>\n",
              "      <td>1816</td>\n",
              "    </tr>\n",
              "    <tr>\n",
              "      <th>2</th>\n",
              "      <td>query : letter frequencies for text identification</td>\n",
              "      <td>i am posting this inquiry for sergei atamas ( satamas @ umabnet . ab . umd . edu ) , a research associate at the university of maryland at baltimore . his field is molecular biology , and his work involves comparing dna strings using various algorithms . i do n't understand the details well enough to pass them along . at any rate , one such algorithm relies upon frequencies with which the letters g , a , t , and c occur in the dna strings . he would like to explore the analogous use of letter ( sound ) frequencies in natural language texts . hence this posting . specifically , sergei wonde...</td>\n",
              "      <td>0</td>\n",
              "      <td>query : letter frequencies for text identificationi am posting this inquiry for sergei atamas ( satamas @ umabnet . ab . umd . edu ) , a research associate at the university of maryland at baltimore . his field is molecular biology , and his work involves comparing dna strings using various algorithms . i do n't understand the details well enough to pass them along . at any rate , one such algorithm relies upon frequencies with which the letters g , a , t , and c occur in the dna strings . he would like to explore the analogous use of letter ( sound ) frequencies in natural language texts ...</td>\n",
              "      <td>1485</td>\n",
              "    </tr>\n",
              "    <tr>\n",
              "      <th>3</th>\n",
              "      <td>risk</td>\n",
              "      <td>a colleague and i are researching the differing degrees of risk perceived by our hong kong students in different contexts where spoken english is required . we would be interested to find out more about research in the area of risk-taking in language learning . so far we have n't come up with much . can anyone help here ?\\n</td>\n",
              "      <td>0</td>\n",
              "      <td>riska colleague and i are researching the differing degrees of risk perceived by our hong kong students in different contexts where spoken english is required . we would be interested to find out more about research in the area of risk-taking in language learning . so far we have n't come up with much . can anyone help here ?\\n</td>\n",
              "      <td>328</td>\n",
              "    </tr>\n",
              "    <tr>\n",
              "      <th>4</th>\n",
              "      <td>request book information</td>\n",
              "      <td>earlier this morning i was on the phone with a friend of mine living in south america . as we were talking in spanish , he said : \" si voy a la liberi ' a , comprare ' el libro \" which can be rendered into english as \" if i go to the bookstore , i will purchase it \" . i found this expression a bit unusual so i asked him saying that he really meant to say \" si fuese a la libreri ' a , comprari ' a el libro \" or \" if i were to go to the bookstore , i would buy it \" to which he said to me , \" ah , the subjunctive is dead in spanish ! \" . weather this is a matter of subjunctive discussion or n...</td>\n",
              "      <td>0</td>\n",
              "      <td>request book informationearlier this morning i was on the phone with a friend of mine living in south america . as we were talking in spanish , he said : \" si voy a la liberi ' a , comprare ' el libro \" which can be rendered into english as \" if i go to the bookstore , i will purchase it \" . i found this expression a bit unusual so i asked him saying that he really meant to say \" si fuese a la libreri ' a , comprari ' a el libro \" or \" if i were to go to the bookstore , i would buy it \" to which he said to me , \" ah , the subjunctive is dead in spanish ! \" . weather this is a matter of sub...</td>\n",
              "      <td>1070</td>\n",
              "    </tr>\n",
              "    <tr>\n",
              "      <th>...</th>\n",
              "      <td>...</td>\n",
              "      <td>...</td>\n",
              "      <td>...</td>\n",
              "      <td>...</td>\n",
              "      <td>...</td>\n",
              "    </tr>\n",
              "    <tr>\n",
              "      <th>2888</th>\n",
              "      <td>love your profile - ysuolvpv</td>\n",
              "      <td>hello thanks for stopping by ! ! we have taken many new pics and made some hot new videos ! they are the most erotic we have done ! stop by and be our guest for oodles of free fun ! click here and enter we thank you for all your business in the past ! the haven\\n</td>\n",
              "      <td>1</td>\n",
              "      <td>love your profile - ysuolvpvhello thanks for stopping by ! ! we have taken many new pics and made some hot new videos ! they are the most erotic we have done ! stop by and be our guest for oodles of free fun ! click here and enter we thank you for all your business in the past ! the haven\\n</td>\n",
              "      <td>290</td>\n",
              "    </tr>\n",
              "    <tr>\n",
              "      <th>2889</th>\n",
              "      <td>you have been asked to join kiddin</td>\n",
              "      <td>the list owner of : \" kiddin \" has invited you to join their mailing list at listbot . you must reply to this message to join the list . = = simply reply with a blank message to join . = = the list owner has included the following welcome message : = = = = = = = = = = = = = = = = = = = = = = = = = = = = = = = = = = = = = = = = = = = = = = = = = = = = = = = = = = = hi guys ! this is just a quick message to invite you to join kiddin , a uk based daily humour list . . . . . . . . . . and because we think you ' re all groovy people who deserve to know . to sign up : hit reply and send the repl...</td>\n",
              "      <td>1</td>\n",
              "      <td>you have been asked to join kiddinthe list owner of : \" kiddin \" has invited you to join their mailing list at listbot . you must reply to this message to join the list . = = simply reply with a blank message to join . = = the list owner has included the following welcome message : = = = = = = = = = = = = = = = = = = = = = = = = = = = = = = = = = = = = = = = = = = = = = = = = = = = = = = = = = = = hi guys ! this is just a quick message to invite you to join kiddin , a uk based daily humour list . . . . . . . . . . and because we think you ' re all groovy people who deserve to know . to sig...</td>\n",
              "      <td>2197</td>\n",
              "    </tr>\n",
              "    <tr>\n",
              "      <th>2890</th>\n",
              "      <td>anglicization of composers ' names</td>\n",
              "      <td>judging from the return post , i must have sounded like some kind of self-proclaimed expert on composers ' names . let me hasten to say that i ' m not . all the pronunciations i put in that little list came as surprises to me . in all cases but one , they were given to me by native speakers of the composers ' language , while i was visiting the composers ' native country . i do n't speak any of those languages and certainly do not claim any expertise . i ' ve just been trusting \" competent native speakers \" . the one exception , by the way , was when karl haas , on one of his daily \" adven...</td>\n",
              "      <td>0</td>\n",
              "      <td>anglicization of composers ' namesjudging from the return post , i must have sounded like some kind of self-proclaimed expert on composers ' names . let me hasten to say that i ' m not . all the pronunciations i put in that little list came as surprises to me . in all cases but one , they were given to me by native speakers of the composers ' language , while i was visiting the composers ' native country . i do n't speak any of those languages and certainly do not claim any expertise . i ' ve just been trusting \" competent native speakers \" . the one exception , by the way , was when karl ...</td>\n",
              "      <td>1073</td>\n",
              "    </tr>\n",
              "    <tr>\n",
              "      <th>2891</th>\n",
              "      <td>re : 6 . 797 , comparative method : n - ary comparison</td>\n",
              "      <td>gotcha ! there are two separate fallacies in the argument against n-ary comparison which i discussed recently and which powers , delancey , and guy are now apparently seeking to defend . ( 1 ) janhunen says that the probability of a match occurring purely by chance when you compare japanese with four languages is four times what it is when you compare it with one language . this simply cannot be true because probabilities are values between 0 and 1 . if the probablity in the case of a binary comparison was say . 5 , then he would be predicting that it would be 2 in the case of n-ary compar...</td>\n",
              "      <td>0</td>\n",
              "      <td>re : 6 . 797 , comparative method : n - ary comparisongotcha ! there are two separate fallacies in the argument against n-ary comparison which i discussed recently and which powers , delancey , and guy are now apparently seeking to defend . ( 1 ) janhunen says that the probability of a match occurring purely by chance when you compare japanese with four languages is four times what it is when you compare it with one language . this simply cannot be true because probabilities are values between 0 and 1 . if the probablity in the case of a binary comparison was say . 5 , then he would be pre...</td>\n",
              "      <td>3003</td>\n",
              "    </tr>\n",
              "    <tr>\n",
              "      <th>2892</th>\n",
              "      <td>re : american - english in australia</td>\n",
              "      <td>hello ! i ' m working on a thesis concerning attitudes toward america and the use of american - english by australia . i would be interested in hearing from anyone who has researched this field or who knows of recent research . i ' m particularly interested in the methods used to illicit or ascertain the use of target vocabulary ( eg . pharmacist vs chemist , candy vs lollies etc . ) if you can help , please email jmar2 @ mfs01 . cc . monash . edu . au an edited list of responses will be posted on the linguist list thank you , jessica marks = = = = = = = = = = = = = = = = = = = = = = = = =...</td>\n",
              "      <td>0</td>\n",
              "      <td>re : american - english in australiahello ! i ' m working on a thesis concerning attitudes toward america and the use of american - english by australia . i would be interested in hearing from anyone who has researched this field or who knows of recent research . i ' m particularly interested in the methods used to illicit or ascertain the use of target vocabulary ( eg . pharmacist vs chemist , candy vs lollies etc . ) if you can help , please email jmar2 @ mfs01 . cc . monash . edu . au an edited list of responses will be posted on the linguist list thank you , jessica marks = = = = = = =...</td>\n",
              "      <td>736</td>\n",
              "    </tr>\n",
              "  </tbody>\n",
              "</table>\n",
              "<p>2893 rows × 5 columns</p>\n",
              "</div>\n",
              "      <button class=\"colab-df-convert\" onclick=\"convertToInteractive('df-dbcf994b-18fb-4021-a93a-6e74417c5cfc')\"\n",
              "              title=\"Convert this dataframe to an interactive table.\"\n",
              "              style=\"display:none;\">\n",
              "        \n",
              "  <svg xmlns=\"http://www.w3.org/2000/svg\" height=\"24px\"viewBox=\"0 0 24 24\"\n",
              "       width=\"24px\">\n",
              "    <path d=\"M0 0h24v24H0V0z\" fill=\"none\"/>\n",
              "    <path d=\"M18.56 5.44l.94 2.06.94-2.06 2.06-.94-2.06-.94-.94-2.06-.94 2.06-2.06.94zm-11 1L8.5 8.5l.94-2.06 2.06-.94-2.06-.94L8.5 2.5l-.94 2.06-2.06.94zm10 10l.94 2.06.94-2.06 2.06-.94-2.06-.94-.94-2.06-.94 2.06-2.06.94z\"/><path d=\"M17.41 7.96l-1.37-1.37c-.4-.4-.92-.59-1.43-.59-.52 0-1.04.2-1.43.59L10.3 9.45l-7.72 7.72c-.78.78-.78 2.05 0 2.83L4 21.41c.39.39.9.59 1.41.59.51 0 1.02-.2 1.41-.59l7.78-7.78 2.81-2.81c.8-.78.8-2.07 0-2.86zM5.41 20L4 18.59l7.72-7.72 1.47 1.35L5.41 20z\"/>\n",
              "  </svg>\n",
              "      </button>\n",
              "      \n",
              "  <style>\n",
              "    .colab-df-container {\n",
              "      display:flex;\n",
              "      flex-wrap:wrap;\n",
              "      gap: 12px;\n",
              "    }\n",
              "\n",
              "    .colab-df-convert {\n",
              "      background-color: #E8F0FE;\n",
              "      border: none;\n",
              "      border-radius: 50%;\n",
              "      cursor: pointer;\n",
              "      display: none;\n",
              "      fill: #1967D2;\n",
              "      height: 32px;\n",
              "      padding: 0 0 0 0;\n",
              "      width: 32px;\n",
              "    }\n",
              "\n",
              "    .colab-df-convert:hover {\n",
              "      background-color: #E2EBFA;\n",
              "      box-shadow: 0px 1px 2px rgba(60, 64, 67, 0.3), 0px 1px 3px 1px rgba(60, 64, 67, 0.15);\n",
              "      fill: #174EA6;\n",
              "    }\n",
              "\n",
              "    [theme=dark] .colab-df-convert {\n",
              "      background-color: #3B4455;\n",
              "      fill: #D2E3FC;\n",
              "    }\n",
              "\n",
              "    [theme=dark] .colab-df-convert:hover {\n",
              "      background-color: #434B5C;\n",
              "      box-shadow: 0px 1px 3px 1px rgba(0, 0, 0, 0.15);\n",
              "      filter: drop-shadow(0px 1px 2px rgba(0, 0, 0, 0.3));\n",
              "      fill: #FFFFFF;\n",
              "    }\n",
              "  </style>\n",
              "\n",
              "      <script>\n",
              "        const buttonEl =\n",
              "          document.querySelector('#df-dbcf994b-18fb-4021-a93a-6e74417c5cfc button.colab-df-convert');\n",
              "        buttonEl.style.display =\n",
              "          google.colab.kernel.accessAllowed ? 'block' : 'none';\n",
              "\n",
              "        async function convertToInteractive(key) {\n",
              "          const element = document.querySelector('#df-dbcf994b-18fb-4021-a93a-6e74417c5cfc');\n",
              "          const dataTable =\n",
              "            await google.colab.kernel.invokeFunction('convertToInteractive',\n",
              "                                                     [key], {});\n",
              "          if (!dataTable) return;\n",
              "\n",
              "          const docLinkHtml = 'Like what you see? Visit the ' +\n",
              "            '<a target=\"_blank\" href=https://colab.research.google.com/notebooks/data_table.ipynb>data table notebook</a>'\n",
              "            + ' to learn more about interactive tables.';\n",
              "          element.innerHTML = '';\n",
              "          dataTable['output_type'] = 'display_data';\n",
              "          await google.colab.output.renderOutput(dataTable, element);\n",
              "          const docLink = document.createElement('div');\n",
              "          docLink.innerHTML = docLinkHtml;\n",
              "          element.appendChild(docLink);\n",
              "        }\n",
              "      </script>\n",
              "    </div>\n",
              "  </div>\n",
              "  "
            ]
          },
          "metadata": {},
          "execution_count": 23
        }
      ]
    },
    {
      "cell_type": "code",
      "source": [
        "file.drop('subject' , inplace = True , axis = 1)\n",
        "file"
      ],
      "metadata": {
        "colab": {
          "base_uri": "https://localhost:8080/",
          "height": 1000
        },
        "id": "OLMxpYdBZcZH",
        "outputId": "49f28ae2-635d-4cb3-9963-838390143fde"
      },
      "execution_count": 24,
      "outputs": [
        {
          "output_type": "execute_result",
          "data": {
            "text/plain": [
              "                                                                                                                                                                                                                                                                                                                                                                                                                                                                                                                                                                                                                      message  \\\n",
              "0     content - length : 3386 apple-iss research center a us $ 10 million joint venture between apple computer inc . and the institute of systems science of the national university of singapore , located in singapore , is looking for : a senior speech scientist - - - - - - - - - - - - - - - - - - - - - - - - - the successful candidate will have research expertise in computational linguistics , including natural language processing and * * english * * and * * chinese * * statistical language modeling . knowledge of state-of - the-art corpus-based n - gram language models , cache language models ,...   \n",
              "1     lang classification grimes , joseph e . and barbara f . grimes ; ethnologue language family index ; pb . isbn : 0-88312 - 708 - 3 ; vi , 116 pp . ; $ 14 . 00 . summer institute of linguistics . this companion volume to ethnologue : languages of the world , twelfth edition lists language families of the world with sub-groups shown in a tree arrangement under the broadest classification of language family . the language family index facilitates locating language names in the ethnologue , making the data there more accessible . internet : academic . books @ sil . org languages , reference lan...   \n",
              "2     i am posting this inquiry for sergei atamas ( satamas @ umabnet . ab . umd . edu ) , a research associate at the university of maryland at baltimore . his field is molecular biology , and his work involves comparing dna strings using various algorithms . i do n't understand the details well enough to pass them along . at any rate , one such algorithm relies upon frequencies with which the letters g , a , t , and c occur in the dna strings . he would like to explore the analogous use of letter ( sound ) frequencies in natural language texts . hence this posting . specifically , sergei wonde...   \n",
              "3                                                                                                                                                                                                                                                                                       a colleague and i are researching the differing degrees of risk perceived by our hong kong students in different contexts where spoken english is required . we would be interested to find out more about research in the area of risk-taking in language learning . so far we have n't come up with much . can anyone help here ?\\n   \n",
              "4     earlier this morning i was on the phone with a friend of mine living in south america . as we were talking in spanish , he said : \" si voy a la liberi ' a , comprare ' el libro \" which can be rendered into english as \" if i go to the bookstore , i will purchase it \" . i found this expression a bit unusual so i asked him saying that he really meant to say \" si fuese a la libreri ' a , comprari ' a el libro \" or \" if i were to go to the bookstore , i would buy it \" to which he said to me , \" ah , the subjunctive is dead in spanish ! \" . weather this is a matter of subjunctive discussion or n...   \n",
              "...                                                                                                                                                                                                                                                                                                                                                                                                                                                                                                                                                                                                                       ...   \n",
              "2888                                                                                                                                                                                                                                                                                                                                                  hello thanks for stopping by ! ! we have taken many new pics and made some hot new videos ! they are the most erotic we have done ! stop by and be our guest for oodles of free fun ! click here and enter we thank you for all your business in the past ! the haven\\n   \n",
              "2889  the list owner of : \" kiddin \" has invited you to join their mailing list at listbot . you must reply to this message to join the list . = = simply reply with a blank message to join . = = the list owner has included the following welcome message : = = = = = = = = = = = = = = = = = = = = = = = = = = = = = = = = = = = = = = = = = = = = = = = = = = = = = = = = = = = hi guys ! this is just a quick message to invite you to join kiddin , a uk based daily humour list . . . . . . . . . . and because we think you ' re all groovy people who deserve to know . to sign up : hit reply and send the repl...   \n",
              "2890  judging from the return post , i must have sounded like some kind of self-proclaimed expert on composers ' names . let me hasten to say that i ' m not . all the pronunciations i put in that little list came as surprises to me . in all cases but one , they were given to me by native speakers of the composers ' language , while i was visiting the composers ' native country . i do n't speak any of those languages and certainly do not claim any expertise . i ' ve just been trusting \" competent native speakers \" . the one exception , by the way , was when karl haas , on one of his daily \" adven...   \n",
              "2891  gotcha ! there are two separate fallacies in the argument against n-ary comparison which i discussed recently and which powers , delancey , and guy are now apparently seeking to defend . ( 1 ) janhunen says that the probability of a match occurring purely by chance when you compare japanese with four languages is four times what it is when you compare it with one language . this simply cannot be true because probabilities are values between 0 and 1 . if the probablity in the case of a binary comparison was say . 5 , then he would be predicting that it would be 2 in the case of n-ary compar...   \n",
              "2892  hello ! i ' m working on a thesis concerning attitudes toward america and the use of american - english by australia . i would be interested in hearing from anyone who has researched this field or who knows of recent research . i ' m particularly interested in the methods used to illicit or ascertain the use of target vocabulary ( eg . pharmacist vs chemist , candy vs lollies etc . ) if you can help , please email jmar2 @ mfs01 . cc . monash . edu . au an edited list of responses will be posted on the linguist list thank you , jessica marks = = = = = = = = = = = = = = = = = = = = = = = = =...   \n",
              "\n",
              "      label  \\\n",
              "0         0   \n",
              "1         0   \n",
              "2         0   \n",
              "3         0   \n",
              "4         0   \n",
              "...     ...   \n",
              "2888      1   \n",
              "2889      1   \n",
              "2890      0   \n",
              "2891      0   \n",
              "2892      0   \n",
              "\n",
              "                                                                                                                                                                                                                                                                                                                                                                                                                                                                                                                                                                                                                       submsg  \\\n",
              "0     job posting - apple-iss research centercontent - length : 3386 apple-iss research center a us $ 10 million joint venture between apple computer inc . and the institute of systems science of the national university of singapore , located in singapore , is looking for : a senior speech scientist - - - - - - - - - - - - - - - - - - - - - - - - - the successful candidate will have research expertise in computational linguistics , including natural language processing and * * english * * and * * chinese * * statistical language modeling . knowledge of state-of - the-art corpus-based n - gram la...   \n",
              "1     sociolinguisticslang classification grimes , joseph e . and barbara f . grimes ; ethnologue language family index ; pb . isbn : 0-88312 - 708 - 3 ; vi , 116 pp . ; $ 14 . 00 . summer institute of linguistics . this companion volume to ethnologue : languages of the world , twelfth edition lists language families of the world with sub-groups shown in a tree arrangement under the broadest classification of language family . the language family index facilitates locating language names in the ethnologue , making the data there more accessible . internet : academic . books @ sil . org languages...   \n",
              "2     query : letter frequencies for text identificationi am posting this inquiry for sergei atamas ( satamas @ umabnet . ab . umd . edu ) , a research associate at the university of maryland at baltimore . his field is molecular biology , and his work involves comparing dna strings using various algorithms . i do n't understand the details well enough to pass them along . at any rate , one such algorithm relies upon frequencies with which the letters g , a , t , and c occur in the dna strings . he would like to explore the analogous use of letter ( sound ) frequencies in natural language texts ...   \n",
              "3                                                                                                                                                                                                                                                                                   riska colleague and i are researching the differing degrees of risk perceived by our hong kong students in different contexts where spoken english is required . we would be interested to find out more about research in the area of risk-taking in language learning . so far we have n't come up with much . can anyone help here ?\\n   \n",
              "4     request book informationearlier this morning i was on the phone with a friend of mine living in south america . as we were talking in spanish , he said : \" si voy a la liberi ' a , comprare ' el libro \" which can be rendered into english as \" if i go to the bookstore , i will purchase it \" . i found this expression a bit unusual so i asked him saying that he really meant to say \" si fuese a la libreri ' a , comprari ' a el libro \" or \" if i were to go to the bookstore , i would buy it \" to which he said to me , \" ah , the subjunctive is dead in spanish ! \" . weather this is a matter of sub...   \n",
              "...                                                                                                                                                                                                                                                                                                                                                                                                                                                                                                                                                                                                                       ...   \n",
              "2888                                                                                                                                                                                                                                                                                                                      love your profile - ysuolvpvhello thanks for stopping by ! ! we have taken many new pics and made some hot new videos ! they are the most erotic we have done ! stop by and be our guest for oodles of free fun ! click here and enter we thank you for all your business in the past ! the haven\\n   \n",
              "2889  you have been asked to join kiddinthe list owner of : \" kiddin \" has invited you to join their mailing list at listbot . you must reply to this message to join the list . = = simply reply with a blank message to join . = = the list owner has included the following welcome message : = = = = = = = = = = = = = = = = = = = = = = = = = = = = = = = = = = = = = = = = = = = = = = = = = = = = = = = = = = = hi guys ! this is just a quick message to invite you to join kiddin , a uk based daily humour list . . . . . . . . . . and because we think you ' re all groovy people who deserve to know . to sig...   \n",
              "2890  anglicization of composers ' namesjudging from the return post , i must have sounded like some kind of self-proclaimed expert on composers ' names . let me hasten to say that i ' m not . all the pronunciations i put in that little list came as surprises to me . in all cases but one , they were given to me by native speakers of the composers ' language , while i was visiting the composers ' native country . i do n't speak any of those languages and certainly do not claim any expertise . i ' ve just been trusting \" competent native speakers \" . the one exception , by the way , was when karl ...   \n",
              "2891  re : 6 . 797 , comparative method : n - ary comparisongotcha ! there are two separate fallacies in the argument against n-ary comparison which i discussed recently and which powers , delancey , and guy are now apparently seeking to defend . ( 1 ) janhunen says that the probability of a match occurring purely by chance when you compare japanese with four languages is four times what it is when you compare it with one language . this simply cannot be true because probabilities are values between 0 and 1 . if the probablity in the case of a binary comparison was say . 5 , then he would be pre...   \n",
              "2892  re : american - english in australiahello ! i ' m working on a thesis concerning attitudes toward america and the use of american - english by australia . i would be interested in hearing from anyone who has researched this field or who knows of recent research . i ' m particularly interested in the methods used to illicit or ascertain the use of target vocabulary ( eg . pharmacist vs chemist , candy vs lollies etc . ) if you can help , please email jmar2 @ mfs01 . cc . monash . edu . au an edited list of responses will be posted on the linguist list thank you , jessica marks = = = = = = =...   \n",
              "\n",
              "      length  \n",
              "0       2895  \n",
              "1       1816  \n",
              "2       1485  \n",
              "3        328  \n",
              "4       1070  \n",
              "...      ...  \n",
              "2888     290  \n",
              "2889    2197  \n",
              "2890    1073  \n",
              "2891    3003  \n",
              "2892     736  \n",
              "\n",
              "[2893 rows x 4 columns]"
            ],
            "text/html": [
              "\n",
              "  <div id=\"df-8cf5cb65-d200-460d-879a-ba6c9d24ddc0\">\n",
              "    <div class=\"colab-df-container\">\n",
              "      <div>\n",
              "<style scoped>\n",
              "    .dataframe tbody tr th:only-of-type {\n",
              "        vertical-align: middle;\n",
              "    }\n",
              "\n",
              "    .dataframe tbody tr th {\n",
              "        vertical-align: top;\n",
              "    }\n",
              "\n",
              "    .dataframe thead th {\n",
              "        text-align: right;\n",
              "    }\n",
              "</style>\n",
              "<table border=\"1\" class=\"dataframe\">\n",
              "  <thead>\n",
              "    <tr style=\"text-align: right;\">\n",
              "      <th></th>\n",
              "      <th>message</th>\n",
              "      <th>label</th>\n",
              "      <th>submsg</th>\n",
              "      <th>length</th>\n",
              "    </tr>\n",
              "  </thead>\n",
              "  <tbody>\n",
              "    <tr>\n",
              "      <th>0</th>\n",
              "      <td>content - length : 3386 apple-iss research center a us $ 10 million joint venture between apple computer inc . and the institute of systems science of the national university of singapore , located in singapore , is looking for : a senior speech scientist - - - - - - - - - - - - - - - - - - - - - - - - - the successful candidate will have research expertise in computational linguistics , including natural language processing and * * english * * and * * chinese * * statistical language modeling . knowledge of state-of - the-art corpus-based n - gram language models , cache language models ,...</td>\n",
              "      <td>0</td>\n",
              "      <td>job posting - apple-iss research centercontent - length : 3386 apple-iss research center a us $ 10 million joint venture between apple computer inc . and the institute of systems science of the national university of singapore , located in singapore , is looking for : a senior speech scientist - - - - - - - - - - - - - - - - - - - - - - - - - the successful candidate will have research expertise in computational linguistics , including natural language processing and * * english * * and * * chinese * * statistical language modeling . knowledge of state-of - the-art corpus-based n - gram la...</td>\n",
              "      <td>2895</td>\n",
              "    </tr>\n",
              "    <tr>\n",
              "      <th>1</th>\n",
              "      <td>lang classification grimes , joseph e . and barbara f . grimes ; ethnologue language family index ; pb . isbn : 0-88312 - 708 - 3 ; vi , 116 pp . ; $ 14 . 00 . summer institute of linguistics . this companion volume to ethnologue : languages of the world , twelfth edition lists language families of the world with sub-groups shown in a tree arrangement under the broadest classification of language family . the language family index facilitates locating language names in the ethnologue , making the data there more accessible . internet : academic . books @ sil . org languages , reference lan...</td>\n",
              "      <td>0</td>\n",
              "      <td>sociolinguisticslang classification grimes , joseph e . and barbara f . grimes ; ethnologue language family index ; pb . isbn : 0-88312 - 708 - 3 ; vi , 116 pp . ; $ 14 . 00 . summer institute of linguistics . this companion volume to ethnologue : languages of the world , twelfth edition lists language families of the world with sub-groups shown in a tree arrangement under the broadest classification of language family . the language family index facilitates locating language names in the ethnologue , making the data there more accessible . internet : academic . books @ sil . org languages...</td>\n",
              "      <td>1816</td>\n",
              "    </tr>\n",
              "    <tr>\n",
              "      <th>2</th>\n",
              "      <td>i am posting this inquiry for sergei atamas ( satamas @ umabnet . ab . umd . edu ) , a research associate at the university of maryland at baltimore . his field is molecular biology , and his work involves comparing dna strings using various algorithms . i do n't understand the details well enough to pass them along . at any rate , one such algorithm relies upon frequencies with which the letters g , a , t , and c occur in the dna strings . he would like to explore the analogous use of letter ( sound ) frequencies in natural language texts . hence this posting . specifically , sergei wonde...</td>\n",
              "      <td>0</td>\n",
              "      <td>query : letter frequencies for text identificationi am posting this inquiry for sergei atamas ( satamas @ umabnet . ab . umd . edu ) , a research associate at the university of maryland at baltimore . his field is molecular biology , and his work involves comparing dna strings using various algorithms . i do n't understand the details well enough to pass them along . at any rate , one such algorithm relies upon frequencies with which the letters g , a , t , and c occur in the dna strings . he would like to explore the analogous use of letter ( sound ) frequencies in natural language texts ...</td>\n",
              "      <td>1485</td>\n",
              "    </tr>\n",
              "    <tr>\n",
              "      <th>3</th>\n",
              "      <td>a colleague and i are researching the differing degrees of risk perceived by our hong kong students in different contexts where spoken english is required . we would be interested to find out more about research in the area of risk-taking in language learning . so far we have n't come up with much . can anyone help here ?\\n</td>\n",
              "      <td>0</td>\n",
              "      <td>riska colleague and i are researching the differing degrees of risk perceived by our hong kong students in different contexts where spoken english is required . we would be interested to find out more about research in the area of risk-taking in language learning . so far we have n't come up with much . can anyone help here ?\\n</td>\n",
              "      <td>328</td>\n",
              "    </tr>\n",
              "    <tr>\n",
              "      <th>4</th>\n",
              "      <td>earlier this morning i was on the phone with a friend of mine living in south america . as we were talking in spanish , he said : \" si voy a la liberi ' a , comprare ' el libro \" which can be rendered into english as \" if i go to the bookstore , i will purchase it \" . i found this expression a bit unusual so i asked him saying that he really meant to say \" si fuese a la libreri ' a , comprari ' a el libro \" or \" if i were to go to the bookstore , i would buy it \" to which he said to me , \" ah , the subjunctive is dead in spanish ! \" . weather this is a matter of subjunctive discussion or n...</td>\n",
              "      <td>0</td>\n",
              "      <td>request book informationearlier this morning i was on the phone with a friend of mine living in south america . as we were talking in spanish , he said : \" si voy a la liberi ' a , comprare ' el libro \" which can be rendered into english as \" if i go to the bookstore , i will purchase it \" . i found this expression a bit unusual so i asked him saying that he really meant to say \" si fuese a la libreri ' a , comprari ' a el libro \" or \" if i were to go to the bookstore , i would buy it \" to which he said to me , \" ah , the subjunctive is dead in spanish ! \" . weather this is a matter of sub...</td>\n",
              "      <td>1070</td>\n",
              "    </tr>\n",
              "    <tr>\n",
              "      <th>...</th>\n",
              "      <td>...</td>\n",
              "      <td>...</td>\n",
              "      <td>...</td>\n",
              "      <td>...</td>\n",
              "    </tr>\n",
              "    <tr>\n",
              "      <th>2888</th>\n",
              "      <td>hello thanks for stopping by ! ! we have taken many new pics and made some hot new videos ! they are the most erotic we have done ! stop by and be our guest for oodles of free fun ! click here and enter we thank you for all your business in the past ! the haven\\n</td>\n",
              "      <td>1</td>\n",
              "      <td>love your profile - ysuolvpvhello thanks for stopping by ! ! we have taken many new pics and made some hot new videos ! they are the most erotic we have done ! stop by and be our guest for oodles of free fun ! click here and enter we thank you for all your business in the past ! the haven\\n</td>\n",
              "      <td>290</td>\n",
              "    </tr>\n",
              "    <tr>\n",
              "      <th>2889</th>\n",
              "      <td>the list owner of : \" kiddin \" has invited you to join their mailing list at listbot . you must reply to this message to join the list . = = simply reply with a blank message to join . = = the list owner has included the following welcome message : = = = = = = = = = = = = = = = = = = = = = = = = = = = = = = = = = = = = = = = = = = = = = = = = = = = = = = = = = = = hi guys ! this is just a quick message to invite you to join kiddin , a uk based daily humour list . . . . . . . . . . and because we think you ' re all groovy people who deserve to know . to sign up : hit reply and send the repl...</td>\n",
              "      <td>1</td>\n",
              "      <td>you have been asked to join kiddinthe list owner of : \" kiddin \" has invited you to join their mailing list at listbot . you must reply to this message to join the list . = = simply reply with a blank message to join . = = the list owner has included the following welcome message : = = = = = = = = = = = = = = = = = = = = = = = = = = = = = = = = = = = = = = = = = = = = = = = = = = = = = = = = = = = hi guys ! this is just a quick message to invite you to join kiddin , a uk based daily humour list . . . . . . . . . . and because we think you ' re all groovy people who deserve to know . to sig...</td>\n",
              "      <td>2197</td>\n",
              "    </tr>\n",
              "    <tr>\n",
              "      <th>2890</th>\n",
              "      <td>judging from the return post , i must have sounded like some kind of self-proclaimed expert on composers ' names . let me hasten to say that i ' m not . all the pronunciations i put in that little list came as surprises to me . in all cases but one , they were given to me by native speakers of the composers ' language , while i was visiting the composers ' native country . i do n't speak any of those languages and certainly do not claim any expertise . i ' ve just been trusting \" competent native speakers \" . the one exception , by the way , was when karl haas , on one of his daily \" adven...</td>\n",
              "      <td>0</td>\n",
              "      <td>anglicization of composers ' namesjudging from the return post , i must have sounded like some kind of self-proclaimed expert on composers ' names . let me hasten to say that i ' m not . all the pronunciations i put in that little list came as surprises to me . in all cases but one , they were given to me by native speakers of the composers ' language , while i was visiting the composers ' native country . i do n't speak any of those languages and certainly do not claim any expertise . i ' ve just been trusting \" competent native speakers \" . the one exception , by the way , was when karl ...</td>\n",
              "      <td>1073</td>\n",
              "    </tr>\n",
              "    <tr>\n",
              "      <th>2891</th>\n",
              "      <td>gotcha ! there are two separate fallacies in the argument against n-ary comparison which i discussed recently and which powers , delancey , and guy are now apparently seeking to defend . ( 1 ) janhunen says that the probability of a match occurring purely by chance when you compare japanese with four languages is four times what it is when you compare it with one language . this simply cannot be true because probabilities are values between 0 and 1 . if the probablity in the case of a binary comparison was say . 5 , then he would be predicting that it would be 2 in the case of n-ary compar...</td>\n",
              "      <td>0</td>\n",
              "      <td>re : 6 . 797 , comparative method : n - ary comparisongotcha ! there are two separate fallacies in the argument against n-ary comparison which i discussed recently and which powers , delancey , and guy are now apparently seeking to defend . ( 1 ) janhunen says that the probability of a match occurring purely by chance when you compare japanese with four languages is four times what it is when you compare it with one language . this simply cannot be true because probabilities are values between 0 and 1 . if the probablity in the case of a binary comparison was say . 5 , then he would be pre...</td>\n",
              "      <td>3003</td>\n",
              "    </tr>\n",
              "    <tr>\n",
              "      <th>2892</th>\n",
              "      <td>hello ! i ' m working on a thesis concerning attitudes toward america and the use of american - english by australia . i would be interested in hearing from anyone who has researched this field or who knows of recent research . i ' m particularly interested in the methods used to illicit or ascertain the use of target vocabulary ( eg . pharmacist vs chemist , candy vs lollies etc . ) if you can help , please email jmar2 @ mfs01 . cc . monash . edu . au an edited list of responses will be posted on the linguist list thank you , jessica marks = = = = = = = = = = = = = = = = = = = = = = = = =...</td>\n",
              "      <td>0</td>\n",
              "      <td>re : american - english in australiahello ! i ' m working on a thesis concerning attitudes toward america and the use of american - english by australia . i would be interested in hearing from anyone who has researched this field or who knows of recent research . i ' m particularly interested in the methods used to illicit or ascertain the use of target vocabulary ( eg . pharmacist vs chemist , candy vs lollies etc . ) if you can help , please email jmar2 @ mfs01 . cc . monash . edu . au an edited list of responses will be posted on the linguist list thank you , jessica marks = = = = = = =...</td>\n",
              "      <td>736</td>\n",
              "    </tr>\n",
              "  </tbody>\n",
              "</table>\n",
              "<p>2893 rows × 4 columns</p>\n",
              "</div>\n",
              "      <button class=\"colab-df-convert\" onclick=\"convertToInteractive('df-8cf5cb65-d200-460d-879a-ba6c9d24ddc0')\"\n",
              "              title=\"Convert this dataframe to an interactive table.\"\n",
              "              style=\"display:none;\">\n",
              "        \n",
              "  <svg xmlns=\"http://www.w3.org/2000/svg\" height=\"24px\"viewBox=\"0 0 24 24\"\n",
              "       width=\"24px\">\n",
              "    <path d=\"M0 0h24v24H0V0z\" fill=\"none\"/>\n",
              "    <path d=\"M18.56 5.44l.94 2.06.94-2.06 2.06-.94-2.06-.94-.94-2.06-.94 2.06-2.06.94zm-11 1L8.5 8.5l.94-2.06 2.06-.94-2.06-.94L8.5 2.5l-.94 2.06-2.06.94zm10 10l.94 2.06.94-2.06 2.06-.94-2.06-.94-.94-2.06-.94 2.06-2.06.94z\"/><path d=\"M17.41 7.96l-1.37-1.37c-.4-.4-.92-.59-1.43-.59-.52 0-1.04.2-1.43.59L10.3 9.45l-7.72 7.72c-.78.78-.78 2.05 0 2.83L4 21.41c.39.39.9.59 1.41.59.51 0 1.02-.2 1.41-.59l7.78-7.78 2.81-2.81c.8-.78.8-2.07 0-2.86zM5.41 20L4 18.59l7.72-7.72 1.47 1.35L5.41 20z\"/>\n",
              "  </svg>\n",
              "      </button>\n",
              "      \n",
              "  <style>\n",
              "    .colab-df-container {\n",
              "      display:flex;\n",
              "      flex-wrap:wrap;\n",
              "      gap: 12px;\n",
              "    }\n",
              "\n",
              "    .colab-df-convert {\n",
              "      background-color: #E8F0FE;\n",
              "      border: none;\n",
              "      border-radius: 50%;\n",
              "      cursor: pointer;\n",
              "      display: none;\n",
              "      fill: #1967D2;\n",
              "      height: 32px;\n",
              "      padding: 0 0 0 0;\n",
              "      width: 32px;\n",
              "    }\n",
              "\n",
              "    .colab-df-convert:hover {\n",
              "      background-color: #E2EBFA;\n",
              "      box-shadow: 0px 1px 2px rgba(60, 64, 67, 0.3), 0px 1px 3px 1px rgba(60, 64, 67, 0.15);\n",
              "      fill: #174EA6;\n",
              "    }\n",
              "\n",
              "    [theme=dark] .colab-df-convert {\n",
              "      background-color: #3B4455;\n",
              "      fill: #D2E3FC;\n",
              "    }\n",
              "\n",
              "    [theme=dark] .colab-df-convert:hover {\n",
              "      background-color: #434B5C;\n",
              "      box-shadow: 0px 1px 3px 1px rgba(0, 0, 0, 0.15);\n",
              "      filter: drop-shadow(0px 1px 2px rgba(0, 0, 0, 0.3));\n",
              "      fill: #FFFFFF;\n",
              "    }\n",
              "  </style>\n",
              "\n",
              "      <script>\n",
              "        const buttonEl =\n",
              "          document.querySelector('#df-8cf5cb65-d200-460d-879a-ba6c9d24ddc0 button.colab-df-convert');\n",
              "        buttonEl.style.display =\n",
              "          google.colab.kernel.accessAllowed ? 'block' : 'none';\n",
              "\n",
              "        async function convertToInteractive(key) {\n",
              "          const element = document.querySelector('#df-8cf5cb65-d200-460d-879a-ba6c9d24ddc0');\n",
              "          const dataTable =\n",
              "            await google.colab.kernel.invokeFunction('convertToInteractive',\n",
              "                                                     [key], {});\n",
              "          if (!dataTable) return;\n",
              "\n",
              "          const docLinkHtml = 'Like what you see? Visit the ' +\n",
              "            '<a target=\"_blank\" href=https://colab.research.google.com/notebooks/data_table.ipynb>data table notebook</a>'\n",
              "            + ' to learn more about interactive tables.';\n",
              "          element.innerHTML = '';\n",
              "          dataTable['output_type'] = 'display_data';\n",
              "          await google.colab.output.renderOutput(dataTable, element);\n",
              "          const docLink = document.createElement('div');\n",
              "          docLink.innerHTML = docLinkHtml;\n",
              "          element.appendChild(docLink);\n",
              "        }\n",
              "      </script>\n",
              "    </div>\n",
              "  </div>\n",
              "  "
            ]
          },
          "metadata": {},
          "execution_count": 24
        }
      ]
    },
    {
      "cell_type": "code",
      "source": [
        "file['message'][2888]"
      ],
      "metadata": {
        "colab": {
          "base_uri": "https://localhost:8080/",
          "height": 53
        },
        "id": "ywvMxs2RZchm",
        "outputId": "d60f38ae-c886-4008-83d4-7924a35eb5ba"
      },
      "execution_count": 25,
      "outputs": [
        {
          "output_type": "execute_result",
          "data": {
            "text/plain": [
              "'hello thanks for stopping by ! ! we have taken many new pics and made some hot new videos ! they are the most erotic we have done ! stop by and be our guest for oodles of free fun ! click here and enter we thank you for all your business in the past ! the haven\\n'"
            ],
            "application/vnd.google.colaboratory.intrinsic+json": {
              "type": "string"
            }
          },
          "metadata": {},
          "execution_count": 25
        }
      ]
    },
    {
      "cell_type": "markdown",
      "source": [
        "Since this mail has lot of charecters and also the enter or new line is formatted in the form of --, we need to perform text cleaning. Down below is the text cleaning process."
      ],
      "metadata": {
        "id": "BJfa4wDvcqSj"
      }
    },
    {
      "cell_type": "code",
      "source": [
        "import re\n",
        "def decontraction(phrase):\n",
        "  phrase = re.sub(r\"won't\",'will not' , phrase)\n",
        "  phrase = re.sub(r\"can't\",'can not' , phrase)\n",
        "  phrase = re.sub(r\"n\\'t\", \" not\", phrase)\n",
        "  phrase = re.sub(r\"\\'re\", \" are\", phrase)\n",
        "  phrase = re.sub(r\"\\'s\", \" is\", phrase)\n",
        "  phrase = re.sub(r\"\\'d\", \" would\", phrase)\n",
        "  phrase = re.sub(r\"\\'ll\", \" will\", phrase)\n",
        "  phrase = re.sub(r\"\\'t\", \" not\", phrase)\n",
        "  phrase = re.sub(r\"\\'ve\", \" have\", phrase)\n",
        "  phrase = re.sub(r\"\\'m\", \" am\", phrase)\n",
        "  return phrase"
      ],
      "metadata": {
        "id": "_wvJ9ywAZcmO"
      },
      "execution_count": 26,
      "outputs": []
    },
    {
      "cell_type": "markdown",
      "source": [
        "What this snippet does is it removes all the contracted text and returns the full form text. which then reduces our complexety and makes it easier for the machine. For example: \"I won't call you\" will change into \"I will not call you\", etcetra. "
      ],
      "metadata": {
        "id": "rThrQrZueePl"
      }
    },
    {
      "cell_type": "code",
      "source": [
        "message = decontraction(file['message'][0])\n",
        "message"
      ],
      "metadata": {
        "colab": {
          "base_uri": "https://localhost:8080/",
          "height": 105
        },
        "id": "j0worY86Zcqu",
        "outputId": "a0a59913-f1a0-4fab-ea4a-32286b3d030e"
      },
      "execution_count": 27,
      "outputs": [
        {
          "output_type": "execute_result",
          "data": {
            "text/plain": [
              "'content - length : 3386 apple-iss research center a us $ 10 million joint venture between apple computer inc . and the institute of systems science of the national university of singapore , located in singapore , is looking for : a senior speech scientist - - - - - - - - - - - - - - - - - - - - - - - - - the successful candidate will have research expertise in computational linguistics , including natural language processing and * * english * * and * * chinese * * statistical language modeling . knowledge of state-of - the-art corpus-based n - gram language models , cache language models , and part-of - speech language models are required . a text - to - speech project leader - - - - - - - - - - - - - - - - - - - - - - - - - - - - - - - the successful candidate will have research expertise expertise in two or more of the following areas : computational linguistics , including natural language parsing , lexical database design , and statistical language modeling ; text tokenization and normalization ; prosodic analysis . substantial knowledge of the phonology , syntax , and semantics of chinese is required . knowledge of acoustic phonetics and / or speech signal processing is desirable . both candidates will have a phd with at least 2 to 4 years of relevant work experience , or a technical msc degree with at least 5 to 7 years of experienc e . very strong software engineering skills , including design and implementation , and productization are required in these positions . knowledge of c , c + + and unix are preferred . a unix & c programmer - - - - - - - - - - - - - - - - - - - - we are looking for an experienced unix & c programmer , preferably with good industry experience , to join us in breaking new frontiers . strong knowledge of unix tools ( compilers , linkers , make , x - windows , e - mac , . . . ) and experience in matlab required . sun and silicon graphic experience is an advantage . programmers with less than two years industry experience need not apply . these positions include interaction with scientists in the national university of singapore , and with apple  is speech research and productization efforts located in cupertino , california . attendance and publication in international scientific / engineering conferences is encouraged . benefits include an internationally competitive salary , housing subsidy , and relocation expenses . _ _ _ _ _ _ _ _ _ _ _ _ _ _ _ _ _ _ _ _ _ _ _ _ _ _ _ _ _ _ _ _ _ _ _ _ _ _ _ _ _ _ _ _ _ _ _ _ _ _ _ _ _ _ _ _ _ _ _ _ _ _ _ _ _ _ send a complete resume , enclosing personal particulars , qualifications , experience and contact telephone number to : mr jean - luc lebrun center manager apple - iss research center , institute of systems science heng mui keng terrace , singapore 0511 tel : ( 65 ) 772-6571 fax : ( 65 ) 776-4005 email : jllebrun @ iss . nus . sg\\n'"
            ],
            "application/vnd.google.colaboratory.intrinsic+json": {
              "type": "string"
            }
          },
          "metadata": {},
          "execution_count": 27
        }
      ]
    },
    {
      "cell_type": "code",
      "source": [
        "#dealing with numbers\n",
        "file['submsg'] = file['submsg'].str.replace(r'\\d+(\\.\\d+)?' , 'numbers')\n",
        "file['submsg'][0]"
      ],
      "metadata": {
        "colab": {
          "base_uri": "https://localhost:8080/",
          "height": 140
        },
        "id": "1Rf855uaZcuc",
        "outputId": "a7ab6505-79e3-407b-d748-c98476d1bf66"
      },
      "execution_count": 28,
      "outputs": [
        {
          "output_type": "stream",
          "name": "stderr",
          "text": [
            "<ipython-input-28-476f22a9b710>:2: FutureWarning: The default value of regex will change from True to False in a future version.\n",
            "  file['submsg'] = file['submsg'].str.replace(r'\\d+(\\.\\d+)?' , 'numbers')\n"
          ]
        },
        {
          "output_type": "execute_result",
          "data": {
            "text/plain": [
              "\"job posting - apple-iss research centercontent - length : numbers apple-iss research center a us $ numbers million joint venture between apple computer inc . and the institute of systems science of the national university of singapore , located in singapore , is looking for : a senior speech scientist - - - - - - - - - - - - - - - - - - - - - - - - - the successful candidate will have research expertise in computational linguistics , including natural language processing and * * english * * and * * chinese * * statistical language modeling . knowledge of state-of - the-art corpus-based n - gram language models , cache language models , and part-of - speech language models are required . a text - to - speech project leader - - - - - - - - - - - - - - - - - - - - - - - - - - - - - - - the successful candidate will have research expertise expertise in two or more of the following areas : computational linguistics , including natural language parsing , lexical database design , and statistical language modeling ; text tokenization and normalization ; prosodic analysis . substantial knowledge of the phonology , syntax , and semantics of chinese is required . knowledge of acoustic phonetics and / or speech signal processing is desirable . both candidates will have a phd with at least numbers to numbers years of relevant work experience , or a technical msc degree with at least numbers to numbers years of experienc e . very strong software engineering skills , including design and implementation , and productization are required in these positions . knowledge of c , c + + and unix are preferred . a unix & c programmer - - - - - - - - - - - - - - - - - - - - we are looking for an experienced unix & c programmer , preferably with good industry experience , to join us in breaking new frontiers . strong knowledge of unix tools ( compilers , linkers , make , x - windows , e - mac , . . . ) and experience in matlab required . sun and silicon graphic experience is an advantage . programmers with less than two years industry experience need not apply . these positions include interaction with scientists in the national university of singapore , and with apple 's speech research and productization efforts located in cupertino , california . attendance and publication in international scientific / engineering conferences is encouraged . benefits include an internationally competitive salary , housing subsidy , and relocation expenses . _ _ _ _ _ _ _ _ _ _ _ _ _ _ _ _ _ _ _ _ _ _ _ _ _ _ _ _ _ _ _ _ _ _ _ _ _ _ _ _ _ _ _ _ _ _ _ _ _ _ _ _ _ _ _ _ _ _ _ _ _ _ _ _ _ _ send a complete resume , enclosing personal particulars , qualifications , experience and contact telephone number to : mr jean - luc lebrun center manager apple - iss research center , institute of systems science heng mui keng terrace , singapore numbers tel : ( numbers ) numbers-numbers fax : ( numbers ) numbers-numbers email : jllebrun @ iss . nus . sg\\n\""
            ],
            "application/vnd.google.colaboratory.intrinsic+json": {
              "type": "string"
            }
          },
          "metadata": {},
          "execution_count": 28
        }
      ]
    },
    {
      "cell_type": "markdown",
      "source": [
        "Dealing with lowercase and spaces. "
      ],
      "metadata": {
        "id": "DulcALTGm4wv"
      }
    },
    {
      "cell_type": "code",
      "source": [
        "file['submsg'] = file['submsg'].str.lower()\n",
        "file['submsg'] = file['submsg'].str.replace(r'\\n' , \" \")\n",
        "file['submsg'] = file['submsg'].str.replace(r'([A-Za-z0-9]+[.-_])*[A-Za-z0-9]+@[A-Za-z0-9-]+(\\.[A-Z|a-z]{2,})+' , 'MailID')\n",
        "file['submsg'] = file['submsg'].str.replace(r'£|\\$','Money')\n",
        "file['submsg'] = file['submsg'].str.replace(r'\\s+' , ' ')\n",
        "file['submsg'] = file['submsg'].str.replace(r'^\\s+|\\s+?$' , '')\n",
        "file['submsg']=file['submsg'].str.replace(r'^http\\://[a-zA-Z0-9\\-\\.]+\\.[a-zA-Z]{2,3}(/\\S*)?$','Links')\n",
        "file['submsg']=file['submsg'].str.replace(r'^\\(?[\\d]{3}\\)?[\\s-]?[\\d]{3}[\\s-]?[\\d]{4}$','contact number')\n",
        "file['submsg']=file['submsg'].str.replace(r\"[^a-zA-Z0-9]+\", \" \")"
      ],
      "metadata": {
        "colab": {
          "base_uri": "https://localhost:8080/"
        },
        "id": "KrsbcJYiZcxs",
        "outputId": "c1199ef6-0bed-431d-fb64-cbc883edb982"
      },
      "execution_count": 29,
      "outputs": [
        {
          "output_type": "stream",
          "name": "stderr",
          "text": [
            "<ipython-input-29-2eb047ddadf6>:2: FutureWarning: The default value of regex will change from True to False in a future version.\n",
            "  file['submsg'] = file['submsg'].str.replace(r'\\n' , \" \")\n",
            "<ipython-input-29-2eb047ddadf6>:3: FutureWarning: The default value of regex will change from True to False in a future version.\n",
            "  file['submsg'] = file['submsg'].str.replace(r'([A-Za-z0-9]+[.-_])*[A-Za-z0-9]+@[A-Za-z0-9-]+(\\.[A-Z|a-z]{2,})+' , 'MailID')\n",
            "<ipython-input-29-2eb047ddadf6>:4: FutureWarning: The default value of regex will change from True to False in a future version.\n",
            "  file['submsg'] = file['submsg'].str.replace(r'£|\\$','Money')\n",
            "<ipython-input-29-2eb047ddadf6>:5: FutureWarning: The default value of regex will change from True to False in a future version.\n",
            "  file['submsg'] = file['submsg'].str.replace(r'\\s+' , ' ')\n",
            "<ipython-input-29-2eb047ddadf6>:6: FutureWarning: The default value of regex will change from True to False in a future version.\n",
            "  file['submsg'] = file['submsg'].str.replace(r'^\\s+|\\s+?$' , '')\n",
            "<ipython-input-29-2eb047ddadf6>:7: FutureWarning: The default value of regex will change from True to False in a future version.\n",
            "  file['submsg']=file['submsg'].str.replace(r'^http\\://[a-zA-Z0-9\\-\\.]+\\.[a-zA-Z]{2,3}(/\\S*)?$','Links')\n",
            "<ipython-input-29-2eb047ddadf6>:8: FutureWarning: The default value of regex will change from True to False in a future version.\n",
            "  file['submsg']=file['submsg'].str.replace(r'^\\(?[\\d]{3}\\)?[\\s-]?[\\d]{3}[\\s-]?[\\d]{4}$','contact number')\n",
            "<ipython-input-29-2eb047ddadf6>:9: FutureWarning: The default value of regex will change from True to False in a future version.\n",
            "  file['submsg']=file['submsg'].str.replace(r\"[^a-zA-Z0-9]+\", \" \")\n"
          ]
        }
      ]
    },
    {
      "cell_type": "code",
      "source": [
        "file['submsg'][0]"
      ],
      "metadata": {
        "colab": {
          "base_uri": "https://localhost:8080/",
          "height": 105
        },
        "id": "GM07l9Q7Zc03",
        "outputId": "55c46b7d-66a4-461a-c8a1-7cad21d6d4fd"
      },
      "execution_count": 30,
      "outputs": [
        {
          "output_type": "execute_result",
          "data": {
            "text/plain": [
              "'job posting apple iss research centercontent length numbers apple iss research center a us Money numbers million joint venture between apple computer inc and the institute of systems science of the national university of singapore located in singapore is looking for a senior speech scientist the successful candidate will have research expertise in computational linguistics including natural language processing and english and chinese statistical language modeling knowledge of state of the art corpus based n gram language models cache language models and part of speech language models are required a text to speech project leader the successful candidate will have research expertise expertise in two or more of the following areas computational linguistics including natural language parsing lexical database design and statistical language modeling text tokenization and normalization prosodic analysis substantial knowledge of the phonology syntax and semantics of chinese is required knowledge of acoustic phonetics and or speech signal processing is desirable both candidates will have a phd with at least numbers to numbers years of relevant work experience or a technical msc degree with at least numbers to numbers years of experienc e very strong software engineering skills including design and implementation and productization are required in these positions knowledge of c c and unix are preferred a unix c programmer we are looking for an experienced unix c programmer preferably with good industry experience to join us in breaking new frontiers strong knowledge of unix tools compilers linkers make x windows e mac and experience in matlab required sun and silicon graphic experience is an advantage programmers with less than two years industry experience need not apply these positions include interaction with scientists in the national university of singapore and with apple s speech research and productization efforts located in cupertino california attendance and publication in international scientific engineering conferences is encouraged benefits include an internationally competitive salary housing subsidy and relocation expenses send a complete resume enclosing personal particulars qualifications experience and contact telephone number to mr jean luc lebrun center manager apple iss research center institute of systems science heng mui keng terrace singapore numbers tel numbers numbers numbers fax numbers numbers numbers email jllebrun iss nus sg'"
            ],
            "application/vnd.google.colaboratory.intrinsic+json": {
              "type": "string"
            }
          },
          "metadata": {},
          "execution_count": 30
        }
      ]
    },
    {
      "cell_type": "code",
      "source": [
        "file['message'] = file['message'].str.replace(r'\\d+(\\.\\d+)?' , 'numbers')\n",
        "file['message'] = file['message'].str.lower()\n",
        "file['message'] = file['message'].str.replace(r'\\n' , \" \")\n",
        "file['message'] = file['message'].str.replace(r'([A-Za-z0-9]+[.-_])*[A-Za-z0-9]+@[A-Za-z0-9-]+(\\.[A-Z|a-z]{2,})+' , 'MailID')\n",
        "file['message'] = file['message'].str.replace(r'£|\\$','Money')\n",
        "file['message'] = file['message'].str.replace(r'\\s+' , ' ')\n",
        "file['message'] = file['message'].str.replace(r'^\\s+|\\s+?$' , '')\n",
        "file['message']=file['message'].str.replace(r'^http\\://[a-zA-Z0-9\\-\\.]+\\.[a-zA-Z]{2,3}(/\\S*)?$','Links')\n",
        "file['message']=file['message'].str.replace(r'^\\(?[\\d]{3}\\)?[\\s-]?[\\d]{3}[\\s-]?[\\d]{4}$','contact number')\n",
        "file['message']=file['message'].str.replace(r\"[^a-zA-Z0-9]+\", \" \")"
      ],
      "metadata": {
        "colab": {
          "base_uri": "https://localhost:8080/"
        },
        "id": "rYx5VzsiZc3s",
        "outputId": "c2be01fc-1207-4bc5-ae8b-a550b2d6224f"
      },
      "execution_count": 31,
      "outputs": [
        {
          "output_type": "stream",
          "name": "stderr",
          "text": [
            "<ipython-input-31-15fffa5a2270>:1: FutureWarning: The default value of regex will change from True to False in a future version.\n",
            "  file['message'] = file['message'].str.replace(r'\\d+(\\.\\d+)?' , 'numbers')\n",
            "<ipython-input-31-15fffa5a2270>:3: FutureWarning: The default value of regex will change from True to False in a future version.\n",
            "  file['message'] = file['message'].str.replace(r'\\n' , \" \")\n",
            "<ipython-input-31-15fffa5a2270>:4: FutureWarning: The default value of regex will change from True to False in a future version.\n",
            "  file['message'] = file['message'].str.replace(r'([A-Za-z0-9]+[.-_])*[A-Za-z0-9]+@[A-Za-z0-9-]+(\\.[A-Z|a-z]{2,})+' , 'MailID')\n",
            "<ipython-input-31-15fffa5a2270>:5: FutureWarning: The default value of regex will change from True to False in a future version.\n",
            "  file['message'] = file['message'].str.replace(r'£|\\$','Money')\n",
            "<ipython-input-31-15fffa5a2270>:6: FutureWarning: The default value of regex will change from True to False in a future version.\n",
            "  file['message'] = file['message'].str.replace(r'\\s+' , ' ')\n",
            "<ipython-input-31-15fffa5a2270>:7: FutureWarning: The default value of regex will change from True to False in a future version.\n",
            "  file['message'] = file['message'].str.replace(r'^\\s+|\\s+?$' , '')\n",
            "<ipython-input-31-15fffa5a2270>:8: FutureWarning: The default value of regex will change from True to False in a future version.\n",
            "  file['message']=file['message'].str.replace(r'^http\\://[a-zA-Z0-9\\-\\.]+\\.[a-zA-Z]{2,3}(/\\S*)?$','Links')\n",
            "<ipython-input-31-15fffa5a2270>:9: FutureWarning: The default value of regex will change from True to False in a future version.\n",
            "  file['message']=file['message'].str.replace(r'^\\(?[\\d]{3}\\)?[\\s-]?[\\d]{3}[\\s-]?[\\d]{4}$','contact number')\n",
            "<ipython-input-31-15fffa5a2270>:10: FutureWarning: The default value of regex will change from True to False in a future version.\n",
            "  file['message']=file['message'].str.replace(r\"[^a-zA-Z0-9]+\", \" \")\n"
          ]
        }
      ]
    },
    {
      "cell_type": "code",
      "source": [
        "file['message'][0] , file['submsg'][0]"
      ],
      "metadata": {
        "colab": {
          "base_uri": "https://localhost:8080/"
        },
        "id": "drSNdx4AZc7O",
        "outputId": "6a771f11-b8a5-4877-b451-33f8b98e664e"
      },
      "execution_count": 32,
      "outputs": [
        {
          "output_type": "execute_result",
          "data": {
            "text/plain": [
              "('content length numbers apple iss research center a us Money numbers million joint venture between apple computer inc and the institute of systems science of the national university of singapore located in singapore is looking for a senior speech scientist the successful candidate will have research expertise in computational linguistics including natural language processing and english and chinese statistical language modeling knowledge of state of the art corpus based n gram language models cache language models and part of speech language models are required a text to speech project leader the successful candidate will have research expertise expertise in two or more of the following areas computational linguistics including natural language parsing lexical database design and statistical language modeling text tokenization and normalization prosodic analysis substantial knowledge of the phonology syntax and semantics of chinese is required knowledge of acoustic phonetics and or speech signal processing is desirable both candidates will have a phd with at least numbers to numbers years of relevant work experience or a technical msc degree with at least numbers to numbers years of experienc e very strong software engineering skills including design and implementation and productization are required in these positions knowledge of c c and unix are preferred a unix c programmer we are looking for an experienced unix c programmer preferably with good industry experience to join us in breaking new frontiers strong knowledge of unix tools compilers linkers make x windows e mac and experience in matlab required sun and silicon graphic experience is an advantage programmers with less than two years industry experience need not apply these positions include interaction with scientists in the national university of singapore and with apple s speech research and productization efforts located in cupertino california attendance and publication in international scientific engineering conferences is encouraged benefits include an internationally competitive salary housing subsidy and relocation expenses send a complete resume enclosing personal particulars qualifications experience and contact telephone number to mr jean luc lebrun center manager apple iss research center institute of systems science heng mui keng terrace singapore numbers tel numbers numbers numbers fax numbers numbers numbers email jllebrun iss nus sg',\n",
              " 'job posting apple iss research centercontent length numbers apple iss research center a us Money numbers million joint venture between apple computer inc and the institute of systems science of the national university of singapore located in singapore is looking for a senior speech scientist the successful candidate will have research expertise in computational linguistics including natural language processing and english and chinese statistical language modeling knowledge of state of the art corpus based n gram language models cache language models and part of speech language models are required a text to speech project leader the successful candidate will have research expertise expertise in two or more of the following areas computational linguistics including natural language parsing lexical database design and statistical language modeling text tokenization and normalization prosodic analysis substantial knowledge of the phonology syntax and semantics of chinese is required knowledge of acoustic phonetics and or speech signal processing is desirable both candidates will have a phd with at least numbers to numbers years of relevant work experience or a technical msc degree with at least numbers to numbers years of experienc e very strong software engineering skills including design and implementation and productization are required in these positions knowledge of c c and unix are preferred a unix c programmer we are looking for an experienced unix c programmer preferably with good industry experience to join us in breaking new frontiers strong knowledge of unix tools compilers linkers make x windows e mac and experience in matlab required sun and silicon graphic experience is an advantage programmers with less than two years industry experience need not apply these positions include interaction with scientists in the national university of singapore and with apple s speech research and productization efforts located in cupertino california attendance and publication in international scientific engineering conferences is encouraged benefits include an internationally competitive salary housing subsidy and relocation expenses send a complete resume enclosing personal particulars qualifications experience and contact telephone number to mr jean luc lebrun center manager apple iss research center institute of systems science heng mui keng terrace singapore numbers tel numbers numbers numbers fax numbers numbers numbers email jllebrun iss nus sg')"
            ]
          },
          "metadata": {},
          "execution_count": 32
        }
      ]
    },
    {
      "cell_type": "markdown",
      "source": [
        "The below snippet is used to remove stopwords in english like a, the , an etc.., The reason we are doing this is to improve the accuracy and also the efficiency of out model. "
      ],
      "metadata": {
        "id": "QX9R_t56wFB2"
      }
    },
    {
      "cell_type": "code",
      "source": [
        "from tqdm import tqdm\n",
        "from nltk.corpus import stopwords\n",
        "from nltk.tokenize import word_tokenize, sent_tokenize\n",
        "import nltk\n",
        "nltk.download('stopwords')\n",
        "stop = stopwords.words('english')\n",
        "file['clean_text'] = file['submsg'].apply(lambda x: ' '.join([word for word in x.split() if word not in (stop)]))"
      ],
      "metadata": {
        "id": "5FUGTwuD58qy",
        "colab": {
          "base_uri": "https://localhost:8080/"
        },
        "outputId": "3f9486b8-826c-43b9-d0a3-97017b6e489b"
      },
      "execution_count": 37,
      "outputs": [
        {
          "output_type": "stream",
          "name": "stderr",
          "text": [
            "[nltk_data] Downloading package stopwords to /root/nltk_data...\n",
            "[nltk_data]   Unzipping corpora/stopwords.zip.\n"
          ]
        }
      ]
    },
    {
      "cell_type": "code",
      "source": [
        "original_length = sum(file['length'])\n",
        "file['aft_len'] = file['clean_text'].apply(len)\n",
        "after_cleaning = sum(file['aft_len'])\n",
        "original_length , after_cleaning"
      ],
      "metadata": {
        "colab": {
          "base_uri": "https://localhost:8080/"
        },
        "id": "7mgApKIKZc-P",
        "outputId": "06a07784-b285-4879-be6c-ab16bd5cc4e2"
      },
      "execution_count": 38,
      "outputs": [
        {
          "output_type": "execute_result",
          "data": {
            "text/plain": [
              "(9437398, 6847913)"
            ]
          },
          "metadata": {},
          "execution_count": 38
        }
      ]
    },
    {
      "cell_type": "code",
      "source": [
        "file['clean_text'][0]"
      ],
      "metadata": {
        "colab": {
          "base_uri": "https://localhost:8080/",
          "height": 105
        },
        "id": "T4VxcOsxZdBd",
        "outputId": "724e977e-f9d6-4b80-d52d-f09123c5ff8a"
      },
      "execution_count": 39,
      "outputs": [
        {
          "output_type": "execute_result",
          "data": {
            "text/plain": [
              "'job posting apple iss research centercontent length numbers apple iss research center us Money numbers million joint venture apple computer inc institute systems science national university singapore located singapore looking senior speech scientist successful candidate research expertise computational linguistics including natural language processing english chinese statistical language modeling knowledge state art corpus based n gram language models cache language models part speech language models required text speech project leader successful candidate research expertise expertise two following areas computational linguistics including natural language parsing lexical database design statistical language modeling text tokenization normalization prosodic analysis substantial knowledge phonology syntax semantics chinese required knowledge acoustic phonetics speech signal processing desirable candidates phd least numbers numbers years relevant work experience technical msc degree least numbers numbers years experienc e strong software engineering skills including design implementation productization required positions knowledge c c unix preferred unix c programmer looking experienced unix c programmer preferably good industry experience join us breaking new frontiers strong knowledge unix tools compilers linkers make x windows e mac experience matlab required sun silicon graphic experience advantage programmers less two years industry experience need apply positions include interaction scientists national university singapore apple speech research productization efforts located cupertino california attendance publication international scientific engineering conferences encouraged benefits include internationally competitive salary housing subsidy relocation expenses send complete resume enclosing personal particulars qualifications experience contact telephone number mr jean luc lebrun center manager apple iss research center institute systems science heng mui keng terrace singapore numbers tel numbers numbers numbers fax numbers numbers numbers email jllebrun iss nus sg'"
            ],
            "application/vnd.google.colaboratory.intrinsic+json": {
              "type": "string"
            }
          },
          "metadata": {},
          "execution_count": 39
        }
      ]
    },
    {
      "cell_type": "code",
      "source": [
        "file.columns"
      ],
      "metadata": {
        "colab": {
          "base_uri": "https://localhost:8080/"
        },
        "id": "jAojhS7yZdEm",
        "outputId": "193af7ec-6a2f-42e0-f559-5a45c5b214d7"
      },
      "execution_count": 40,
      "outputs": [
        {
          "output_type": "execute_result",
          "data": {
            "text/plain": [
              "Index(['message', 'label', 'submsg', 'length', 'clean_text', 'aft_len'], dtype='object')"
            ]
          },
          "metadata": {},
          "execution_count": 40
        }
      ]
    },
    {
      "cell_type": "code",
      "source": [
        "file['label'] = file['label'].map({0: 'NOT SPAM', 1:'SPAM'})\n",
        "file"
      ],
      "metadata": {
        "colab": {
          "base_uri": "https://localhost:8080/",
          "height": 1000
        },
        "id": "dJsL_CmEZdH2",
        "outputId": "561791a2-d41c-4ff4-be97-e0fd8bb81581"
      },
      "execution_count": 41,
      "outputs": [
        {
          "output_type": "execute_result",
          "data": {
            "text/plain": [
              "                                                                                                                                                                                                                                                                                                                                                                                                                                                                                                                                                                                                                      message  \\\n",
              "0     content length numbers apple iss research center a us Money numbers million joint venture between apple computer inc and the institute of systems science of the national university of singapore located in singapore is looking for a senior speech scientist the successful candidate will have research expertise in computational linguistics including natural language processing and english and chinese statistical language modeling knowledge of state of the art corpus based n gram language models cache language models and part of speech language models are required a text to speech project lead...   \n",
              "1     lang classification grimes joseph e and barbara f grimes ethnologue language family index pb isbn numbers numbers numbers numbers vi numbers pp Money numbers numbers summer institute of linguistics this companion volume to ethnologue languages of the world twelfth edition lists language families of the world with sub groups shown in a tree arrangement under the broadest classification of language family the language family index facilitates locating language names in the ethnologue making the data there more accessible internet academic books sil org languages reference lang culture greger...   \n",
              "2     i am posting this inquiry for sergei atamas satamas umabnet ab umd edu a research associate at the university of maryland at baltimore his field is molecular biology and his work involves comparing dna strings using various algorithms i do n t understand the details well enough to pass them along at any rate one such algorithm relies upon frequencies with which the letters g a t and c occur in the dna strings he would like to explore the analogous use of letter sound frequencies in natural language texts hence this posting specifically sergei wonders if any linguist subscribers could help ...   \n",
              "3                                                                                                                                                                                                                                                                                                a colleague and i are researching the differing degrees of risk perceived by our hong kong students in different contexts where spoken english is required we would be interested to find out more about research in the area of risk taking in language learning so far we have n t come up with much can anyone help here    \n",
              "4     earlier this morning i was on the phone with a friend of mine living in south america as we were talking in spanish he said si voy a la liberi a comprare el libro which can be rendered into english as if i go to the bookstore i will purchase it i found this expression a bit unusual so i asked him saying that he really meant to say si fuese a la libreri a comprari a el libro or if i were to go to the bookstore i would buy it to which he said to me ah the subjunctive is dead in spanish weather this is a matter of subjunctive discussion or not is something to be left for another time neverthe...   \n",
              "...                                                                                                                                                                                                                                                                                                                                                                                                                                                                                                                                                                                                                       ...   \n",
              "2888                                                                                                                                                                                                                                                                                                                                                                hello thanks for stopping by we have taken many new pics and made some hot new videos they are the most erotic we have done stop by and be our guest for oodles of free fun click here and enter we thank you for all your business in the past the haven   \n",
              "2889  the list owner of kiddin has invited you to join their mailing list at listbot you must reply to this message to join the list simply reply with a blank message to join the list owner has included the following welcome message hi guys this is just a quick message to invite you to join kiddin a uk based daily humour list and because we think you re all groovy people who deserve to know to sign up hit reply and send the reply to us that ll sign you up or send a blank e mail to kiddin subscribe listbot com or sign up on line at http kiddin listbot com also check out our website at http come t...   \n",
              "2890  judging from the return post i must have sounded like some kind of self proclaimed expert on composers names let me hasten to say that i m not all the pronunciations i put in that little list came as surprises to me in all cases but one they were given to me by native speakers of the composers language while i was visiting the composers native country i do n t speak any of those languages and certainly do not claim any expertise i ve just been trusting competent native speakers the one exception by the way was when karl haas on one of his daily adventures in good music broadcasts asserted ...   \n",
              "2891  gotcha there are two separate fallacies in the argument against n ary comparison which i discussed recently and which powers delancey and guy are now apparently seeking to defend numbers janhunen says that the probability of a match occurring purely by chance when you compare japanese with four languages is four times what it is when you compare it with one language this simply cannot be true because probabilities are values between numbers and numbers if the probablity in the case of a binary comparison was say numbers then he would be predicting that it would be numbers in the case of n ...   \n",
              "2892                                        hello i m working on a thesis concerning attitudes toward america and the use of american english by australia i would be interested in hearing from anyone who has researched this field or who knows of recent research i m particularly interested in the methods used to illicit or ascertain the use of target vocabulary eg pharmacist vs chemist candy vs lollies etc if you can help please email jmarnumbers mfsnumbers cc monash edu au an edited list of responses will be posted on the linguist list thank you jessica marks jmarnumbers mfsnumbers cc monash edu au   \n",
              "\n",
              "         label  \\\n",
              "0     NOT SPAM   \n",
              "1     NOT SPAM   \n",
              "2     NOT SPAM   \n",
              "3     NOT SPAM   \n",
              "4     NOT SPAM   \n",
              "...        ...   \n",
              "2888      SPAM   \n",
              "2889      SPAM   \n",
              "2890  NOT SPAM   \n",
              "2891  NOT SPAM   \n",
              "2892  NOT SPAM   \n",
              "\n",
              "                                                                                                                                                                                                                                                                                                                                                                                                                                                                                                                                                                                                                       submsg  \\\n",
              "0     job posting apple iss research centercontent length numbers apple iss research center a us Money numbers million joint venture between apple computer inc and the institute of systems science of the national university of singapore located in singapore is looking for a senior speech scientist the successful candidate will have research expertise in computational linguistics including natural language processing and english and chinese statistical language modeling knowledge of state of the art corpus based n gram language models cache language models and part of speech language models are r...   \n",
              "1     sociolinguisticslang classification grimes joseph e and barbara f grimes ethnologue language family index pb isbn numbers numbers numbers numbers vi numbers pp Money numbers numbers summer institute of linguistics this companion volume to ethnologue languages of the world twelfth edition lists language families of the world with sub groups shown in a tree arrangement under the broadest classification of language family the language family index facilitates locating language names in the ethnologue making the data there more accessible internet academic books sil org languages reference lan...   \n",
              "2     query letter frequencies for text identificationi am posting this inquiry for sergei atamas satamas umabnet ab umd edu a research associate at the university of maryland at baltimore his field is molecular biology and his work involves comparing dna strings using various algorithms i do n t understand the details well enough to pass them along at any rate one such algorithm relies upon frequencies with which the letters g a t and c occur in the dna strings he would like to explore the analogous use of letter sound frequencies in natural language texts hence this posting specifically sergei...   \n",
              "3                                                                                                                                                                                                                                                                                            riska colleague and i are researching the differing degrees of risk perceived by our hong kong students in different contexts where spoken english is required we would be interested to find out more about research in the area of risk taking in language learning so far we have n t come up with much can anyone help here    \n",
              "4     request book informationearlier this morning i was on the phone with a friend of mine living in south america as we were talking in spanish he said si voy a la liberi a comprare el libro which can be rendered into english as if i go to the bookstore i will purchase it i found this expression a bit unusual so i asked him saying that he really meant to say si fuese a la libreri a comprari a el libro or if i were to go to the bookstore i would buy it to which he said to me ah the subjunctive is dead in spanish weather this is a matter of subjunctive discussion or not is something to be left f...   \n",
              "...                                                                                                                                                                                                                                                                                                                                                                                                                                                                                                                                                                                                                       ...   \n",
              "2888                                                                                                                                                                                                                                                                                                                                      love your profile ysuolvpvhello thanks for stopping by we have taken many new pics and made some hot new videos they are the most erotic we have done stop by and be our guest for oodles of free fun click here and enter we thank you for all your business in the past the haven   \n",
              "2889  you have been asked to join kiddinthe list owner of kiddin has invited you to join their mailing list at listbot you must reply to this message to join the list simply reply with a blank message to join the list owner has included the following welcome message hi guys this is just a quick message to invite you to join kiddin a uk based daily humour list and because we think you re all groovy people who deserve to know to sign up hit reply and send the reply to us that ll sign you up or send a blank e mail to kiddin subscribe listbot com or sign up on line at http kiddin listbot com also ch...   \n",
              "2890  anglicization of composers namesjudging from the return post i must have sounded like some kind of self proclaimed expert on composers names let me hasten to say that i m not all the pronunciations i put in that little list came as surprises to me in all cases but one they were given to me by native speakers of the composers language while i was visiting the composers native country i do n t speak any of those languages and certainly do not claim any expertise i ve just been trusting competent native speakers the one exception by the way was when karl haas on one of his daily adventures in...   \n",
              "2891  re numbers numbers comparative method n ary comparisongotcha there are two separate fallacies in the argument against n ary comparison which i discussed recently and which powers delancey and guy are now apparently seeking to defend numbers janhunen says that the probability of a match occurring purely by chance when you compare japanese with four languages is four times what it is when you compare it with one language this simply cannot be true because probabilities are values between numbers and numbers if the probablity in the case of a binary comparison was say numbers then he would be...   \n",
              "2892        re american english in australiahello i m working on a thesis concerning attitudes toward america and the use of american english by australia i would be interested in hearing from anyone who has researched this field or who knows of recent research i m particularly interested in the methods used to illicit or ascertain the use of target vocabulary eg pharmacist vs chemist candy vs lollies etc if you can help please email jmarnumbers mfsnumbers cc monash edu au an edited list of responses will be posted on the linguist list thank you jessica marks jmarnumbers mfsnumbers cc monash edu au   \n",
              "\n",
              "      length  \\\n",
              "0       2895   \n",
              "1       1816   \n",
              "2       1485   \n",
              "3        328   \n",
              "4       1070   \n",
              "...      ...   \n",
              "2888     290   \n",
              "2889    2197   \n",
              "2890    1073   \n",
              "2891    3003   \n",
              "2892     736   \n",
              "\n",
              "                                                                                                                                                                                                                                                                                                                                                                                                                                                                                                                                                                                                                   clean_text  \\\n",
              "0     job posting apple iss research centercontent length numbers apple iss research center us Money numbers million joint venture apple computer inc institute systems science national university singapore located singapore looking senior speech scientist successful candidate research expertise computational linguistics including natural language processing english chinese statistical language modeling knowledge state art corpus based n gram language models cache language models part speech language models required text speech project leader successful candidate research expertise expertise two ...   \n",
              "1     sociolinguisticslang classification grimes joseph e barbara f grimes ethnologue language family index pb isbn numbers numbers numbers numbers vi numbers pp Money numbers numbers summer institute linguistics companion volume ethnologue languages world twelfth edition lists language families world sub groups shown tree arrangement broadest classification language family language family index facilitates locating language names ethnologue making data accessible internet academic books sil org languages reference lang culture gregerson marilyn ritual belief kinship sulawesi pb isbn numbers num...   \n",
              "2     query letter frequencies text identificationi posting inquiry sergei atamas satamas umabnet ab umd edu research associate university maryland baltimore field molecular biology work involves comparing dna strings using various algorithms n understand details well enough pass along rate one algorithm relies upon frequencies letters g c occur dna strings would like explore analogous use letter sound frequencies natural language texts hence posting specifically sergei wonders linguist subscribers could help steer recent literature concerning text identification based letter frequencies suggest...   \n",
              "3                                                                                                                                                                                                                                                                                                                                                                                                    riska colleague researching differing degrees risk perceived hong kong students different contexts spoken english required would interested find research area risk taking language learning far n come much anyone help   \n",
              "4     request book informationearlier morning phone friend mine living south america talking spanish said si voy la liberi comprare el libro rendered english go bookstore purchase found expression bit unusual asked saying really meant say si fuese la libreri comprari el libro go bookstore would buy said ah subjunctive dead spanish weather matter subjunctive discussion something left another time nevertheless mentioned course conversation book spanish translation french original titled something like la muerte del subjuntivo demise death subjunctive one know book books may deal similar content he...   \n",
              "...                                                                                                                                                                                                                                                                                                                                                                                                                                                                                                                                                                                                                       ...   \n",
              "2888                                                                                                                                                                                                                                                                                                                                                                                                                                                                love profile ysuolvpvhello thanks stopping taken many new pics made hot new videos erotic done stop guest oodles free fun click enter thank business past   \n",
              "2889  asked join kiddinthe list owner kiddin invited join mailing list listbot must reply message join list simply reply blank message join list owner included following welcome message hi guys quick message invite join kiddin uk based daily humour list think groovy people deserve know sign hit reply send reply us sign send blank e mail kiddin subscribe listbot com sign line http kiddin listbot com also check website http come kiddin find daily cartoons including garfield dilbert line games remember sign daily jokes list reply message send blank e mail kiddin subscribe listbot com tell friends g...   \n",
              "2890  anglicization composers namesjudging return post must sounded like kind self proclaimed expert composers names let hasten say pronunciations put little list came surprises cases one given native speakers composers language visiting composers native country n speak languages certainly claim expertise trusting competent native speakers one exception way karl haas one daily adventures good music broadcasts asserted pachelbel pronounced pach el bel based karl provenance inclined trust perhaps gone overboard taking natives pronunciations gospel americans certainly manage mangle enough words n s...   \n",
              "2891  numbers numbers comparative method n ary comparisongotcha two separate fallacies argument n ary comparison discussed recently powers delancey guy apparently seeking defend numbers janhunen says probability match occurring purely chance compare japanese four languages four times compare one language simply cannot true probabilities values numbers numbers probablity case binary comparison say numbers would predicting would numbers case n ary comparison impossible numbers numbers numbers numbers fallacy purely mathematical although suspect involves elements confusio case one argues n ary comp...   \n",
              "2892                                                                                                                                     american english australiahello working thesis concerning attitudes toward america use american english australia would interested hearing anyone researched field knows recent research particularly interested methods used illicit ascertain use target vocabulary eg pharmacist vs chemist candy vs lollies etc help please email jmarnumbers mfsnumbers cc monash edu au edited list responses posted linguist list thank jessica marks jmarnumbers mfsnumbers cc monash edu au   \n",
              "\n",
              "      aft_len  \n",
              "0        2108  \n",
              "1        1506  \n",
              "2        1150  \n",
              "3         216  \n",
              "4         653  \n",
              "...       ...  \n",
              "2888      153  \n",
              "2889     1246  \n",
              "2890      672  \n",
              "2891     1986  \n",
              "2892      468  \n",
              "\n",
              "[2893 rows x 6 columns]"
            ],
            "text/html": [
              "\n",
              "  <div id=\"df-293affd2-2942-4b4f-b3f1-acc0f50424ea\">\n",
              "    <div class=\"colab-df-container\">\n",
              "      <div>\n",
              "<style scoped>\n",
              "    .dataframe tbody tr th:only-of-type {\n",
              "        vertical-align: middle;\n",
              "    }\n",
              "\n",
              "    .dataframe tbody tr th {\n",
              "        vertical-align: top;\n",
              "    }\n",
              "\n",
              "    .dataframe thead th {\n",
              "        text-align: right;\n",
              "    }\n",
              "</style>\n",
              "<table border=\"1\" class=\"dataframe\">\n",
              "  <thead>\n",
              "    <tr style=\"text-align: right;\">\n",
              "      <th></th>\n",
              "      <th>message</th>\n",
              "      <th>label</th>\n",
              "      <th>submsg</th>\n",
              "      <th>length</th>\n",
              "      <th>clean_text</th>\n",
              "      <th>aft_len</th>\n",
              "    </tr>\n",
              "  </thead>\n",
              "  <tbody>\n",
              "    <tr>\n",
              "      <th>0</th>\n",
              "      <td>content length numbers apple iss research center a us Money numbers million joint venture between apple computer inc and the institute of systems science of the national university of singapore located in singapore is looking for a senior speech scientist the successful candidate will have research expertise in computational linguistics including natural language processing and english and chinese statistical language modeling knowledge of state of the art corpus based n gram language models cache language models and part of speech language models are required a text to speech project lead...</td>\n",
              "      <td>NOT SPAM</td>\n",
              "      <td>job posting apple iss research centercontent length numbers apple iss research center a us Money numbers million joint venture between apple computer inc and the institute of systems science of the national university of singapore located in singapore is looking for a senior speech scientist the successful candidate will have research expertise in computational linguistics including natural language processing and english and chinese statistical language modeling knowledge of state of the art corpus based n gram language models cache language models and part of speech language models are r...</td>\n",
              "      <td>2895</td>\n",
              "      <td>job posting apple iss research centercontent length numbers apple iss research center us Money numbers million joint venture apple computer inc institute systems science national university singapore located singapore looking senior speech scientist successful candidate research expertise computational linguistics including natural language processing english chinese statistical language modeling knowledge state art corpus based n gram language models cache language models part speech language models required text speech project leader successful candidate research expertise expertise two ...</td>\n",
              "      <td>2108</td>\n",
              "    </tr>\n",
              "    <tr>\n",
              "      <th>1</th>\n",
              "      <td>lang classification grimes joseph e and barbara f grimes ethnologue language family index pb isbn numbers numbers numbers numbers vi numbers pp Money numbers numbers summer institute of linguistics this companion volume to ethnologue languages of the world twelfth edition lists language families of the world with sub groups shown in a tree arrangement under the broadest classification of language family the language family index facilitates locating language names in the ethnologue making the data there more accessible internet academic books sil org languages reference lang culture greger...</td>\n",
              "      <td>NOT SPAM</td>\n",
              "      <td>sociolinguisticslang classification grimes joseph e and barbara f grimes ethnologue language family index pb isbn numbers numbers numbers numbers vi numbers pp Money numbers numbers summer institute of linguistics this companion volume to ethnologue languages of the world twelfth edition lists language families of the world with sub groups shown in a tree arrangement under the broadest classification of language family the language family index facilitates locating language names in the ethnologue making the data there more accessible internet academic books sil org languages reference lan...</td>\n",
              "      <td>1816</td>\n",
              "      <td>sociolinguisticslang classification grimes joseph e barbara f grimes ethnologue language family index pb isbn numbers numbers numbers numbers vi numbers pp Money numbers numbers summer institute linguistics companion volume ethnologue languages world twelfth edition lists language families world sub groups shown tree arrangement broadest classification language family language family index facilitates locating language names ethnologue making data accessible internet academic books sil org languages reference lang culture gregerson marilyn ritual belief kinship sulawesi pb isbn numbers num...</td>\n",
              "      <td>1506</td>\n",
              "    </tr>\n",
              "    <tr>\n",
              "      <th>2</th>\n",
              "      <td>i am posting this inquiry for sergei atamas satamas umabnet ab umd edu a research associate at the university of maryland at baltimore his field is molecular biology and his work involves comparing dna strings using various algorithms i do n t understand the details well enough to pass them along at any rate one such algorithm relies upon frequencies with which the letters g a t and c occur in the dna strings he would like to explore the analogous use of letter sound frequencies in natural language texts hence this posting specifically sergei wonders if any linguist subscribers could help ...</td>\n",
              "      <td>NOT SPAM</td>\n",
              "      <td>query letter frequencies for text identificationi am posting this inquiry for sergei atamas satamas umabnet ab umd edu a research associate at the university of maryland at baltimore his field is molecular biology and his work involves comparing dna strings using various algorithms i do n t understand the details well enough to pass them along at any rate one such algorithm relies upon frequencies with which the letters g a t and c occur in the dna strings he would like to explore the analogous use of letter sound frequencies in natural language texts hence this posting specifically sergei...</td>\n",
              "      <td>1485</td>\n",
              "      <td>query letter frequencies text identificationi posting inquiry sergei atamas satamas umabnet ab umd edu research associate university maryland baltimore field molecular biology work involves comparing dna strings using various algorithms n understand details well enough pass along rate one algorithm relies upon frequencies letters g c occur dna strings would like explore analogous use letter sound frequencies natural language texts hence posting specifically sergei wonders linguist subscribers could help steer recent literature concerning text identification based letter frequencies suggest...</td>\n",
              "      <td>1150</td>\n",
              "    </tr>\n",
              "    <tr>\n",
              "      <th>3</th>\n",
              "      <td>a colleague and i are researching the differing degrees of risk perceived by our hong kong students in different contexts where spoken english is required we would be interested to find out more about research in the area of risk taking in language learning so far we have n t come up with much can anyone help here</td>\n",
              "      <td>NOT SPAM</td>\n",
              "      <td>riska colleague and i are researching the differing degrees of risk perceived by our hong kong students in different contexts where spoken english is required we would be interested to find out more about research in the area of risk taking in language learning so far we have n t come up with much can anyone help here</td>\n",
              "      <td>328</td>\n",
              "      <td>riska colleague researching differing degrees risk perceived hong kong students different contexts spoken english required would interested find research area risk taking language learning far n come much anyone help</td>\n",
              "      <td>216</td>\n",
              "    </tr>\n",
              "    <tr>\n",
              "      <th>4</th>\n",
              "      <td>earlier this morning i was on the phone with a friend of mine living in south america as we were talking in spanish he said si voy a la liberi a comprare el libro which can be rendered into english as if i go to the bookstore i will purchase it i found this expression a bit unusual so i asked him saying that he really meant to say si fuese a la libreri a comprari a el libro or if i were to go to the bookstore i would buy it to which he said to me ah the subjunctive is dead in spanish weather this is a matter of subjunctive discussion or not is something to be left for another time neverthe...</td>\n",
              "      <td>NOT SPAM</td>\n",
              "      <td>request book informationearlier this morning i was on the phone with a friend of mine living in south america as we were talking in spanish he said si voy a la liberi a comprare el libro which can be rendered into english as if i go to the bookstore i will purchase it i found this expression a bit unusual so i asked him saying that he really meant to say si fuese a la libreri a comprari a el libro or if i were to go to the bookstore i would buy it to which he said to me ah the subjunctive is dead in spanish weather this is a matter of subjunctive discussion or not is something to be left f...</td>\n",
              "      <td>1070</td>\n",
              "      <td>request book informationearlier morning phone friend mine living south america talking spanish said si voy la liberi comprare el libro rendered english go bookstore purchase found expression bit unusual asked saying really meant say si fuese la libreri comprari el libro go bookstore would buy said ah subjunctive dead spanish weather matter subjunctive discussion something left another time nevertheless mentioned course conversation book spanish translation french original titled something like la muerte del subjuntivo demise death subjunctive one know book books may deal similar content he...</td>\n",
              "      <td>653</td>\n",
              "    </tr>\n",
              "    <tr>\n",
              "      <th>...</th>\n",
              "      <td>...</td>\n",
              "      <td>...</td>\n",
              "      <td>...</td>\n",
              "      <td>...</td>\n",
              "      <td>...</td>\n",
              "      <td>...</td>\n",
              "    </tr>\n",
              "    <tr>\n",
              "      <th>2888</th>\n",
              "      <td>hello thanks for stopping by we have taken many new pics and made some hot new videos they are the most erotic we have done stop by and be our guest for oodles of free fun click here and enter we thank you for all your business in the past the haven</td>\n",
              "      <td>SPAM</td>\n",
              "      <td>love your profile ysuolvpvhello thanks for stopping by we have taken many new pics and made some hot new videos they are the most erotic we have done stop by and be our guest for oodles of free fun click here and enter we thank you for all your business in the past the haven</td>\n",
              "      <td>290</td>\n",
              "      <td>love profile ysuolvpvhello thanks stopping taken many new pics made hot new videos erotic done stop guest oodles free fun click enter thank business past</td>\n",
              "      <td>153</td>\n",
              "    </tr>\n",
              "    <tr>\n",
              "      <th>2889</th>\n",
              "      <td>the list owner of kiddin has invited you to join their mailing list at listbot you must reply to this message to join the list simply reply with a blank message to join the list owner has included the following welcome message hi guys this is just a quick message to invite you to join kiddin a uk based daily humour list and because we think you re all groovy people who deserve to know to sign up hit reply and send the reply to us that ll sign you up or send a blank e mail to kiddin subscribe listbot com or sign up on line at http kiddin listbot com also check out our website at http come t...</td>\n",
              "      <td>SPAM</td>\n",
              "      <td>you have been asked to join kiddinthe list owner of kiddin has invited you to join their mailing list at listbot you must reply to this message to join the list simply reply with a blank message to join the list owner has included the following welcome message hi guys this is just a quick message to invite you to join kiddin a uk based daily humour list and because we think you re all groovy people who deserve to know to sign up hit reply and send the reply to us that ll sign you up or send a blank e mail to kiddin subscribe listbot com or sign up on line at http kiddin listbot com also ch...</td>\n",
              "      <td>2197</td>\n",
              "      <td>asked join kiddinthe list owner kiddin invited join mailing list listbot must reply message join list simply reply blank message join list owner included following welcome message hi guys quick message invite join kiddin uk based daily humour list think groovy people deserve know sign hit reply send reply us sign send blank e mail kiddin subscribe listbot com sign line http kiddin listbot com also check website http come kiddin find daily cartoons including garfield dilbert line games remember sign daily jokes list reply message send blank e mail kiddin subscribe listbot com tell friends g...</td>\n",
              "      <td>1246</td>\n",
              "    </tr>\n",
              "    <tr>\n",
              "      <th>2890</th>\n",
              "      <td>judging from the return post i must have sounded like some kind of self proclaimed expert on composers names let me hasten to say that i m not all the pronunciations i put in that little list came as surprises to me in all cases but one they were given to me by native speakers of the composers language while i was visiting the composers native country i do n t speak any of those languages and certainly do not claim any expertise i ve just been trusting competent native speakers the one exception by the way was when karl haas on one of his daily adventures in good music broadcasts asserted ...</td>\n",
              "      <td>NOT SPAM</td>\n",
              "      <td>anglicization of composers namesjudging from the return post i must have sounded like some kind of self proclaimed expert on composers names let me hasten to say that i m not all the pronunciations i put in that little list came as surprises to me in all cases but one they were given to me by native speakers of the composers language while i was visiting the composers native country i do n t speak any of those languages and certainly do not claim any expertise i ve just been trusting competent native speakers the one exception by the way was when karl haas on one of his daily adventures in...</td>\n",
              "      <td>1073</td>\n",
              "      <td>anglicization composers namesjudging return post must sounded like kind self proclaimed expert composers names let hasten say pronunciations put little list came surprises cases one given native speakers composers language visiting composers native country n speak languages certainly claim expertise trusting competent native speakers one exception way karl haas one daily adventures good music broadcasts asserted pachelbel pronounced pach el bel based karl provenance inclined trust perhaps gone overboard taking natives pronunciations gospel americans certainly manage mangle enough words n s...</td>\n",
              "      <td>672</td>\n",
              "    </tr>\n",
              "    <tr>\n",
              "      <th>2891</th>\n",
              "      <td>gotcha there are two separate fallacies in the argument against n ary comparison which i discussed recently and which powers delancey and guy are now apparently seeking to defend numbers janhunen says that the probability of a match occurring purely by chance when you compare japanese with four languages is four times what it is when you compare it with one language this simply cannot be true because probabilities are values between numbers and numbers if the probablity in the case of a binary comparison was say numbers then he would be predicting that it would be numbers in the case of n ...</td>\n",
              "      <td>NOT SPAM</td>\n",
              "      <td>re numbers numbers comparative method n ary comparisongotcha there are two separate fallacies in the argument against n ary comparison which i discussed recently and which powers delancey and guy are now apparently seeking to defend numbers janhunen says that the probability of a match occurring purely by chance when you compare japanese with four languages is four times what it is when you compare it with one language this simply cannot be true because probabilities are values between numbers and numbers if the probablity in the case of a binary comparison was say numbers then he would be...</td>\n",
              "      <td>3003</td>\n",
              "      <td>numbers numbers comparative method n ary comparisongotcha two separate fallacies argument n ary comparison discussed recently powers delancey guy apparently seeking defend numbers janhunen says probability match occurring purely chance compare japanese four languages four times compare one language simply cannot true probabilities values numbers numbers probablity case binary comparison say numbers would predicting would numbers case n ary comparison impossible numbers numbers numbers numbers fallacy purely mathematical although suspect involves elements confusio case one argues n ary comp...</td>\n",
              "      <td>1986</td>\n",
              "    </tr>\n",
              "    <tr>\n",
              "      <th>2892</th>\n",
              "      <td>hello i m working on a thesis concerning attitudes toward america and the use of american english by australia i would be interested in hearing from anyone who has researched this field or who knows of recent research i m particularly interested in the methods used to illicit or ascertain the use of target vocabulary eg pharmacist vs chemist candy vs lollies etc if you can help please email jmarnumbers mfsnumbers cc monash edu au an edited list of responses will be posted on the linguist list thank you jessica marks jmarnumbers mfsnumbers cc monash edu au</td>\n",
              "      <td>NOT SPAM</td>\n",
              "      <td>re american english in australiahello i m working on a thesis concerning attitudes toward america and the use of american english by australia i would be interested in hearing from anyone who has researched this field or who knows of recent research i m particularly interested in the methods used to illicit or ascertain the use of target vocabulary eg pharmacist vs chemist candy vs lollies etc if you can help please email jmarnumbers mfsnumbers cc monash edu au an edited list of responses will be posted on the linguist list thank you jessica marks jmarnumbers mfsnumbers cc monash edu au</td>\n",
              "      <td>736</td>\n",
              "      <td>american english australiahello working thesis concerning attitudes toward america use american english australia would interested hearing anyone researched field knows recent research particularly interested methods used illicit ascertain use target vocabulary eg pharmacist vs chemist candy vs lollies etc help please email jmarnumbers mfsnumbers cc monash edu au edited list responses posted linguist list thank jessica marks jmarnumbers mfsnumbers cc monash edu au</td>\n",
              "      <td>468</td>\n",
              "    </tr>\n",
              "  </tbody>\n",
              "</table>\n",
              "<p>2893 rows × 6 columns</p>\n",
              "</div>\n",
              "      <button class=\"colab-df-convert\" onclick=\"convertToInteractive('df-293affd2-2942-4b4f-b3f1-acc0f50424ea')\"\n",
              "              title=\"Convert this dataframe to an interactive table.\"\n",
              "              style=\"display:none;\">\n",
              "        \n",
              "  <svg xmlns=\"http://www.w3.org/2000/svg\" height=\"24px\"viewBox=\"0 0 24 24\"\n",
              "       width=\"24px\">\n",
              "    <path d=\"M0 0h24v24H0V0z\" fill=\"none\"/>\n",
              "    <path d=\"M18.56 5.44l.94 2.06.94-2.06 2.06-.94-2.06-.94-.94-2.06-.94 2.06-2.06.94zm-11 1L8.5 8.5l.94-2.06 2.06-.94-2.06-.94L8.5 2.5l-.94 2.06-2.06.94zm10 10l.94 2.06.94-2.06 2.06-.94-2.06-.94-.94-2.06-.94 2.06-2.06.94z\"/><path d=\"M17.41 7.96l-1.37-1.37c-.4-.4-.92-.59-1.43-.59-.52 0-1.04.2-1.43.59L10.3 9.45l-7.72 7.72c-.78.78-.78 2.05 0 2.83L4 21.41c.39.39.9.59 1.41.59.51 0 1.02-.2 1.41-.59l7.78-7.78 2.81-2.81c.8-.78.8-2.07 0-2.86zM5.41 20L4 18.59l7.72-7.72 1.47 1.35L5.41 20z\"/>\n",
              "  </svg>\n",
              "      </button>\n",
              "      \n",
              "  <style>\n",
              "    .colab-df-container {\n",
              "      display:flex;\n",
              "      flex-wrap:wrap;\n",
              "      gap: 12px;\n",
              "    }\n",
              "\n",
              "    .colab-df-convert {\n",
              "      background-color: #E8F0FE;\n",
              "      border: none;\n",
              "      border-radius: 50%;\n",
              "      cursor: pointer;\n",
              "      display: none;\n",
              "      fill: #1967D2;\n",
              "      height: 32px;\n",
              "      padding: 0 0 0 0;\n",
              "      width: 32px;\n",
              "    }\n",
              "\n",
              "    .colab-df-convert:hover {\n",
              "      background-color: #E2EBFA;\n",
              "      box-shadow: 0px 1px 2px rgba(60, 64, 67, 0.3), 0px 1px 3px 1px rgba(60, 64, 67, 0.15);\n",
              "      fill: #174EA6;\n",
              "    }\n",
              "\n",
              "    [theme=dark] .colab-df-convert {\n",
              "      background-color: #3B4455;\n",
              "      fill: #D2E3FC;\n",
              "    }\n",
              "\n",
              "    [theme=dark] .colab-df-convert:hover {\n",
              "      background-color: #434B5C;\n",
              "      box-shadow: 0px 1px 3px 1px rgba(0, 0, 0, 0.15);\n",
              "      filter: drop-shadow(0px 1px 2px rgba(0, 0, 0, 0.3));\n",
              "      fill: #FFFFFF;\n",
              "    }\n",
              "  </style>\n",
              "\n",
              "      <script>\n",
              "        const buttonEl =\n",
              "          document.querySelector('#df-293affd2-2942-4b4f-b3f1-acc0f50424ea button.colab-df-convert');\n",
              "        buttonEl.style.display =\n",
              "          google.colab.kernel.accessAllowed ? 'block' : 'none';\n",
              "\n",
              "        async function convertToInteractive(key) {\n",
              "          const element = document.querySelector('#df-293affd2-2942-4b4f-b3f1-acc0f50424ea');\n",
              "          const dataTable =\n",
              "            await google.colab.kernel.invokeFunction('convertToInteractive',\n",
              "                                                     [key], {});\n",
              "          if (!dataTable) return;\n",
              "\n",
              "          const docLinkHtml = 'Like what you see? Visit the ' +\n",
              "            '<a target=\"_blank\" href=https://colab.research.google.com/notebooks/data_table.ipynb>data table notebook</a>'\n",
              "            + ' to learn more about interactive tables.';\n",
              "          element.innerHTML = '';\n",
              "          dataTable['output_type'] = 'display_data';\n",
              "          await google.colab.output.renderOutput(dataTable, element);\n",
              "          const docLink = document.createElement('div');\n",
              "          docLink.innerHTML = docLinkHtml;\n",
              "          element.appendChild(docLink);\n",
              "        }\n",
              "      </script>\n",
              "    </div>\n",
              "  </div>\n",
              "  "
            ]
          },
          "metadata": {},
          "execution_count": 41
        }
      ]
    },
    {
      "cell_type": "code",
      "source": [
        "file.drop('message' , axis = 1 , inplace = True)\n",
        "file.drop('submsg' , axis = 1 , inplace = True)"
      ],
      "metadata": {
        "id": "MPe62AxpHrCj"
      },
      "execution_count": 42,
      "outputs": []
    },
    {
      "cell_type": "code",
      "source": [
        "file"
      ],
      "metadata": {
        "colab": {
          "base_uri": "https://localhost:8080/",
          "height": 762
        },
        "id": "F4jXw9O4H6Jl",
        "outputId": "b020d745-6859-42ce-fd8a-202a7caefad2"
      },
      "execution_count": 43,
      "outputs": [
        {
          "output_type": "execute_result",
          "data": {
            "text/plain": [
              "         label  length  \\\n",
              "0     NOT SPAM    2895   \n",
              "1     NOT SPAM    1816   \n",
              "2     NOT SPAM    1485   \n",
              "3     NOT SPAM     328   \n",
              "4     NOT SPAM    1070   \n",
              "...        ...     ...   \n",
              "2888      SPAM     290   \n",
              "2889      SPAM    2197   \n",
              "2890  NOT SPAM    1073   \n",
              "2891  NOT SPAM    3003   \n",
              "2892  NOT SPAM     736   \n",
              "\n",
              "                                                                                                                                                                                                                                                                                                                                                                                                                                                                                                                                                                                                                   clean_text  \\\n",
              "0     job posting apple iss research centercontent length numbers apple iss research center us Money numbers million joint venture apple computer inc institute systems science national university singapore located singapore looking senior speech scientist successful candidate research expertise computational linguistics including natural language processing english chinese statistical language modeling knowledge state art corpus based n gram language models cache language models part speech language models required text speech project leader successful candidate research expertise expertise two ...   \n",
              "1     sociolinguisticslang classification grimes joseph e barbara f grimes ethnologue language family index pb isbn numbers numbers numbers numbers vi numbers pp Money numbers numbers summer institute linguistics companion volume ethnologue languages world twelfth edition lists language families world sub groups shown tree arrangement broadest classification language family language family index facilitates locating language names ethnologue making data accessible internet academic books sil org languages reference lang culture gregerson marilyn ritual belief kinship sulawesi pb isbn numbers num...   \n",
              "2     query letter frequencies text identificationi posting inquiry sergei atamas satamas umabnet ab umd edu research associate university maryland baltimore field molecular biology work involves comparing dna strings using various algorithms n understand details well enough pass along rate one algorithm relies upon frequencies letters g c occur dna strings would like explore analogous use letter sound frequencies natural language texts hence posting specifically sergei wonders linguist subscribers could help steer recent literature concerning text identification based letter frequencies suggest...   \n",
              "3                                                                                                                                                                                                                                                                                                                                                                                                    riska colleague researching differing degrees risk perceived hong kong students different contexts spoken english required would interested find research area risk taking language learning far n come much anyone help   \n",
              "4     request book informationearlier morning phone friend mine living south america talking spanish said si voy la liberi comprare el libro rendered english go bookstore purchase found expression bit unusual asked saying really meant say si fuese la libreri comprari el libro go bookstore would buy said ah subjunctive dead spanish weather matter subjunctive discussion something left another time nevertheless mentioned course conversation book spanish translation french original titled something like la muerte del subjuntivo demise death subjunctive one know book books may deal similar content he...   \n",
              "...                                                                                                                                                                                                                                                                                                                                                                                                                                                                                                                                                                                                                       ...   \n",
              "2888                                                                                                                                                                                                                                                                                                                                                                                                                                                                love profile ysuolvpvhello thanks stopping taken many new pics made hot new videos erotic done stop guest oodles free fun click enter thank business past   \n",
              "2889  asked join kiddinthe list owner kiddin invited join mailing list listbot must reply message join list simply reply blank message join list owner included following welcome message hi guys quick message invite join kiddin uk based daily humour list think groovy people deserve know sign hit reply send reply us sign send blank e mail kiddin subscribe listbot com sign line http kiddin listbot com also check website http come kiddin find daily cartoons including garfield dilbert line games remember sign daily jokes list reply message send blank e mail kiddin subscribe listbot com tell friends g...   \n",
              "2890  anglicization composers namesjudging return post must sounded like kind self proclaimed expert composers names let hasten say pronunciations put little list came surprises cases one given native speakers composers language visiting composers native country n speak languages certainly claim expertise trusting competent native speakers one exception way karl haas one daily adventures good music broadcasts asserted pachelbel pronounced pach el bel based karl provenance inclined trust perhaps gone overboard taking natives pronunciations gospel americans certainly manage mangle enough words n s...   \n",
              "2891  numbers numbers comparative method n ary comparisongotcha two separate fallacies argument n ary comparison discussed recently powers delancey guy apparently seeking defend numbers janhunen says probability match occurring purely chance compare japanese four languages four times compare one language simply cannot true probabilities values numbers numbers probablity case binary comparison say numbers would predicting would numbers case n ary comparison impossible numbers numbers numbers numbers fallacy purely mathematical although suspect involves elements confusio case one argues n ary comp...   \n",
              "2892                                                                                                                                     american english australiahello working thesis concerning attitudes toward america use american english australia would interested hearing anyone researched field knows recent research particularly interested methods used illicit ascertain use target vocabulary eg pharmacist vs chemist candy vs lollies etc help please email jmarnumbers mfsnumbers cc monash edu au edited list responses posted linguist list thank jessica marks jmarnumbers mfsnumbers cc monash edu au   \n",
              "\n",
              "      aft_len  \n",
              "0        2108  \n",
              "1        1506  \n",
              "2        1150  \n",
              "3         216  \n",
              "4         653  \n",
              "...       ...  \n",
              "2888      153  \n",
              "2889     1246  \n",
              "2890      672  \n",
              "2891     1986  \n",
              "2892      468  \n",
              "\n",
              "[2893 rows x 4 columns]"
            ],
            "text/html": [
              "\n",
              "  <div id=\"df-7b016219-d5b3-43c8-a163-d0ad22edf7cf\">\n",
              "    <div class=\"colab-df-container\">\n",
              "      <div>\n",
              "<style scoped>\n",
              "    .dataframe tbody tr th:only-of-type {\n",
              "        vertical-align: middle;\n",
              "    }\n",
              "\n",
              "    .dataframe tbody tr th {\n",
              "        vertical-align: top;\n",
              "    }\n",
              "\n",
              "    .dataframe thead th {\n",
              "        text-align: right;\n",
              "    }\n",
              "</style>\n",
              "<table border=\"1\" class=\"dataframe\">\n",
              "  <thead>\n",
              "    <tr style=\"text-align: right;\">\n",
              "      <th></th>\n",
              "      <th>label</th>\n",
              "      <th>length</th>\n",
              "      <th>clean_text</th>\n",
              "      <th>aft_len</th>\n",
              "    </tr>\n",
              "  </thead>\n",
              "  <tbody>\n",
              "    <tr>\n",
              "      <th>0</th>\n",
              "      <td>NOT SPAM</td>\n",
              "      <td>2895</td>\n",
              "      <td>job posting apple iss research centercontent length numbers apple iss research center us Money numbers million joint venture apple computer inc institute systems science national university singapore located singapore looking senior speech scientist successful candidate research expertise computational linguistics including natural language processing english chinese statistical language modeling knowledge state art corpus based n gram language models cache language models part speech language models required text speech project leader successful candidate research expertise expertise two ...</td>\n",
              "      <td>2108</td>\n",
              "    </tr>\n",
              "    <tr>\n",
              "      <th>1</th>\n",
              "      <td>NOT SPAM</td>\n",
              "      <td>1816</td>\n",
              "      <td>sociolinguisticslang classification grimes joseph e barbara f grimes ethnologue language family index pb isbn numbers numbers numbers numbers vi numbers pp Money numbers numbers summer institute linguistics companion volume ethnologue languages world twelfth edition lists language families world sub groups shown tree arrangement broadest classification language family language family index facilitates locating language names ethnologue making data accessible internet academic books sil org languages reference lang culture gregerson marilyn ritual belief kinship sulawesi pb isbn numbers num...</td>\n",
              "      <td>1506</td>\n",
              "    </tr>\n",
              "    <tr>\n",
              "      <th>2</th>\n",
              "      <td>NOT SPAM</td>\n",
              "      <td>1485</td>\n",
              "      <td>query letter frequencies text identificationi posting inquiry sergei atamas satamas umabnet ab umd edu research associate university maryland baltimore field molecular biology work involves comparing dna strings using various algorithms n understand details well enough pass along rate one algorithm relies upon frequencies letters g c occur dna strings would like explore analogous use letter sound frequencies natural language texts hence posting specifically sergei wonders linguist subscribers could help steer recent literature concerning text identification based letter frequencies suggest...</td>\n",
              "      <td>1150</td>\n",
              "    </tr>\n",
              "    <tr>\n",
              "      <th>3</th>\n",
              "      <td>NOT SPAM</td>\n",
              "      <td>328</td>\n",
              "      <td>riska colleague researching differing degrees risk perceived hong kong students different contexts spoken english required would interested find research area risk taking language learning far n come much anyone help</td>\n",
              "      <td>216</td>\n",
              "    </tr>\n",
              "    <tr>\n",
              "      <th>4</th>\n",
              "      <td>NOT SPAM</td>\n",
              "      <td>1070</td>\n",
              "      <td>request book informationearlier morning phone friend mine living south america talking spanish said si voy la liberi comprare el libro rendered english go bookstore purchase found expression bit unusual asked saying really meant say si fuese la libreri comprari el libro go bookstore would buy said ah subjunctive dead spanish weather matter subjunctive discussion something left another time nevertheless mentioned course conversation book spanish translation french original titled something like la muerte del subjuntivo demise death subjunctive one know book books may deal similar content he...</td>\n",
              "      <td>653</td>\n",
              "    </tr>\n",
              "    <tr>\n",
              "      <th>...</th>\n",
              "      <td>...</td>\n",
              "      <td>...</td>\n",
              "      <td>...</td>\n",
              "      <td>...</td>\n",
              "    </tr>\n",
              "    <tr>\n",
              "      <th>2888</th>\n",
              "      <td>SPAM</td>\n",
              "      <td>290</td>\n",
              "      <td>love profile ysuolvpvhello thanks stopping taken many new pics made hot new videos erotic done stop guest oodles free fun click enter thank business past</td>\n",
              "      <td>153</td>\n",
              "    </tr>\n",
              "    <tr>\n",
              "      <th>2889</th>\n",
              "      <td>SPAM</td>\n",
              "      <td>2197</td>\n",
              "      <td>asked join kiddinthe list owner kiddin invited join mailing list listbot must reply message join list simply reply blank message join list owner included following welcome message hi guys quick message invite join kiddin uk based daily humour list think groovy people deserve know sign hit reply send reply us sign send blank e mail kiddin subscribe listbot com sign line http kiddin listbot com also check website http come kiddin find daily cartoons including garfield dilbert line games remember sign daily jokes list reply message send blank e mail kiddin subscribe listbot com tell friends g...</td>\n",
              "      <td>1246</td>\n",
              "    </tr>\n",
              "    <tr>\n",
              "      <th>2890</th>\n",
              "      <td>NOT SPAM</td>\n",
              "      <td>1073</td>\n",
              "      <td>anglicization composers namesjudging return post must sounded like kind self proclaimed expert composers names let hasten say pronunciations put little list came surprises cases one given native speakers composers language visiting composers native country n speak languages certainly claim expertise trusting competent native speakers one exception way karl haas one daily adventures good music broadcasts asserted pachelbel pronounced pach el bel based karl provenance inclined trust perhaps gone overboard taking natives pronunciations gospel americans certainly manage mangle enough words n s...</td>\n",
              "      <td>672</td>\n",
              "    </tr>\n",
              "    <tr>\n",
              "      <th>2891</th>\n",
              "      <td>NOT SPAM</td>\n",
              "      <td>3003</td>\n",
              "      <td>numbers numbers comparative method n ary comparisongotcha two separate fallacies argument n ary comparison discussed recently powers delancey guy apparently seeking defend numbers janhunen says probability match occurring purely chance compare japanese four languages four times compare one language simply cannot true probabilities values numbers numbers probablity case binary comparison say numbers would predicting would numbers case n ary comparison impossible numbers numbers numbers numbers fallacy purely mathematical although suspect involves elements confusio case one argues n ary comp...</td>\n",
              "      <td>1986</td>\n",
              "    </tr>\n",
              "    <tr>\n",
              "      <th>2892</th>\n",
              "      <td>NOT SPAM</td>\n",
              "      <td>736</td>\n",
              "      <td>american english australiahello working thesis concerning attitudes toward america use american english australia would interested hearing anyone researched field knows recent research particularly interested methods used illicit ascertain use target vocabulary eg pharmacist vs chemist candy vs lollies etc help please email jmarnumbers mfsnumbers cc monash edu au edited list responses posted linguist list thank jessica marks jmarnumbers mfsnumbers cc monash edu au</td>\n",
              "      <td>468</td>\n",
              "    </tr>\n",
              "  </tbody>\n",
              "</table>\n",
              "<p>2893 rows × 4 columns</p>\n",
              "</div>\n",
              "      <button class=\"colab-df-convert\" onclick=\"convertToInteractive('df-7b016219-d5b3-43c8-a163-d0ad22edf7cf')\"\n",
              "              title=\"Convert this dataframe to an interactive table.\"\n",
              "              style=\"display:none;\">\n",
              "        \n",
              "  <svg xmlns=\"http://www.w3.org/2000/svg\" height=\"24px\"viewBox=\"0 0 24 24\"\n",
              "       width=\"24px\">\n",
              "    <path d=\"M0 0h24v24H0V0z\" fill=\"none\"/>\n",
              "    <path d=\"M18.56 5.44l.94 2.06.94-2.06 2.06-.94-2.06-.94-.94-2.06-.94 2.06-2.06.94zm-11 1L8.5 8.5l.94-2.06 2.06-.94-2.06-.94L8.5 2.5l-.94 2.06-2.06.94zm10 10l.94 2.06.94-2.06 2.06-.94-2.06-.94-.94-2.06-.94 2.06-2.06.94z\"/><path d=\"M17.41 7.96l-1.37-1.37c-.4-.4-.92-.59-1.43-.59-.52 0-1.04.2-1.43.59L10.3 9.45l-7.72 7.72c-.78.78-.78 2.05 0 2.83L4 21.41c.39.39.9.59 1.41.59.51 0 1.02-.2 1.41-.59l7.78-7.78 2.81-2.81c.8-.78.8-2.07 0-2.86zM5.41 20L4 18.59l7.72-7.72 1.47 1.35L5.41 20z\"/>\n",
              "  </svg>\n",
              "      </button>\n",
              "      \n",
              "  <style>\n",
              "    .colab-df-container {\n",
              "      display:flex;\n",
              "      flex-wrap:wrap;\n",
              "      gap: 12px;\n",
              "    }\n",
              "\n",
              "    .colab-df-convert {\n",
              "      background-color: #E8F0FE;\n",
              "      border: none;\n",
              "      border-radius: 50%;\n",
              "      cursor: pointer;\n",
              "      display: none;\n",
              "      fill: #1967D2;\n",
              "      height: 32px;\n",
              "      padding: 0 0 0 0;\n",
              "      width: 32px;\n",
              "    }\n",
              "\n",
              "    .colab-df-convert:hover {\n",
              "      background-color: #E2EBFA;\n",
              "      box-shadow: 0px 1px 2px rgba(60, 64, 67, 0.3), 0px 1px 3px 1px rgba(60, 64, 67, 0.15);\n",
              "      fill: #174EA6;\n",
              "    }\n",
              "\n",
              "    [theme=dark] .colab-df-convert {\n",
              "      background-color: #3B4455;\n",
              "      fill: #D2E3FC;\n",
              "    }\n",
              "\n",
              "    [theme=dark] .colab-df-convert:hover {\n",
              "      background-color: #434B5C;\n",
              "      box-shadow: 0px 1px 3px 1px rgba(0, 0, 0, 0.15);\n",
              "      filter: drop-shadow(0px 1px 2px rgba(0, 0, 0, 0.3));\n",
              "      fill: #FFFFFF;\n",
              "    }\n",
              "  </style>\n",
              "\n",
              "      <script>\n",
              "        const buttonEl =\n",
              "          document.querySelector('#df-7b016219-d5b3-43c8-a163-d0ad22edf7cf button.colab-df-convert');\n",
              "        buttonEl.style.display =\n",
              "          google.colab.kernel.accessAllowed ? 'block' : 'none';\n",
              "\n",
              "        async function convertToInteractive(key) {\n",
              "          const element = document.querySelector('#df-7b016219-d5b3-43c8-a163-d0ad22edf7cf');\n",
              "          const dataTable =\n",
              "            await google.colab.kernel.invokeFunction('convertToInteractive',\n",
              "                                                     [key], {});\n",
              "          if (!dataTable) return;\n",
              "\n",
              "          const docLinkHtml = 'Like what you see? Visit the ' +\n",
              "            '<a target=\"_blank\" href=https://colab.research.google.com/notebooks/data_table.ipynb>data table notebook</a>'\n",
              "            + ' to learn more about interactive tables.';\n",
              "          element.innerHTML = '';\n",
              "          dataTable['output_type'] = 'display_data';\n",
              "          await google.colab.output.renderOutput(dataTable, element);\n",
              "          const docLink = document.createElement('div');\n",
              "          docLink.innerHTML = docLinkHtml;\n",
              "          element.appendChild(docLink);\n",
              "        }\n",
              "      </script>\n",
              "    </div>\n",
              "  </div>\n",
              "  "
            ]
          },
          "metadata": {},
          "execution_count": 43
        }
      ]
    },
    {
      "cell_type": "markdown",
      "source": [
        "`Splitting into training and testing datasets`\n",
        "\n",
        "Using sklearn library I am splitting data into training and testing parts. I will be using 0.8 of data into training and 0.2 testing part. "
      ],
      "metadata": {
        "id": "dp3CHc0NGLZz"
      }
    },
    {
      "cell_type": "code",
      "source": [
        "from sklearn.model_selection import train_test_split\n",
        "\n",
        "data_train , data_test = train_test_split(file, stratify = file['label'] , test_size = 0.2 , random_state = 9968)\n",
        "data_train"
      ],
      "metadata": {
        "colab": {
          "base_uri": "https://localhost:8080/",
          "height": 797
        },
        "id": "ciqOV8CkZdK-",
        "outputId": "17e7409b-1981-40d4-913d-87b82d00814f"
      },
      "execution_count": 44,
      "outputs": [
        {
          "output_type": "execute_result",
          "data": {
            "text/plain": [
              "         label  length  \\\n",
              "1426  NOT SPAM    2177   \n",
              "446       SPAM    7177   \n",
              "1589  NOT SPAM     819   \n",
              "1193  NOT SPAM   25762   \n",
              "2205  NOT SPAM     744   \n",
              "...        ...     ...   \n",
              "816   NOT SPAM    3635   \n",
              "2373  NOT SPAM    4148   \n",
              "597   NOT SPAM    3426   \n",
              "2841      SPAM    1247   \n",
              "1874  NOT SPAM     591   \n",
              "\n",
              "                                                                                                                                                                                                                                                                                                                                                                                                                                                                                                                                                                                                                   clean_text  \\\n",
              "1426  books terminologyjohn benjamins publishing would like call attention following new titles field terminology handbook terminology management volume numbers basic aspects terminology management sue ellen wright gerhard budin comps numbers xiv numbers pp us canada cloth numbers numbers numbers numbers price us Money numbers numbers rest world cloth numbers numbers numbers numbers price hfl numbers john benjamins publishing web site http www benjamins com information via e mail service benjamins com unique work designed meet practical needs terminologists translators lexicographers subject spe...   \n",
              "446   released numbers million released introducing millions vol numbersa took total numbers million email addresses many touted cd bought Money numbers added millions storage combined excess numbers million addresses one huge file ran super sort de dupe program huge list cut file less numbers million believe seems people selling cd duping public putting numerous files addresses cd created many duplicate addresses also many program generated email addresses like compuserve mci anon etc causes tremendous amount undeliverables use stealth programs clogs servers quickly trash etc ran program contai...   \n",
              "1589                                              numbers numbers disc punctuationthere several postings recently decrying use apostrophe make english plural form e g dyslexic sonata grounds held bad english like everyone else learnt school apostrophe used english plurals except exceptional cases like numerals letters numbers three last usage seems gone fashion recently apostrophes practice widely used sorts plural forms seem long history use least foreign unusual words noticed apostrophised plurals facsimiles several seventeenth century books recently exactly grounds condemning usage john phillips   \n",
              "1193  review massaro numbersmassaro w numbers perceiving talking faces speech perception behavioral principle mit press cambridge mass numbers pp numbers illus numbers cd rom Money numbers numbers reviewed byl noel nguyen laboratory psycholinguistics fpse university geneva switzerland nnguyen fapse unige ch numbers synopsis numbers numbers general outline book concerned multiple sources information processed speech perception generally pattern recognition based upon important research programme conducted massaro colleagues last two decades book focuses perception called bimodal speech addressing...   \n",
              "2205             optimality bibliographyversion numbers numbers bibliography work optimality theory available anonymous ftp ruccs rutgers edu see file readme directory pub ot texts various word processing formats provided persons unable use ftp request ascii version bibliography sending e mail request jmccarthy linguist umass edu please include optimality bibliography subject line message bibliography includes references approximately numbers papers numbers handouts john mccarthy alan prince moderators note readme file available world wide web linguistic datasources link header web version linguist   \n",
              "...                                                                                                                                                                                                                                                                                                                                                                                                                                                                                                                                                                                                                       ...   \n",
              "816   early registration deadline cimqlworkshop computationally intensive methods quantitative linguistics humanities advanced technology information institute department statistics university glasgow uk numbers numbers september numbers early registration please note early registration deadline extended numbers june workshop payments received date subject gbpnumbers increase registration fee register complete form http www stats gla ac uk cimql regform html download complete text version regform txt details workshop follow recent years techniques disciplines computer science articficial intelli...   \n",
              "2373  isfc numbersisfcnumbers numbersth systemic functional institute congress department english language literature national university singapore institute numbers numbers july numbers congress numbers numbers july numbers theme linguistics education entering numbersst century institute three day institute preceding congress offers courses theory practice systemic functional linguistics sfl leading figures within field familiar model courses provide necessary background congress follow major themes treated institute include grammar discourse sociolinguistics education literature information te...   \n",
              "597   tai studies ithe first international conference tai studies july numbers numbers numbers institute language culture rural development mahidol university salaya thailand first announcement rationale institute language culture rural development mahidol university pleased announce first international conference tai studies held july numbers numbers numbers bangkok main objective conference provide international forum scholars different countries present discuss various aspects tai studies conference feature papers tai outliner groups residing outside thailand namely lao black tai lue white ta...   \n",
              "2841  pay us visit adults numbersfnumbers numbers want see live cybersex numbers hours day right computer screen click link http numbers lisa watch live talk live get gorgeous teen models anything tell hot young teen girls guys thousands numbers pictures avi click link http numbers lisa remove member mailing list numbers go http numbers remove remove cgi follow instructions provided web page unsolicited email received past present member visitor requested additional numbersormation sites numbers reply mailto iillinumbers mymail com numbers type remove subject field hit send submitting delete e m...   \n",
              "1874                                                                                                                                                                                                         numberskulbrandstad colleague yet access net asked post query word leisure american english may rhyme seizure pleasure anyone answer following numbers pronuniciation common e numbers individual choice reflect regional patterns social class factor would also like ask questions presence absence l ga calm palm psalm almond etc thanks advance lars anders kulbrandstad hedmark college norway lak hamarlh   \n",
              "\n",
              "      aft_len  \n",
              "1426     1710  \n",
              "446      3925  \n",
              "1589      555  \n",
              "1193    18126  \n",
              "2205      588  \n",
              "...       ...  \n",
              "816      2770  \n",
              "2373     3112  \n",
              "597      2700  \n",
              "2841      653  \n",
              "1874      400  \n",
              "\n",
              "[2314 rows x 4 columns]"
            ],
            "text/html": [
              "\n",
              "  <div id=\"df-77bd7847-9955-49e0-8cfe-d4806e273779\">\n",
              "    <div class=\"colab-df-container\">\n",
              "      <div>\n",
              "<style scoped>\n",
              "    .dataframe tbody tr th:only-of-type {\n",
              "        vertical-align: middle;\n",
              "    }\n",
              "\n",
              "    .dataframe tbody tr th {\n",
              "        vertical-align: top;\n",
              "    }\n",
              "\n",
              "    .dataframe thead th {\n",
              "        text-align: right;\n",
              "    }\n",
              "</style>\n",
              "<table border=\"1\" class=\"dataframe\">\n",
              "  <thead>\n",
              "    <tr style=\"text-align: right;\">\n",
              "      <th></th>\n",
              "      <th>label</th>\n",
              "      <th>length</th>\n",
              "      <th>clean_text</th>\n",
              "      <th>aft_len</th>\n",
              "    </tr>\n",
              "  </thead>\n",
              "  <tbody>\n",
              "    <tr>\n",
              "      <th>1426</th>\n",
              "      <td>NOT SPAM</td>\n",
              "      <td>2177</td>\n",
              "      <td>books terminologyjohn benjamins publishing would like call attention following new titles field terminology handbook terminology management volume numbers basic aspects terminology management sue ellen wright gerhard budin comps numbers xiv numbers pp us canada cloth numbers numbers numbers numbers price us Money numbers numbers rest world cloth numbers numbers numbers numbers price hfl numbers john benjamins publishing web site http www benjamins com information via e mail service benjamins com unique work designed meet practical needs terminologists translators lexicographers subject spe...</td>\n",
              "      <td>1710</td>\n",
              "    </tr>\n",
              "    <tr>\n",
              "      <th>446</th>\n",
              "      <td>SPAM</td>\n",
              "      <td>7177</td>\n",
              "      <td>released numbers million released introducing millions vol numbersa took total numbers million email addresses many touted cd bought Money numbers added millions storage combined excess numbers million addresses one huge file ran super sort de dupe program huge list cut file less numbers million believe seems people selling cd duping public putting numerous files addresses cd created many duplicate addresses also many program generated email addresses like compuserve mci anon etc causes tremendous amount undeliverables use stealth programs clogs servers quickly trash etc ran program contai...</td>\n",
              "      <td>3925</td>\n",
              "    </tr>\n",
              "    <tr>\n",
              "      <th>1589</th>\n",
              "      <td>NOT SPAM</td>\n",
              "      <td>819</td>\n",
              "      <td>numbers numbers disc punctuationthere several postings recently decrying use apostrophe make english plural form e g dyslexic sonata grounds held bad english like everyone else learnt school apostrophe used english plurals except exceptional cases like numerals letters numbers three last usage seems gone fashion recently apostrophes practice widely used sorts plural forms seem long history use least foreign unusual words noticed apostrophised plurals facsimiles several seventeenth century books recently exactly grounds condemning usage john phillips</td>\n",
              "      <td>555</td>\n",
              "    </tr>\n",
              "    <tr>\n",
              "      <th>1193</th>\n",
              "      <td>NOT SPAM</td>\n",
              "      <td>25762</td>\n",
              "      <td>review massaro numbersmassaro w numbers perceiving talking faces speech perception behavioral principle mit press cambridge mass numbers pp numbers illus numbers cd rom Money numbers numbers reviewed byl noel nguyen laboratory psycholinguistics fpse university geneva switzerland nnguyen fapse unige ch numbers synopsis numbers numbers general outline book concerned multiple sources information processed speech perception generally pattern recognition based upon important research programme conducted massaro colleagues last two decades book focuses perception called bimodal speech addressing...</td>\n",
              "      <td>18126</td>\n",
              "    </tr>\n",
              "    <tr>\n",
              "      <th>2205</th>\n",
              "      <td>NOT SPAM</td>\n",
              "      <td>744</td>\n",
              "      <td>optimality bibliographyversion numbers numbers bibliography work optimality theory available anonymous ftp ruccs rutgers edu see file readme directory pub ot texts various word processing formats provided persons unable use ftp request ascii version bibliography sending e mail request jmccarthy linguist umass edu please include optimality bibliography subject line message bibliography includes references approximately numbers papers numbers handouts john mccarthy alan prince moderators note readme file available world wide web linguistic datasources link header web version linguist</td>\n",
              "      <td>588</td>\n",
              "    </tr>\n",
              "    <tr>\n",
              "      <th>...</th>\n",
              "      <td>...</td>\n",
              "      <td>...</td>\n",
              "      <td>...</td>\n",
              "      <td>...</td>\n",
              "    </tr>\n",
              "    <tr>\n",
              "      <th>816</th>\n",
              "      <td>NOT SPAM</td>\n",
              "      <td>3635</td>\n",
              "      <td>early registration deadline cimqlworkshop computationally intensive methods quantitative linguistics humanities advanced technology information institute department statistics university glasgow uk numbers numbers september numbers early registration please note early registration deadline extended numbers june workshop payments received date subject gbpnumbers increase registration fee register complete form http www stats gla ac uk cimql regform html download complete text version regform txt details workshop follow recent years techniques disciplines computer science articficial intelli...</td>\n",
              "      <td>2770</td>\n",
              "    </tr>\n",
              "    <tr>\n",
              "      <th>2373</th>\n",
              "      <td>NOT SPAM</td>\n",
              "      <td>4148</td>\n",
              "      <td>isfc numbersisfcnumbers numbersth systemic functional institute congress department english language literature national university singapore institute numbers numbers july numbers congress numbers numbers july numbers theme linguistics education entering numbersst century institute three day institute preceding congress offers courses theory practice systemic functional linguistics sfl leading figures within field familiar model courses provide necessary background congress follow major themes treated institute include grammar discourse sociolinguistics education literature information te...</td>\n",
              "      <td>3112</td>\n",
              "    </tr>\n",
              "    <tr>\n",
              "      <th>597</th>\n",
              "      <td>NOT SPAM</td>\n",
              "      <td>3426</td>\n",
              "      <td>tai studies ithe first international conference tai studies july numbers numbers numbers institute language culture rural development mahidol university salaya thailand first announcement rationale institute language culture rural development mahidol university pleased announce first international conference tai studies held july numbers numbers numbers bangkok main objective conference provide international forum scholars different countries present discuss various aspects tai studies conference feature papers tai outliner groups residing outside thailand namely lao black tai lue white ta...</td>\n",
              "      <td>2700</td>\n",
              "    </tr>\n",
              "    <tr>\n",
              "      <th>2841</th>\n",
              "      <td>SPAM</td>\n",
              "      <td>1247</td>\n",
              "      <td>pay us visit adults numbersfnumbers numbers want see live cybersex numbers hours day right computer screen click link http numbers lisa watch live talk live get gorgeous teen models anything tell hot young teen girls guys thousands numbers pictures avi click link http numbers lisa remove member mailing list numbers go http numbers remove remove cgi follow instructions provided web page unsolicited email received past present member visitor requested additional numbersormation sites numbers reply mailto iillinumbers mymail com numbers type remove subject field hit send submitting delete e m...</td>\n",
              "      <td>653</td>\n",
              "    </tr>\n",
              "    <tr>\n",
              "      <th>1874</th>\n",
              "      <td>NOT SPAM</td>\n",
              "      <td>591</td>\n",
              "      <td>numberskulbrandstad colleague yet access net asked post query word leisure american english may rhyme seizure pleasure anyone answer following numbers pronuniciation common e numbers individual choice reflect regional patterns social class factor would also like ask questions presence absence l ga calm palm psalm almond etc thanks advance lars anders kulbrandstad hedmark college norway lak hamarlh</td>\n",
              "      <td>400</td>\n",
              "    </tr>\n",
              "  </tbody>\n",
              "</table>\n",
              "<p>2314 rows × 4 columns</p>\n",
              "</div>\n",
              "      <button class=\"colab-df-convert\" onclick=\"convertToInteractive('df-77bd7847-9955-49e0-8cfe-d4806e273779')\"\n",
              "              title=\"Convert this dataframe to an interactive table.\"\n",
              "              style=\"display:none;\">\n",
              "        \n",
              "  <svg xmlns=\"http://www.w3.org/2000/svg\" height=\"24px\"viewBox=\"0 0 24 24\"\n",
              "       width=\"24px\">\n",
              "    <path d=\"M0 0h24v24H0V0z\" fill=\"none\"/>\n",
              "    <path d=\"M18.56 5.44l.94 2.06.94-2.06 2.06-.94-2.06-.94-.94-2.06-.94 2.06-2.06.94zm-11 1L8.5 8.5l.94-2.06 2.06-.94-2.06-.94L8.5 2.5l-.94 2.06-2.06.94zm10 10l.94 2.06.94-2.06 2.06-.94-2.06-.94-.94-2.06-.94 2.06-2.06.94z\"/><path d=\"M17.41 7.96l-1.37-1.37c-.4-.4-.92-.59-1.43-.59-.52 0-1.04.2-1.43.59L10.3 9.45l-7.72 7.72c-.78.78-.78 2.05 0 2.83L4 21.41c.39.39.9.59 1.41.59.51 0 1.02-.2 1.41-.59l7.78-7.78 2.81-2.81c.8-.78.8-2.07 0-2.86zM5.41 20L4 18.59l7.72-7.72 1.47 1.35L5.41 20z\"/>\n",
              "  </svg>\n",
              "      </button>\n",
              "      \n",
              "  <style>\n",
              "    .colab-df-container {\n",
              "      display:flex;\n",
              "      flex-wrap:wrap;\n",
              "      gap: 12px;\n",
              "    }\n",
              "\n",
              "    .colab-df-convert {\n",
              "      background-color: #E8F0FE;\n",
              "      border: none;\n",
              "      border-radius: 50%;\n",
              "      cursor: pointer;\n",
              "      display: none;\n",
              "      fill: #1967D2;\n",
              "      height: 32px;\n",
              "      padding: 0 0 0 0;\n",
              "      width: 32px;\n",
              "    }\n",
              "\n",
              "    .colab-df-convert:hover {\n",
              "      background-color: #E2EBFA;\n",
              "      box-shadow: 0px 1px 2px rgba(60, 64, 67, 0.3), 0px 1px 3px 1px rgba(60, 64, 67, 0.15);\n",
              "      fill: #174EA6;\n",
              "    }\n",
              "\n",
              "    [theme=dark] .colab-df-convert {\n",
              "      background-color: #3B4455;\n",
              "      fill: #D2E3FC;\n",
              "    }\n",
              "\n",
              "    [theme=dark] .colab-df-convert:hover {\n",
              "      background-color: #434B5C;\n",
              "      box-shadow: 0px 1px 3px 1px rgba(0, 0, 0, 0.15);\n",
              "      filter: drop-shadow(0px 1px 2px rgba(0, 0, 0, 0.3));\n",
              "      fill: #FFFFFF;\n",
              "    }\n",
              "  </style>\n",
              "\n",
              "      <script>\n",
              "        const buttonEl =\n",
              "          document.querySelector('#df-77bd7847-9955-49e0-8cfe-d4806e273779 button.colab-df-convert');\n",
              "        buttonEl.style.display =\n",
              "          google.colab.kernel.accessAllowed ? 'block' : 'none';\n",
              "\n",
              "        async function convertToInteractive(key) {\n",
              "          const element = document.querySelector('#df-77bd7847-9955-49e0-8cfe-d4806e273779');\n",
              "          const dataTable =\n",
              "            await google.colab.kernel.invokeFunction('convertToInteractive',\n",
              "                                                     [key], {});\n",
              "          if (!dataTable) return;\n",
              "\n",
              "          const docLinkHtml = 'Like what you see? Visit the ' +\n",
              "            '<a target=\"_blank\" href=https://colab.research.google.com/notebooks/data_table.ipynb>data table notebook</a>'\n",
              "            + ' to learn more about interactive tables.';\n",
              "          element.innerHTML = '';\n",
              "          dataTable['output_type'] = 'display_data';\n",
              "          await google.colab.output.renderOutput(dataTable, element);\n",
              "          const docLink = document.createElement('div');\n",
              "          docLink.innerHTML = docLinkHtml;\n",
              "          element.appendChild(docLink);\n",
              "        }\n",
              "      </script>\n",
              "    </div>\n",
              "  </div>\n",
              "  "
            ]
          },
          "metadata": {},
          "execution_count": 44
        }
      ]
    },
    {
      "cell_type": "code",
      "source": [
        "from fastai import *\n",
        "from functools import partial\n",
        "import io\n",
        "import os\n",
        "from fastai.text import *"
      ],
      "metadata": {
        "id": "ldmtOGiSZdOG"
      },
      "execution_count": 45,
      "outputs": []
    },
    {
      "cell_type": "code",
      "source": [
        "data_train.shape , data_test.shape"
      ],
      "metadata": {
        "colab": {
          "base_uri": "https://localhost:8080/"
        },
        "id": "ZwuUEUP2ZdRW",
        "outputId": "bed4d3ab-8665-41e0-d96b-43b049094233"
      },
      "execution_count": 46,
      "outputs": [
        {
          "output_type": "execute_result",
          "data": {
            "text/plain": [
              "((2314, 4), (579, 4))"
            ]
          },
          "metadata": {},
          "execution_count": 46
        }
      ]
    },
    {
      "cell_type": "code",
      "source": [
        "!pip install torch_nightly -f https://download.pytorch.org/whl/nightly/cu92/torch_nightly.html  gwpy &> /dev/null\n",
        "!pip install fastai"
      ],
      "metadata": {
        "id": "ICSqr3MlKDbr",
        "colab": {
          "base_uri": "https://localhost:8080/"
        },
        "outputId": "833e2a3d-de38-4d95-fafe-17bfb7dee120"
      },
      "execution_count": 52,
      "outputs": [
        {
          "output_type": "stream",
          "name": "stdout",
          "text": [
            "Looking in indexes: https://pypi.org/simple, https://us-python.pkg.dev/colab-wheels/public/simple/\n",
            "Requirement already satisfied: fastai in /usr/local/lib/python3.8/dist-packages (2.7.10)\n",
            "Requirement already satisfied: scipy in /usr/local/lib/python3.8/dist-packages (from fastai) (1.7.3)\n",
            "Requirement already satisfied: fastdownload<2,>=0.0.5 in /usr/local/lib/python3.8/dist-packages (from fastai) (0.0.7)\n",
            "Requirement already satisfied: torchvision>=0.8.2 in /usr/local/lib/python3.8/dist-packages (from fastai) (0.14.1+cu116)\n",
            "Requirement already satisfied: scikit-learn in /usr/local/lib/python3.8/dist-packages (from fastai) (1.0.2)\n",
            "Requirement already satisfied: packaging in /usr/local/lib/python3.8/dist-packages (from fastai) (23.0)\n",
            "Requirement already satisfied: matplotlib in /usr/local/lib/python3.8/dist-packages (from fastai) (3.2.2)\n",
            "Requirement already satisfied: torch<1.14,>=1.7 in /usr/local/lib/python3.8/dist-packages (from fastai) (1.13.1+cu116)\n",
            "Requirement already satisfied: pyyaml in /usr/local/lib/python3.8/dist-packages (from fastai) (6.0)\n",
            "Requirement already satisfied: spacy<4 in /usr/local/lib/python3.8/dist-packages (from fastai) (3.4.4)\n",
            "Requirement already satisfied: pandas in /usr/local/lib/python3.8/dist-packages (from fastai) (1.3.5)\n",
            "Requirement already satisfied: fastcore<1.6,>=1.4.5 in /usr/local/lib/python3.8/dist-packages (from fastai) (1.5.27)\n",
            "Requirement already satisfied: requests in /usr/local/lib/python3.8/dist-packages (from fastai) (2.25.1)\n",
            "Requirement already satisfied: fastprogress>=0.2.4 in /usr/local/lib/python3.8/dist-packages (from fastai) (1.0.3)\n",
            "Requirement already satisfied: pillow>6.0.0 in /usr/local/lib/python3.8/dist-packages (from fastai) (7.1.2)\n",
            "Requirement already satisfied: pip in /usr/local/lib/python3.8/dist-packages (from fastai) (22.0.4)\n",
            "Requirement already satisfied: cymem<2.1.0,>=2.0.2 in /usr/local/lib/python3.8/dist-packages (from spacy<4->fastai) (2.0.7)\n",
            "Requirement already satisfied: typer<0.8.0,>=0.3.0 in /usr/local/lib/python3.8/dist-packages (from spacy<4->fastai) (0.7.0)\n",
            "Requirement already satisfied: spacy-legacy<3.1.0,>=3.0.10 in /usr/local/lib/python3.8/dist-packages (from spacy<4->fastai) (3.0.12)\n",
            "Requirement already satisfied: setuptools in /usr/local/lib/python3.8/dist-packages (from spacy<4->fastai) (57.4.0)\n",
            "Requirement already satisfied: spacy-loggers<2.0.0,>=1.0.0 in /usr/local/lib/python3.8/dist-packages (from spacy<4->fastai) (1.0.4)\n",
            "Requirement already satisfied: langcodes<4.0.0,>=3.2.0 in /usr/local/lib/python3.8/dist-packages (from spacy<4->fastai) (3.3.0)\n",
            "Requirement already satisfied: murmurhash<1.1.0,>=0.28.0 in /usr/local/lib/python3.8/dist-packages (from spacy<4->fastai) (1.0.9)\n",
            "Requirement already satisfied: pathy>=0.3.5 in /usr/local/lib/python3.8/dist-packages (from spacy<4->fastai) (0.10.1)\n",
            "Requirement already satisfied: wasabi<1.1.0,>=0.9.1 in /usr/local/lib/python3.8/dist-packages (from spacy<4->fastai) (0.10.1)\n",
            "Requirement already satisfied: pydantic!=1.8,!=1.8.1,<1.11.0,>=1.7.4 in /usr/local/lib/python3.8/dist-packages (from spacy<4->fastai) (1.10.4)\n",
            "Requirement already satisfied: jinja2 in /usr/local/lib/python3.8/dist-packages (from spacy<4->fastai) (2.11.3)\n",
            "Requirement already satisfied: srsly<3.0.0,>=2.4.3 in /usr/local/lib/python3.8/dist-packages (from spacy<4->fastai) (2.4.5)\n",
            "Requirement already satisfied: catalogue<2.1.0,>=2.0.6 in /usr/local/lib/python3.8/dist-packages (from spacy<4->fastai) (2.0.8)\n",
            "Requirement already satisfied: preshed<3.1.0,>=3.0.2 in /usr/local/lib/python3.8/dist-packages (from spacy<4->fastai) (3.0.8)\n",
            "Requirement already satisfied: thinc<8.2.0,>=8.1.0 in /usr/local/lib/python3.8/dist-packages (from spacy<4->fastai) (8.1.7)\n",
            "Requirement already satisfied: numpy>=1.15.0 in /usr/local/lib/python3.8/dist-packages (from spacy<4->fastai) (1.21.6)\n",
            "Requirement already satisfied: tqdm<5.0.0,>=4.38.0 in /usr/local/lib/python3.8/dist-packages (from spacy<4->fastai) (4.64.1)\n",
            "Requirement already satisfied: smart-open<7.0.0,>=5.2.1 in /usr/local/lib/python3.8/dist-packages (from spacy<4->fastai) (6.3.0)\n",
            "Requirement already satisfied: idna<3,>=2.5 in /usr/local/lib/python3.8/dist-packages (from requests->fastai) (2.10)\n",
            "Requirement already satisfied: certifi>=2017.4.17 in /usr/local/lib/python3.8/dist-packages (from requests->fastai) (2022.12.7)\n",
            "Requirement already satisfied: chardet<5,>=3.0.2 in /usr/local/lib/python3.8/dist-packages (from requests->fastai) (4.0.0)\n",
            "Requirement already satisfied: urllib3<1.27,>=1.21.1 in /usr/local/lib/python3.8/dist-packages (from requests->fastai) (1.24.3)\n",
            "Requirement already satisfied: typing-extensions in /usr/local/lib/python3.8/dist-packages (from torch<1.14,>=1.7->fastai) (4.4.0)\n",
            "Requirement already satisfied: cycler>=0.10 in /usr/local/lib/python3.8/dist-packages (from matplotlib->fastai) (0.11.0)\n",
            "Requirement already satisfied: kiwisolver>=1.0.1 in /usr/local/lib/python3.8/dist-packages (from matplotlib->fastai) (1.4.4)\n",
            "Requirement already satisfied: python-dateutil>=2.1 in /usr/local/lib/python3.8/dist-packages (from matplotlib->fastai) (2.8.2)\n",
            "Requirement already satisfied: pyparsing!=2.0.4,!=2.1.2,!=2.1.6,>=2.0.1 in /usr/local/lib/python3.8/dist-packages (from matplotlib->fastai) (3.0.9)\n",
            "Requirement already satisfied: pytz>=2017.3 in /usr/local/lib/python3.8/dist-packages (from pandas->fastai) (2022.7.1)\n",
            "Requirement already satisfied: threadpoolctl>=2.0.0 in /usr/local/lib/python3.8/dist-packages (from scikit-learn->fastai) (3.1.0)\n",
            "Requirement already satisfied: joblib>=0.11 in /usr/local/lib/python3.8/dist-packages (from scikit-learn->fastai) (1.2.0)\n",
            "Requirement already satisfied: six>=1.5 in /usr/local/lib/python3.8/dist-packages (from python-dateutil>=2.1->matplotlib->fastai) (1.15.0)\n",
            "Requirement already satisfied: blis<0.8.0,>=0.7.8 in /usr/local/lib/python3.8/dist-packages (from thinc<8.2.0,>=8.1.0->spacy<4->fastai) (0.7.9)\n",
            "Requirement already satisfied: confection<1.0.0,>=0.0.1 in /usr/local/lib/python3.8/dist-packages (from thinc<8.2.0,>=8.1.0->spacy<4->fastai) (0.0.4)\n",
            "Requirement already satisfied: click<9.0.0,>=7.1.1 in /usr/local/lib/python3.8/dist-packages (from typer<0.8.0,>=0.3.0->spacy<4->fastai) (7.1.2)\n",
            "Requirement already satisfied: MarkupSafe>=0.23 in /usr/local/lib/python3.8/dist-packages (from jinja2->spacy<4->fastai) (2.0.1)\n"
          ]
        }
      ]
    },
    {
      "cell_type": "markdown",
      "source": [
        "# Language Model:\n",
        "\n",
        "We will be building the model from scratch. Our first step is to vectorize the tokens. We will be using bag of words technique for this.\n",
        "\n"
      ],
      "metadata": {
        "id": "E3zYEfzAnr27"
      }
    },
    {
      "cell_type": "code",
      "source": [
        "from sklearn.feature_extraction.text import TfidfVectorizer\n",
        "from sklearn.naive_bayes import MultinomialNB\n",
        "from sklearn.model_selection import train_test_split\n",
        "from sklearn.metrics import accuracy_score, confusion_matrix, classification_report\n",
        "from sklearn.linear_model import LogisticRegression\n",
        "from sklearn.tree import DecisionTreeClassifier\n",
        "from sklearn.naive_bayes import GaussianNB\n",
        "from sklearn.metrics import confusion_matrix\n",
        "from sklearn.metrics import classification_report\n",
        "from sklearn.model_selection import train_test_split\n",
        "from sklearn.metrics import accuracy_score, precision_score, recall_score\n",
        "from sklearn.model_selection import GridSearchCV\n",
        "from sklearn.model_selection import cross_val_score\n",
        "import warnings\n",
        "from sklearn.pipeline import Pipeline"
      ],
      "metadata": {
        "id": "yZ7u_PgkwNkD"
      },
      "execution_count": 65,
      "outputs": []
    },
    {
      "cell_type": "markdown",
      "source": [
        "# Logistic Regression\n",
        "\n",
        "TfIdf means term frequency and inverce document frequency, they tell us about the frequency of a term and freqeucy of same term wrt to document. "
      ],
      "metadata": {
        "id": "YYXBa70iwXOB"
      }
    },
    {
      "cell_type": "code",
      "source": [
        "tfidf = TfidfVectorizer()\n",
        "log_reg = LogisticRegression(solver = 'lbfgs')"
      ],
      "metadata": {
        "id": "1-JyVtnowWFQ"
      },
      "execution_count": 66,
      "outputs": []
    },
    {
      "cell_type": "code",
      "source": [
        "x = file['clean_text']\n",
        "y = file['label']\n",
        "\n",
        "x_train , x_test, y_train , y_test = train_test_split(x,y , test_size = 0.2 , random_state = 9968 , stratify = y)"
      ],
      "metadata": {
        "id": "upCXXE0hwyfW"
      },
      "execution_count": 67,
      "outputs": []
    },
    {
      "cell_type": "code",
      "source": [
        "from nltk.metrics import confusionmatrix\n",
        "model_1 = Pipeline([('vectorizer' , tfidf),('classifier' , log_reg)])\n",
        "\n",
        "model_1.fit(x_train, y_train)\n",
        "\n",
        "from sklearn.metrics import confusion_matrix\n",
        "\n",
        "y_pred = model_1.predict(x_test)\n",
        "\n",
        "confusion_matrix(y_pred , y_test)"
      ],
      "metadata": {
        "colab": {
          "base_uri": "https://localhost:8080/"
        },
        "id": "a1p4ctsexIHs",
        "outputId": "6230354e-951e-44d1-c16b-fe1020fee514"
      },
      "execution_count": 70,
      "outputs": [
        {
          "output_type": "execute_result",
          "data": {
            "text/plain": [
              "array([[483,  25],\n",
              "       [  0,  71]])"
            ]
          },
          "metadata": {},
          "execution_count": 70
        }
      ]
    },
    {
      "cell_type": "code",
      "source": [
        "print('accuracy: ', accuracy_score(y_pred , y_test))\n",
        "print(\"Precision : \", precision_score(y_pred,y_test, average = 'weighted'))\n",
        "print(\"Recall : \", recall_score(y_pred,y_test, average = 'weighted'))"
      ],
      "metadata": {
        "colab": {
          "base_uri": "https://localhost:8080/"
        },
        "id": "pT0bwQjTx4Qs",
        "outputId": "0cb6a5a5-9170-4e17-bff2-302d6cf525bc"
      },
      "execution_count": 71,
      "outputs": [
        {
          "output_type": "stream",
          "name": "stdout",
          "text": [
            "accuracy:  0.9568221070811744\n",
            "Precision :  0.9680663500287852\n",
            "Recall :  0.9568221070811744\n"
          ]
        }
      ]
    },
    {
      "cell_type": "markdown",
      "source": [
        "# K neighbors classifier"
      ],
      "metadata": {
        "id": "t78uOKfJyGkA"
      }
    },
    {
      "cell_type": "code",
      "source": [
        "from sklearn.neighbors import KNeighborsClassifier\n",
        "knc = KNeighborsClassifier()\n",
        "model_2 = Pipeline([('vectorizer' , tfidf) , ('classifier' , knc)])\n",
        "model_2.fit(x_train , y_train)\n",
        "\n",
        "y_pred = model_2.predict(x_test)\n",
        "\n",
        "print(confusion_matrix(y_pred,y_test))\n",
        "print(\"Accuracy : \", accuracy_score(y_pred,y_test))\n",
        "print(\"Precision : \", precision_score(y_pred,y_test, average = 'weighted'))\n",
        "print(\"Recall : \", recall_score(y_pred,y_test, average = 'weighted'))\n"
      ],
      "metadata": {
        "colab": {
          "base_uri": "https://localhost:8080/"
        },
        "id": "uF28e-16yJLF",
        "outputId": "705193cd-8b67-4d75-9f2d-26375baa46d4"
      },
      "execution_count": 75,
      "outputs": [
        {
          "output_type": "stream",
          "name": "stdout",
          "text": [
            "[[465   7]\n",
            " [ 18  89]]\n",
            "Accuracy :  0.9568221070811744\n",
            "Precision :  0.9561448265196294\n",
            "Recall :  0.9568221070811744\n"
          ]
        }
      ]
    },
    {
      "cell_type": "markdown",
      "source": [
        "# Ada Boost Classifier"
      ],
      "metadata": {
        "id": "S5yOkM7PzBxn"
      }
    },
    {
      "cell_type": "code",
      "source": [
        "from sklearn.ensemble import AdaBoostClassifier\n",
        "ada = AdaBoostClassifier()\n",
        "model_3 = Pipeline([('vectorizer' , tfidf),('classifier' , ada)])\n",
        "model_3.fit(x_train , y_train)\n",
        "\n",
        "y_pred = model_3.predict(x_test)\n",
        "\n",
        "print(confusion_matrix(y_pred,y_test))\n",
        "print(\"Accuracy : \", accuracy_score(y_pred,y_test))\n",
        "print(\"Precision : \", precision_score(y_pred,y_test, average = 'weighted'))\n",
        "print(\"Recall : \", recall_score(y_pred,y_test, average = 'weighted'))\n"
      ],
      "metadata": {
        "colab": {
          "base_uri": "https://localhost:8080/"
        },
        "id": "VK8utyH2zBn4",
        "outputId": "028457c7-a7df-45c5-ec56-8168c209fa99"
      },
      "execution_count": 77,
      "outputs": [
        {
          "output_type": "stream",
          "name": "stdout",
          "text": [
            "[[480   6]\n",
            " [  3  90]]\n",
            "Accuracy :  0.9844559585492227\n",
            "Precision :  0.9847476104656776\n",
            "Recall :  0.9844559585492227\n"
          ]
        }
      ]
    },
    {
      "cell_type": "markdown",
      "source": [
        "# Naive Bayes"
      ],
      "metadata": {
        "id": "F468JZTG0Y5b"
      }
    },
    {
      "cell_type": "code",
      "source": [
        "mnb = MultinomialNB()\n",
        "model_4 = Pipeline([('vectorizer' , tfidf),('classifier' , mnb)])\n",
        "model_4.fit(x_train , y_train)\n",
        "\n",
        "y_pred = model_4.predict(x_test)\n",
        "\n",
        "print(confusion_matrix(y_pred,y_test))\n",
        "print(\"Accuracy : \", accuracy_score(y_pred,y_test))\n",
        "print(\"Precision : \", precision_score(y_pred,y_test, average = 'weighted'))\n",
        "print(\"Recall : \", recall_score(y_pred,y_test, average = 'weighted'))\n"
      ],
      "metadata": {
        "colab": {
          "base_uri": "https://localhost:8080/"
        },
        "id": "oYrGgN9Hy_uK",
        "outputId": "52487ba9-9887-44df-9f0f-0b68103b882f"
      },
      "execution_count": 78,
      "outputs": [
        {
          "output_type": "stream",
          "name": "stdout",
          "text": [
            "[[483  84]\n",
            " [  0  12]]\n",
            "Accuracy :  0.8549222797927462\n",
            "Precision :  0.9818652849740933\n",
            "Recall :  0.8549222797927462\n"
          ]
        }
      ]
    },
    {
      "cell_type": "markdown",
      "source": [
        "# Gradient Boosting Classifier"
      ],
      "metadata": {
        "id": "YfyRP0b60mrq"
      }
    },
    {
      "cell_type": "code",
      "source": [
        "from sklearn.ensemble import GradientBoostingClassifier\n",
        "gbc = GradientBoostingClassifier()\n",
        "model_5 = Pipeline([('vectorizer' , tfidf),('classifier' , gbc)])\n",
        "model_5.fit(x_train , y_train)\n",
        "\n",
        "y_pred = model_3.predict(x_test)\n",
        "\n",
        "print(confusion_matrix(y_pred,y_test))\n",
        "print(\"Accuracy : \", accuracy_score(y_pred,y_test))\n",
        "print(\"Precision : \", precision_score(y_pred,y_test, average = 'weighted'))\n",
        "print(\"Recall : \", recall_score(y_pred,y_test, average = 'weighted'))\n"
      ],
      "metadata": {
        "colab": {
          "base_uri": "https://localhost:8080/"
        },
        "id": "n9pkI8Cx0l2r",
        "outputId": "4e242548-140a-4f1e-b0e2-e32f567726ad"
      },
      "execution_count": 80,
      "outputs": [
        {
          "output_type": "stream",
          "name": "stdout",
          "text": [
            "[[480   6]\n",
            " [  3  90]]\n",
            "Accuracy :  0.9844559585492227\n",
            "Precision :  0.9847476104656776\n",
            "Recall :  0.9844559585492227\n"
          ]
        }
      ]
    },
    {
      "cell_type": "markdown",
      "source": [
        "# Random Forest Classifier"
      ],
      "metadata": {
        "id": "SDoblQPe1Y_w"
      }
    },
    {
      "cell_type": "code",
      "source": [
        "from sklearn.ensemble import RandomForestClassifier as RFC\n",
        "rfc = RFC(random_state= 42)\n",
        "model_5 = Pipeline([('vectorizer' , tfidf),('classifier' , rfc)])\n",
        "model_5.fit(x_train , y_train)\n",
        "\n",
        "y_pred = model_5.predict(x_test)\n",
        "\n",
        "print(confusion_matrix(y_pred,y_test))\n",
        "print(\"Accuracy : \", accuracy_score(y_pred,y_test))\n",
        "print(\"Precision : \", precision_score(y_pred,y_test, average = 'weighted'))\n",
        "print(\"Recall : \", recall_score(y_pred,y_test, average = 'weighted'))\n",
        "\n"
      ],
      "metadata": {
        "colab": {
          "base_uri": "https://localhost:8080/"
        },
        "id": "lWlQx0KQ1YAX",
        "outputId": "0e03376a-53f9-4e26-a575-22f8befbc189"
      },
      "execution_count": 88,
      "outputs": [
        {
          "output_type": "stream",
          "name": "stdout",
          "text": [
            "[[483  15]\n",
            " [  0  81]]\n",
            "Accuracy :  0.9740932642487047\n",
            "Precision :  0.9781411917098446\n",
            "Recall :  0.9740932642487047\n"
          ]
        }
      ]
    },
    {
      "cell_type": "markdown",
      "source": [
        "# Model Testing"
      ],
      "metadata": {
        "id": "YgZLeXza08zU"
      }
    },
    {
      "cell_type": "code",
      "source": [
        "result = model_5.predict(['Today we want to inform you that the application period for 15.000 free Udacity Scholarships in Data Science is now open! Please apply by November 16th, 2020 via https://www.udacity.com/bertelsmann-tech-scholarships.'])\n",
        "result[0]"
      ],
      "metadata": {
        "colab": {
          "base_uri": "https://localhost:8080/",
          "height": 36
        },
        "id": "42kjEtdG029h",
        "outputId": "a5bde1be-3ed6-4649-9201-836b8b8fc526"
      },
      "execution_count": 91,
      "outputs": [
        {
          "output_type": "execute_result",
          "data": {
            "text/plain": [
              "'SPAM'"
            ],
            "application/vnd.google.colaboratory.intrinsic+json": {
              "type": "string"
            }
          },
          "metadata": {},
          "execution_count": 91
        }
      ]
    }
  ]
}